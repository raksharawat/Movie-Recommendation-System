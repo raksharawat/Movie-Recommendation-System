{
 "cells": [
  {
   "cell_type": "markdown",
   "metadata": {
    "id": "QDgY3AR1TtkC"
   },
   "source": [
    "# **Import All Required Libraries**"
   ]
  },
  {
   "cell_type": "code",
   "execution_count": 1,
   "metadata": {
    "id": "JzoZYpjHSKrk"
   },
   "outputs": [],
   "source": [
    "import pandas as pd\n",
    "import numpy as np\n",
    "import matplotlib.pyplot as plt\n",
    "%matplotlib inline"
   ]
  },
  {
   "cell_type": "code",
   "execution_count": 2,
   "metadata": {
    "id": "3abqlMhCSuVW"
   },
   "outputs": [],
   "source": [
    "from ast import literal_eval"
   ]
  },
  {
   "cell_type": "code",
   "execution_count": 3,
   "metadata": {
    "id": "LB8LXEN_SyNX"
   },
   "outputs": [],
   "source": [
    "import warnings\n",
    "warnings.simplefilter('ignore')"
   ]
  },
  {
   "cell_type": "code",
   "execution_count": 4,
   "metadata": {
    "colab": {
     "base_uri": "https://localhost:8080/"
    },
    "id": "A2uYhCjfS5bK",
    "outputId": "d7e791fe-a5be-4fdd-dcbd-982ba7b3ea2e"
   },
   "outputs": [
    {
     "name": "stderr",
     "output_type": "stream",
     "text": [
      "[nltk_data] Downloading package wordnet to C:\\Users\\Raksha\n",
      "[nltk_data]     Rawat\\AppData\\Roaming\\nltk_data...\n",
      "[nltk_data]   Package wordnet is already up-to-date!\n"
     ]
    }
   ],
   "source": [
    "import nltk\n",
    "nltk.download('wordnet')\n",
    "from nltk.corpus import wordnet\n",
    "from nltk.stem.snowball import SnowballStemmer\n",
    "from nltk.stem import WordNetLemmatizer\n",
    "import spacy"
   ]
  },
  {
   "cell_type": "code",
   "execution_count": 5,
   "metadata": {
    "id": "WJoNKsedSoJs"
   },
   "outputs": [],
   "source": [
    "from sklearn.feature_extraction.text import TfidfVectorizer, CountVectorizer\n",
    "from sklearn.metrics.pairwise import linear_kernel, cosine_similarity"
   ]
  },
  {
   "cell_type": "code",
   "execution_count": 6,
   "metadata": {
    "id": "tUjYcWIATIN0"
   },
   "outputs": [],
   "source": [
    "from surprise import Reader, Dataset, KNNBasic, SVD, NMF\n",
    "from surprise.model_selection import cross_validate, GridSearchCV"
   ]
  },
  {
   "cell_type": "code",
   "execution_count": 7,
   "metadata": {
    "id": "jZrwN4VDepX6"
   },
   "outputs": [],
   "source": [
    "from pyspark.ml.evaluation import RegressionEvaluator\n",
    "from pyspark.ml.recommendation import ALS\n",
    "from pyspark.ml.tuning import ParamGridBuilder, CrossValidator\n",
    "from pyspark.sql.functions import col, explode\n",
    "from pyspark.sql import SparkSession"
   ]
  },
  {
   "cell_type": "code",
   "execution_count": null,
   "metadata": {
    "id": "rjixdl2fephJ"
   },
   "outputs": [],
   "source": []
  },
  {
   "cell_type": "markdown",
   "metadata": {
    "id": "d6rBcpaRTL7s"
   },
   "source": [
    "# **Content Filtering Based on Metadata**"
   ]
  },
  {
   "cell_type": "code",
   "execution_count": 8,
   "metadata": {
    "colab": {
     "base_uri": "https://localhost:8080/",
     "height": 261
    },
    "id": "N7cmLihATTY8",
    "outputId": "cb027cf7-0096-4fbf-dc3e-b855673f20cd"
   },
   "outputs": [
    {
     "data": {
      "text/html": [
       "<div>\n",
       "<style scoped>\n",
       "    .dataframe tbody tr th:only-of-type {\n",
       "        vertical-align: middle;\n",
       "    }\n",
       "\n",
       "    .dataframe tbody tr th {\n",
       "        vertical-align: top;\n",
       "    }\n",
       "\n",
       "    .dataframe thead th {\n",
       "        text-align: right;\n",
       "    }\n",
       "</style>\n",
       "<table border=\"1\" class=\"dataframe\">\n",
       "  <thead>\n",
       "    <tr style=\"text-align: right;\">\n",
       "      <th></th>\n",
       "      <th>adult</th>\n",
       "      <th>belongs_to_collection</th>\n",
       "      <th>budget</th>\n",
       "      <th>genres</th>\n",
       "      <th>homepage</th>\n",
       "      <th>id</th>\n",
       "      <th>imdb_id</th>\n",
       "      <th>original_language</th>\n",
       "      <th>original_title</th>\n",
       "      <th>overview</th>\n",
       "      <th>...</th>\n",
       "      <th>release_date</th>\n",
       "      <th>revenue</th>\n",
       "      <th>runtime</th>\n",
       "      <th>spoken_languages</th>\n",
       "      <th>status</th>\n",
       "      <th>tagline</th>\n",
       "      <th>title</th>\n",
       "      <th>video</th>\n",
       "      <th>vote_average</th>\n",
       "      <th>vote_count</th>\n",
       "    </tr>\n",
       "  </thead>\n",
       "  <tbody>\n",
       "    <tr>\n",
       "      <th>0</th>\n",
       "      <td>False</td>\n",
       "      <td>{'id': 10194, 'name': 'Toy Story Collection', ...</td>\n",
       "      <td>30000000</td>\n",
       "      <td>[{'id': 16, 'name': 'Animation'}, {'id': 35, '...</td>\n",
       "      <td>http://toystory.disney.com/toy-story</td>\n",
       "      <td>862</td>\n",
       "      <td>tt0114709</td>\n",
       "      <td>en</td>\n",
       "      <td>Toy Story</td>\n",
       "      <td>Led by Woody, Andy's toys live happily in his ...</td>\n",
       "      <td>...</td>\n",
       "      <td>1995-10-30</td>\n",
       "      <td>373554033.0</td>\n",
       "      <td>81.0</td>\n",
       "      <td>[{'iso_639_1': 'en', 'name': 'English'}]</td>\n",
       "      <td>Released</td>\n",
       "      <td>NaN</td>\n",
       "      <td>Toy Story</td>\n",
       "      <td>False</td>\n",
       "      <td>7.7</td>\n",
       "      <td>5415.0</td>\n",
       "    </tr>\n",
       "  </tbody>\n",
       "</table>\n",
       "<p>1 rows × 24 columns</p>\n",
       "</div>"
      ],
      "text/plain": [
       "   adult                              belongs_to_collection    budget  \\\n",
       "0  False  {'id': 10194, 'name': 'Toy Story Collection', ...  30000000   \n",
       "\n",
       "                                              genres  \\\n",
       "0  [{'id': 16, 'name': 'Animation'}, {'id': 35, '...   \n",
       "\n",
       "                               homepage   id    imdb_id original_language  \\\n",
       "0  http://toystory.disney.com/toy-story  862  tt0114709                en   \n",
       "\n",
       "  original_title                                           overview  ...  \\\n",
       "0      Toy Story  Led by Woody, Andy's toys live happily in his ...  ...   \n",
       "\n",
       "  release_date      revenue runtime                          spoken_languages  \\\n",
       "0   1995-10-30  373554033.0    81.0  [{'iso_639_1': 'en', 'name': 'English'}]   \n",
       "\n",
       "     status  tagline      title  video vote_average vote_count  \n",
       "0  Released      NaN  Toy Story  False          7.7     5415.0  \n",
       "\n",
       "[1 rows x 24 columns]"
      ]
     },
     "execution_count": 8,
     "metadata": {},
     "output_type": "execute_result"
    }
   ],
   "source": [
    "df = pd.read_csv('movies_metadata.csv')\n",
    "df.head(1)"
   ]
  },
  {
   "cell_type": "code",
   "execution_count": 9,
   "metadata": {
    "colab": {
     "base_uri": "https://localhost:8080/"
    },
    "id": "Jma7YQTfsqD2",
    "outputId": "429908b6-9129-48f6-aa6e-aa1aa6dd9187"
   },
   "outputs": [
    {
     "data": {
      "text/plain": [
       "Index(['adult', 'belongs_to_collection', 'budget', 'genres', 'homepage', 'id',\n",
       "       'imdb_id', 'original_language', 'original_title', 'overview',\n",
       "       'popularity', 'poster_path', 'production_companies',\n",
       "       'production_countries', 'release_date', 'revenue', 'runtime',\n",
       "       'spoken_languages', 'status', 'tagline', 'title', 'video',\n",
       "       'vote_average', 'vote_count'],\n",
       "      dtype='object')"
      ]
     },
     "execution_count": 9,
     "metadata": {},
     "output_type": "execute_result"
    }
   ],
   "source": [
    "df.columns"
   ]
  },
  {
   "cell_type": "code",
   "execution_count": 10,
   "metadata": {
    "id": "Yvv-1-v8TTpl"
   },
   "outputs": [],
   "source": [
    "def convert_int(x):\n",
    "    try:\n",
    "        return int(x)\n",
    "    except:\n",
    "        return np.nan"
   ]
  },
  {
   "cell_type": "code",
   "execution_count": 11,
   "metadata": {
    "id": "NfFHHjxnTy-L"
   },
   "outputs": [],
   "source": [
    "df['id'] = df['id'].apply(convert_int)"
   ]
  },
  {
   "cell_type": "code",
   "execution_count": 12,
   "metadata": {
    "colab": {
     "base_uri": "https://localhost:8080/",
     "height": 445
    },
    "id": "mkDdEzzDT_8F",
    "outputId": "06da8a68-d511-4593-85a7-d9b25f8a2e10"
   },
   "outputs": [
    {
     "data": {
      "text/html": [
       "<div>\n",
       "<style scoped>\n",
       "    .dataframe tbody tr th:only-of-type {\n",
       "        vertical-align: middle;\n",
       "    }\n",
       "\n",
       "    .dataframe tbody tr th {\n",
       "        vertical-align: top;\n",
       "    }\n",
       "\n",
       "    .dataframe thead th {\n",
       "        text-align: right;\n",
       "    }\n",
       "</style>\n",
       "<table border=\"1\" class=\"dataframe\">\n",
       "  <thead>\n",
       "    <tr style=\"text-align: right;\">\n",
       "      <th></th>\n",
       "      <th>adult</th>\n",
       "      <th>belongs_to_collection</th>\n",
       "      <th>budget</th>\n",
       "      <th>genres</th>\n",
       "      <th>homepage</th>\n",
       "      <th>id</th>\n",
       "      <th>imdb_id</th>\n",
       "      <th>original_language</th>\n",
       "      <th>original_title</th>\n",
       "      <th>overview</th>\n",
       "      <th>...</th>\n",
       "      <th>release_date</th>\n",
       "      <th>revenue</th>\n",
       "      <th>runtime</th>\n",
       "      <th>spoken_languages</th>\n",
       "      <th>status</th>\n",
       "      <th>tagline</th>\n",
       "      <th>title</th>\n",
       "      <th>video</th>\n",
       "      <th>vote_average</th>\n",
       "      <th>vote_count</th>\n",
       "    </tr>\n",
       "  </thead>\n",
       "  <tbody>\n",
       "    <tr>\n",
       "      <th>19730</th>\n",
       "      <td>- Written by Ørnås</td>\n",
       "      <td>0.065736</td>\n",
       "      <td>/ff9qCepilowshEtG2GYWwzt2bs4.jpg</td>\n",
       "      <td>[{'name': 'Carousel Productions', 'id': 11176}...</td>\n",
       "      <td>[{'iso_3166_1': 'CA', 'name': 'Canada'}, {'iso...</td>\n",
       "      <td>NaN</td>\n",
       "      <td>0</td>\n",
       "      <td>104.0</td>\n",
       "      <td>[{'iso_639_1': 'en', 'name': 'English'}]</td>\n",
       "      <td>Released</td>\n",
       "      <td>...</td>\n",
       "      <td>1</td>\n",
       "      <td>NaN</td>\n",
       "      <td>NaN</td>\n",
       "      <td>NaN</td>\n",
       "      <td>NaN</td>\n",
       "      <td>NaN</td>\n",
       "      <td>NaN</td>\n",
       "      <td>NaN</td>\n",
       "      <td>NaN</td>\n",
       "      <td>NaN</td>\n",
       "    </tr>\n",
       "    <tr>\n",
       "      <th>29503</th>\n",
       "      <td>Rune Balot goes to a casino connected to the ...</td>\n",
       "      <td>1.931659</td>\n",
       "      <td>/zV8bHuSL6WXoD6FWogP9j4x80bL.jpg</td>\n",
       "      <td>[{'name': 'Aniplex', 'id': 2883}, {'name': 'Go...</td>\n",
       "      <td>[{'iso_3166_1': 'US', 'name': 'United States o...</td>\n",
       "      <td>NaN</td>\n",
       "      <td>0</td>\n",
       "      <td>68.0</td>\n",
       "      <td>[{'iso_639_1': 'ja', 'name': '日本語'}]</td>\n",
       "      <td>Released</td>\n",
       "      <td>...</td>\n",
       "      <td>12</td>\n",
       "      <td>NaN</td>\n",
       "      <td>NaN</td>\n",
       "      <td>NaN</td>\n",
       "      <td>NaN</td>\n",
       "      <td>NaN</td>\n",
       "      <td>NaN</td>\n",
       "      <td>NaN</td>\n",
       "      <td>NaN</td>\n",
       "      <td>NaN</td>\n",
       "    </tr>\n",
       "    <tr>\n",
       "      <th>35587</th>\n",
       "      <td>Avalanche Sharks tells the story of a bikini ...</td>\n",
       "      <td>2.185485</td>\n",
       "      <td>/zaSf5OG7V8X8gqFvly88zDdRm46.jpg</td>\n",
       "      <td>[{'name': 'Odyssey Media', 'id': 17161}, {'nam...</td>\n",
       "      <td>[{'iso_3166_1': 'CA', 'name': 'Canada'}]</td>\n",
       "      <td>NaN</td>\n",
       "      <td>0</td>\n",
       "      <td>82.0</td>\n",
       "      <td>[{'iso_639_1': 'en', 'name': 'English'}]</td>\n",
       "      <td>Released</td>\n",
       "      <td>...</td>\n",
       "      <td>22</td>\n",
       "      <td>NaN</td>\n",
       "      <td>NaN</td>\n",
       "      <td>NaN</td>\n",
       "      <td>NaN</td>\n",
       "      <td>NaN</td>\n",
       "      <td>NaN</td>\n",
       "      <td>NaN</td>\n",
       "      <td>NaN</td>\n",
       "      <td>NaN</td>\n",
       "    </tr>\n",
       "  </tbody>\n",
       "</table>\n",
       "<p>3 rows × 24 columns</p>\n",
       "</div>"
      ],
      "text/plain": [
       "                                                   adult  \\\n",
       "19730                                 - Written by Ørnås   \n",
       "29503   Rune Balot goes to a casino connected to the ...   \n",
       "35587   Avalanche Sharks tells the story of a bikini ...   \n",
       "\n",
       "      belongs_to_collection                            budget  \\\n",
       "19730              0.065736  /ff9qCepilowshEtG2GYWwzt2bs4.jpg   \n",
       "29503              1.931659  /zV8bHuSL6WXoD6FWogP9j4x80bL.jpg   \n",
       "35587              2.185485  /zaSf5OG7V8X8gqFvly88zDdRm46.jpg   \n",
       "\n",
       "                                                  genres  \\\n",
       "19730  [{'name': 'Carousel Productions', 'id': 11176}...   \n",
       "29503  [{'name': 'Aniplex', 'id': 2883}, {'name': 'Go...   \n",
       "35587  [{'name': 'Odyssey Media', 'id': 17161}, {'nam...   \n",
       "\n",
       "                                                homepage  id imdb_id  \\\n",
       "19730  [{'iso_3166_1': 'CA', 'name': 'Canada'}, {'iso... NaN       0   \n",
       "29503  [{'iso_3166_1': 'US', 'name': 'United States o... NaN       0   \n",
       "35587           [{'iso_3166_1': 'CA', 'name': 'Canada'}] NaN       0   \n",
       "\n",
       "      original_language                            original_title  overview  \\\n",
       "19730             104.0  [{'iso_639_1': 'en', 'name': 'English'}]  Released   \n",
       "29503              68.0      [{'iso_639_1': 'ja', 'name': '日本語'}]  Released   \n",
       "35587              82.0  [{'iso_639_1': 'en', 'name': 'English'}]  Released   \n",
       "\n",
       "       ... release_date revenue runtime spoken_languages status  tagline  \\\n",
       "19730  ...            1     NaN     NaN              NaN    NaN      NaN   \n",
       "29503  ...           12     NaN     NaN              NaN    NaN      NaN   \n",
       "35587  ...           22     NaN     NaN              NaN    NaN      NaN   \n",
       "\n",
       "       title video vote_average vote_count  \n",
       "19730    NaN   NaN          NaN        NaN  \n",
       "29503    NaN   NaN          NaN        NaN  \n",
       "35587    NaN   NaN          NaN        NaN  \n",
       "\n",
       "[3 rows x 24 columns]"
      ]
     },
     "execution_count": 12,
     "metadata": {},
     "output_type": "execute_result"
    }
   ],
   "source": [
    "df[df['id'].isnull()]"
   ]
  },
  {
   "cell_type": "code",
   "execution_count": 13,
   "metadata": {
    "id": "Ko-LwwXuUODG"
   },
   "outputs": [],
   "source": [
    "df = df.drop([19730, 29503, 35587])"
   ]
  },
  {
   "cell_type": "code",
   "execution_count": 14,
   "metadata": {
    "id": "FynaeeJ2WWYa"
   },
   "outputs": [],
   "source": [
    "credits = pd.read_csv('credits.csv')\n",
    "keywords = pd.read_csv('keywords.csv')"
   ]
  },
  {
   "cell_type": "code",
   "execution_count": 15,
   "metadata": {
    "id": "2bxHnkVBUYhE"
   },
   "outputs": [],
   "source": [
    "keywords['id'] = keywords['id'].astype('int')\n",
    "credits['id'] = credits['id'].astype('int')\n",
    "df['id'] = df['id'].astype('int')"
   ]
  },
  {
   "cell_type": "code",
   "execution_count": 16,
   "metadata": {
    "id": "MtuFf1vnUbLh"
   },
   "outputs": [],
   "source": [
    "df = df.merge(credits, on='id')\n",
    "df = df.merge(keywords, on='id')"
   ]
  },
  {
   "cell_type": "code",
   "execution_count": 17,
   "metadata": {
    "id": "JM3hfdd0CEAe"
   },
   "outputs": [],
   "source": [
    "df.drop_duplicates(subset= \"title\", keep = 'first', inplace = True)"
   ]
  },
  {
   "cell_type": "code",
   "execution_count": 18,
   "metadata": {
    "id": "8yMospM0UeNd"
   },
   "outputs": [],
   "source": [
    "links = pd.read_csv('links_small.csv')"
   ]
  },
  {
   "cell_type": "code",
   "execution_count": 19,
   "metadata": {
    "colab": {
     "base_uri": "https://localhost:8080/"
    },
    "id": "_KFlyYKYyOT3",
    "outputId": "72f2ed14-ef23-48f0-f13d-98acad907ba0"
   },
   "outputs": [
    {
     "name": "stdout",
     "output_type": "stream",
     "text": [
      "<class 'pandas.core.frame.DataFrame'>\n",
      "RangeIndex: 9125 entries, 0 to 9124\n",
      "Data columns (total 3 columns):\n",
      " #   Column   Non-Null Count  Dtype  \n",
      "---  ------   --------------  -----  \n",
      " 0   movieId  9125 non-null   int64  \n",
      " 1   imdbId   9125 non-null   int64  \n",
      " 2   tmdbId   9112 non-null   float64\n",
      "dtypes: float64(1), int64(2)\n",
      "memory usage: 214.0 KB\n"
     ]
    }
   ],
   "source": [
    "links.info()"
   ]
  },
  {
   "cell_type": "code",
   "execution_count": 20,
   "metadata": {
    "id": "zAwp1lhNyG4L"
   },
   "outputs": [],
   "source": [
    "links = links[links['tmdbId'].notnull()]['tmdbId'].astype('int')"
   ]
  },
  {
   "cell_type": "code",
   "execution_count": 21,
   "metadata": {
    "colab": {
     "base_uri": "https://localhost:8080/"
    },
    "id": "auw2RP5TU72o",
    "outputId": "9362ebb3-18a6-4cc1-a26d-784cdd1755e5"
   },
   "outputs": [
    {
     "data": {
      "text/plain": [
       "(8695, 27)"
      ]
     },
     "execution_count": 21,
     "metadata": {},
     "output_type": "execute_result"
    }
   ],
   "source": [
    "smd = df[df['id'].isin(links)]\n",
    "smd.shape"
   ]
  },
  {
   "cell_type": "code",
   "execution_count": 22,
   "metadata": {
    "id": "Oj6z5SILeDz3"
   },
   "outputs": [],
   "source": [
    "smd['year'] = pd.to_datetime(smd['release_date'], errors='coerce').apply(lambda x: str(x).split('-')[0] if x != np.nan else np.nan)"
   ]
  },
  {
   "cell_type": "code",
   "execution_count": 23,
   "metadata": {
    "id": "biwaXQVEUGHe"
   },
   "outputs": [],
   "source": [
    "smd['genres'] = smd['genres'].fillna('[]').apply(literal_eval).apply(lambda x: [i['name'] for i in x] if isinstance(x, list) else [])"
   ]
  },
  {
   "cell_type": "code",
   "execution_count": 24,
   "metadata": {
    "id": "vzCQi4kvVEnt"
   },
   "outputs": [],
   "source": [
    "smd['cast'] = smd['cast'].apply(literal_eval)\n",
    "smd['crew'] = smd['crew'].apply(literal_eval)\n",
    "smd['cast_size'] = smd['cast'].apply(lambda x: len(x))\n",
    "smd['crew_size'] = smd['crew'].apply(lambda x: len(x))"
   ]
  },
  {
   "cell_type": "code",
   "execution_count": 25,
   "metadata": {
    "id": "orhkOBFGVLQP"
   },
   "outputs": [],
   "source": [
    "def get_director(x):\n",
    "    for i in x:\n",
    "        if i['job'] == 'Director':\n",
    "            return i['name']\n",
    "    return np.nan"
   ]
  },
  {
   "cell_type": "code",
   "execution_count": 26,
   "metadata": {
    "id": "3-hFGUheVPag"
   },
   "outputs": [],
   "source": [
    "smd['director'] = smd['crew'].apply(get_director)"
   ]
  },
  {
   "cell_type": "code",
   "execution_count": 27,
   "metadata": {
    "colab": {
     "base_uri": "https://localhost:8080/"
    },
    "id": "zgekQ0ZaVfzE",
    "outputId": "71aec118-f094-41c0-fb49-c3f6e4a971a5"
   },
   "outputs": [
    {
     "data": {
      "text/plain": [
       "0    John Lasseter\n",
       "1     Joe Johnston\n",
       "2    Howard Deutch\n",
       "Name: director, dtype: object"
      ]
     },
     "execution_count": 27,
     "metadata": {},
     "output_type": "execute_result"
    }
   ],
   "source": [
    "smd['director'].head(3)"
   ]
  },
  {
   "cell_type": "code",
   "execution_count": 28,
   "metadata": {
    "id": "S-JVh7c7Vry8"
   },
   "outputs": [],
   "source": [
    "smd['director'] = smd['director'].astype('str').apply(lambda x: str.lower(x.replace(\" \", \"\")))"
   ]
  },
  {
   "cell_type": "code",
   "execution_count": 29,
   "metadata": {
    "id": "YZv2od0iVsgr"
   },
   "outputs": [],
   "source": [
    "smd['director'] = smd['director'].apply(lambda x: [x, x])"
   ]
  },
  {
   "cell_type": "code",
   "execution_count": 30,
   "metadata": {
    "colab": {
     "base_uri": "https://localhost:8080/"
    },
    "id": "EUGorKnHVw6R",
    "outputId": "d17447ec-3132-4234-ae42-2ee62b72b909"
   },
   "outputs": [
    {
     "data": {
      "text/plain": [
       "0    [johnlasseter, johnlasseter]\n",
       "1      [joejohnston, joejohnston]\n",
       "2    [howarddeutch, howarddeutch]\n",
       "Name: director, dtype: object"
      ]
     },
     "execution_count": 30,
     "metadata": {},
     "output_type": "execute_result"
    }
   ],
   "source": [
    "smd['director'].head(3)"
   ]
  },
  {
   "cell_type": "code",
   "execution_count": 31,
   "metadata": {
    "id": "HVZzcurtVhN-"
   },
   "outputs": [],
   "source": [
    "smd['cast'] = smd['cast'].apply(lambda x: [i['name'] for i in x] if isinstance(x, list) else [])"
   ]
  },
  {
   "cell_type": "code",
   "execution_count": 32,
   "metadata": {
    "colab": {
     "base_uri": "https://localhost:8080/"
    },
    "id": "_6WPj65wVjkw",
    "outputId": "907bb1aa-d55d-46bd-e69c-4c1b818fb6ec"
   },
   "outputs": [
    {
     "data": {
      "text/plain": [
       "0    [Tom Hanks, Tim Allen, Don Rickles, Jim Varney...\n",
       "1    [Robin Williams, Jonathan Hyde, Kirsten Dunst,...\n",
       "2    [Walter Matthau, Jack Lemmon, Ann-Margret, Sop...\n",
       "3    [Whitney Houston, Angela Bassett, Loretta Devi...\n",
       "Name: cast, dtype: object"
      ]
     },
     "execution_count": 32,
     "metadata": {},
     "output_type": "execute_result"
    }
   ],
   "source": [
    "smd['cast'].head(4)"
   ]
  },
  {
   "cell_type": "code",
   "execution_count": 33,
   "metadata": {
    "id": "ZB-cEqNbVl7j"
   },
   "outputs": [],
   "source": [
    "smd['cast'] = smd['cast'].apply(lambda x: x[:3] if len(x) >=3 else x)"
   ]
  },
  {
   "cell_type": "code",
   "execution_count": 34,
   "metadata": {
    "id": "1l0iakfqVnP7"
   },
   "outputs": [],
   "source": [
    "smd['cast'] = smd['cast'].apply(lambda x: [str.lower(i.replace(\" \", \"\")) for i in x])"
   ]
  },
  {
   "cell_type": "markdown",
   "metadata": {
    "id": "9WKL-CNLCaK4"
   },
   "source": [
    "Keywords Processing"
   ]
  },
  {
   "cell_type": "code",
   "execution_count": 35,
   "metadata": {
    "id": "Ga8iYrF5CQRY"
   },
   "outputs": [],
   "source": [
    "smd['keywords'] = smd['keywords'].apply(literal_eval)\n",
    "smd['keywords'] = smd['keywords'].apply(lambda x: [i['name'] for i in x] if isinstance(x, list) else [])"
   ]
  },
  {
   "cell_type": "code",
   "execution_count": 36,
   "metadata": {
    "colab": {
     "base_uri": "https://localhost:8080/"
    },
    "id": "OzxiwGzZGRc3",
    "outputId": "e2e79a08-99ff-42b2-8288-b8bc8c40725d"
   },
   "outputs": [
    {
     "data": {
      "text/plain": [
       "0        [jealousy, toy, boy, friendship, friends, riva...\n",
       "1        [board game, disappearance, based on children'...\n",
       "2        [fishing, best friend, duringcreditsstinger, o...\n",
       "3        [based on novel, interracial relationship, sin...\n",
       "4        [baby, midlife crisis, confidence, aging, daug...\n",
       "                               ...                        \n",
       "40952                           [friendship, brick making]\n",
       "41172                                          [bollywood]\n",
       "41225                                          [bollywood]\n",
       "41391    [monster, godzilla, giant monster, destruction...\n",
       "41669                                 [music, documentary]\n",
       "Name: keywords, Length: 8695, dtype: object"
      ]
     },
     "execution_count": 36,
     "metadata": {},
     "output_type": "execute_result"
    }
   ],
   "source": [
    "smd['keywords']"
   ]
  },
  {
   "cell_type": "code",
   "execution_count": 37,
   "metadata": {
    "id": "hiIWfMix7NA1"
   },
   "outputs": [],
   "source": [
    "s = smd.apply(lambda x: pd.Series(x['keywords']),axis=1).stack().reset_index(level=1, drop=True)\n",
    "s.name = 'keyword'"
   ]
  },
  {
   "cell_type": "code",
   "execution_count": 38,
   "metadata": {
    "colab": {
     "base_uri": "https://localhost:8080/"
    },
    "id": "TW3fflGw9JXY",
    "outputId": "03945183-48c4-4451-ae63-23fc45830361"
   },
   "outputs": [
    {
     "data": {
      "text/plain": [
       "independent film        596\n",
       "woman director          526\n",
       "murder                  370\n",
       "duringcreditsstinger    307\n",
       "based on novel          292\n",
       "Name: keyword, dtype: int64"
      ]
     },
     "execution_count": 38,
     "metadata": {},
     "output_type": "execute_result"
    }
   ],
   "source": [
    "s = s.value_counts()\n",
    "s[:5]"
   ]
  },
  {
   "cell_type": "code",
   "execution_count": 39,
   "metadata": {
    "id": "2DBjnlcj9JiG"
   },
   "outputs": [],
   "source": [
    "s = s[s > 1]"
   ]
  },
  {
   "cell_type": "code",
   "execution_count": 40,
   "metadata": {
    "id": "eNZqJjLq7MxL"
   },
   "outputs": [],
   "source": [
    "def filter_keywords(x):\n",
    "    words = []\n",
    "    for i in x:\n",
    "        if i in s:\n",
    "            words.append(i)\n",
    "    return words"
   ]
  },
  {
   "cell_type": "markdown",
   "metadata": {
    "id": "38_F4HRV91fd"
   },
   "source": [
    "### **Stemming**"
   ]
  },
  {
   "cell_type": "code",
   "execution_count": 41,
   "metadata": {
    "colab": {
     "base_uri": "https://localhost:8080/",
     "height": 35
    },
    "id": "bwUxIKWn7NN2",
    "outputId": "568ed842-717e-4fbe-9063-2dd49d0dd6d6"
   },
   "outputs": [],
   "source": [
    "stemmer = SnowballStemmer('english')"
   ]
  },
  {
   "cell_type": "code",
   "execution_count": 42,
   "metadata": {
    "id": "LJeftKD39ggJ"
   },
   "outputs": [],
   "source": [
    "smd['stem_keywords'] = smd['keywords'].apply(filter_keywords)\n",
    "smd['stem_keywords'] = smd['stem_keywords'].apply(lambda x: [stemmer.stem(i) for i in x])\n",
    "smd['stem_keywords'] = smd['stem_keywords'].apply(lambda x: [str.lower(i.replace(\" \", \"\")) for i in x])"
   ]
  },
  {
   "cell_type": "code",
   "execution_count": 43,
   "metadata": {
    "colab": {
     "base_uri": "https://localhost:8080/"
    },
    "id": "1VY7LTdO9gie",
    "outputId": "59eae5b8-db00-451e-e2fa-81771d739129"
   },
   "outputs": [
    {
     "data": {
      "text/plain": [
       "0    [jealousi, toy, boy, friendship, friend, rival...\n",
       "1    [boardgam, disappear, basedonchildren'sbook, n...\n",
       "2               [fish, bestfriend, duringcreditssting]\n",
       "3    [basedonnovel, interracialrelationship, single...\n",
       "4    [babi, midlifecrisi, confid, age, daughter, mo...\n",
       "5    [robberi, detect, bank, obsess, chase, shoot, ...\n",
       "Name: stem_keywords, dtype: object"
      ]
     },
     "execution_count": 43,
     "metadata": {},
     "output_type": "execute_result"
    }
   ],
   "source": [
    "smd['stem_keywords'].head(6)"
   ]
  },
  {
   "cell_type": "code",
   "execution_count": 44,
   "metadata": {
    "colab": {
     "base_uri": "https://localhost:8080/"
    },
    "id": "9ujd7IwvGW73",
    "outputId": "8f82b519-400c-4518-b764-4c5ad526522c"
   },
   "outputs": [
    {
     "data": {
      "text/plain": [
       "['jealousi',\n",
       " 'toy',\n",
       " 'boy',\n",
       " 'friendship',\n",
       " 'friend',\n",
       " 'rivalri',\n",
       " 'boynextdoor',\n",
       " 'newtoy',\n",
       " 'toycomestolif']"
      ]
     },
     "execution_count": 44,
     "metadata": {},
     "output_type": "execute_result"
    }
   ],
   "source": [
    "smd['stem_keywords'][0]"
   ]
  },
  {
   "cell_type": "code",
   "execution_count": 45,
   "metadata": {
    "colab": {
     "base_uri": "https://localhost:8080/"
    },
    "id": "Tkou0-9UGXJ7",
    "outputId": "83db905f-bf81-4efb-c2e2-5c045e88161b"
   },
   "outputs": [
    {
     "data": {
      "text/plain": [
       "['boardgam',\n",
       " 'disappear',\n",
       " \"basedonchildren'sbook\",\n",
       " 'newhom',\n",
       " 'reclus',\n",
       " 'giantinsect']"
      ]
     },
     "execution_count": 45,
     "metadata": {},
     "output_type": "execute_result"
    }
   ],
   "source": [
    "smd['stem_keywords'][1]"
   ]
  },
  {
   "cell_type": "code",
   "execution_count": 46,
   "metadata": {
    "colab": {
     "base_uri": "https://localhost:8080/"
    },
    "id": "1sVx7GGxGb7k",
    "outputId": "f4b94afc-201f-4708-bd13-138ce72bdcaa"
   },
   "outputs": [
    {
     "data": {
      "text/plain": [
       "['fish', 'bestfriend', 'duringcreditssting']"
      ]
     },
     "execution_count": 46,
     "metadata": {},
     "output_type": "execute_result"
    }
   ],
   "source": [
    "smd['stem_keywords'][2]"
   ]
  },
  {
   "cell_type": "code",
   "execution_count": 47,
   "metadata": {
    "colab": {
     "base_uri": "https://localhost:8080/"
    },
    "id": "tnDTLFSQGcJr",
    "outputId": "a09e843f-2103-48c5-d07f-fef1c5d2a3a3"
   },
   "outputs": [
    {
     "data": {
      "text/plain": [
       "['basedonnovel',\n",
       " 'interracialrelationship',\n",
       " 'singlemoth',\n",
       " 'divorc',\n",
       " 'chickflick']"
      ]
     },
     "execution_count": 47,
     "metadata": {},
     "output_type": "execute_result"
    }
   ],
   "source": [
    "smd['stem_keywords'][3]"
   ]
  },
  {
   "cell_type": "code",
   "execution_count": 48,
   "metadata": {
    "colab": {
     "base_uri": "https://localhost:8080/"
    },
    "id": "Duc4huBKGcT4",
    "outputId": "6f0d3119-5217-4726-e24f-0159753fd63b"
   },
   "outputs": [
    {
     "data": {
      "text/plain": [
       "['babi',\n",
       " 'midlifecrisi',\n",
       " 'confid',\n",
       " 'age',\n",
       " 'daughter',\n",
       " 'motherdaughterrelationship',\n",
       " 'pregnanc',\n",
       " 'contracept',\n",
       " 'gynecologist']"
      ]
     },
     "execution_count": 48,
     "metadata": {},
     "output_type": "execute_result"
    }
   ],
   "source": [
    "smd['stem_keywords'][4]"
   ]
  },
  {
   "cell_type": "markdown",
   "metadata": {
    "id": "_m_QCsSm-CQM"
   },
   "source": [
    "### **Lemmatizer**"
   ]
  },
  {
   "cell_type": "code",
   "execution_count": 49,
   "metadata": {
    "id": "3pBlTsCW9gmN"
   },
   "outputs": [],
   "source": [
    "lemmatizer = WordNetLemmatizer()"
   ]
  },
  {
   "cell_type": "code",
   "execution_count": 50,
   "metadata": {
    "id": "6kVsYeS1-OyV"
   },
   "outputs": [],
   "source": [
    "smd['lemmatizer_keywords'] = smd['keywords'].apply(filter_keywords)\n",
    "smd['lemmatizer_keywords'] = smd['lemmatizer_keywords'].apply(lambda x: [lemmatizer.lemmatize(i) for i in x])\n",
    "smd['lemmatizer_keywords'] = smd['lemmatizer_keywords'] .apply(lambda x: [str.lower(i.replace(\" \", \"\")) for i in x])"
   ]
  },
  {
   "cell_type": "code",
   "execution_count": 51,
   "metadata": {
    "colab": {
     "base_uri": "https://localhost:8080/"
    },
    "id": "sGBTPD8C-O1q",
    "outputId": "4bf591ad-3c5b-45c3-806f-d9e726465659"
   },
   "outputs": [
    {
     "data": {
      "text/plain": [
       "0    [jealousy, toy, boy, friendship, friend, rival...\n",
       "1    [boardgame, disappearance, basedonchildren'sbo...\n",
       "2          [fishing, bestfriend, duringcreditsstinger]\n",
       "3    [basedonnovel, interracialrelationship, single...\n",
       "Name: lemmatizer_keywords, dtype: object"
      ]
     },
     "execution_count": 51,
     "metadata": {},
     "output_type": "execute_result"
    }
   ],
   "source": [
    "smd['lemmatizer_keywords'].head(4)"
   ]
  },
  {
   "cell_type": "code",
   "execution_count": 52,
   "metadata": {
    "colab": {
     "base_uri": "https://localhost:8080/"
    },
    "id": "w0Wo4ybU-O4U",
    "outputId": "a8bcb18c-90d7-435e-9e9a-f36b527c556d"
   },
   "outputs": [
    {
     "data": {
      "text/plain": [
       "['jealousy',\n",
       " 'toy',\n",
       " 'boy',\n",
       " 'friendship',\n",
       " 'friend',\n",
       " 'rivalry',\n",
       " 'boynextdoor',\n",
       " 'newtoy',\n",
       " 'toycomestolife']"
      ]
     },
     "execution_count": 52,
     "metadata": {},
     "output_type": "execute_result"
    }
   ],
   "source": [
    "smd['lemmatizer_keywords'][0]"
   ]
  },
  {
   "cell_type": "code",
   "execution_count": 53,
   "metadata": {
    "colab": {
     "base_uri": "https://localhost:8080/"
    },
    "id": "nc9JvQCN-O7a",
    "outputId": "5bd8a9ef-7a60-4e59-a4f4-b02ffdee7e6a"
   },
   "outputs": [
    {
     "data": {
      "text/plain": [
       "['boardgame',\n",
       " 'disappearance',\n",
       " \"basedonchildren'sbook\",\n",
       " 'newhome',\n",
       " 'recluse',\n",
       " 'giantinsect']"
      ]
     },
     "execution_count": 53,
     "metadata": {},
     "output_type": "execute_result"
    }
   ],
   "source": [
    "smd['lemmatizer_keywords'][1]"
   ]
  },
  {
   "cell_type": "code",
   "execution_count": 54,
   "metadata": {
    "colab": {
     "base_uri": "https://localhost:8080/"
    },
    "id": "3wzMMR8EGphL",
    "outputId": "04c0da3a-6f81-4038-c259-a4e578fda518"
   },
   "outputs": [
    {
     "data": {
      "text/plain": [
       "['fishing', 'bestfriend', 'duringcreditsstinger']"
      ]
     },
     "execution_count": 54,
     "metadata": {},
     "output_type": "execute_result"
    }
   ],
   "source": [
    "smd['lemmatizer_keywords'][2]"
   ]
  },
  {
   "cell_type": "code",
   "execution_count": 55,
   "metadata": {
    "colab": {
     "base_uri": "https://localhost:8080/"
    },
    "id": "3jORSO9tGpsG",
    "outputId": "75953ce4-e2c6-42f9-9cd4-58aac159eea5"
   },
   "outputs": [
    {
     "data": {
      "text/plain": [
       "['basedonnovel',\n",
       " 'interracialrelationship',\n",
       " 'singlemother',\n",
       " 'divorce',\n",
       " 'chickflick']"
      ]
     },
     "execution_count": 55,
     "metadata": {},
     "output_type": "execute_result"
    }
   ],
   "source": [
    "smd['lemmatizer_keywords'][3]"
   ]
  },
  {
   "cell_type": "code",
   "execution_count": 56,
   "metadata": {
    "colab": {
     "base_uri": "https://localhost:8080/"
    },
    "id": "NK-R7l0aGp0A",
    "outputId": "7744efc3-9433-4ce2-9e73-ff2a19f07255"
   },
   "outputs": [
    {
     "data": {
      "text/plain": [
       "['baby',\n",
       " 'midlifecrisis',\n",
       " 'confidence',\n",
       " 'aging',\n",
       " 'daughter',\n",
       " 'motherdaughterrelationship',\n",
       " 'pregnancy',\n",
       " 'contraception',\n",
       " 'gynecologist']"
      ]
     },
     "execution_count": 56,
     "metadata": {},
     "output_type": "execute_result"
    }
   ],
   "source": [
    "smd['lemmatizer_keywords'][4]"
   ]
  },
  {
   "cell_type": "markdown",
   "metadata": {
    "id": "0UwmYm6R-PY-"
   },
   "source": [
    "### **Lemmatization Using Spacy**"
   ]
  },
  {
   "cell_type": "code",
   "execution_count": 57,
   "metadata": {
    "id": "-LGCT9OvVoyT"
   },
   "outputs": [],
   "source": [
    "smd['doc_id'] = range(0, len(smd))"
   ]
  },
  {
   "cell_type": "code",
   "execution_count": 58,
   "metadata": {
    "id": "w0aN6aYiW0Z5"
   },
   "outputs": [],
   "source": [
    "smd['spacy_keywords'] = smd['keywords'].astype('str')"
   ]
  },
  {
   "cell_type": "code",
   "execution_count": 59,
   "metadata": {
    "id": "jCHsqgtgW7Ss"
   },
   "outputs": [],
   "source": [
    "nlp = spacy.load('en_core_web_sm')"
   ]
  },
  {
   "cell_type": "code",
   "execution_count": 60,
   "metadata": {
    "id": "Fr9eLiuHW29V"
   },
   "outputs": [],
   "source": [
    "docs = list(nlp.pipe(smd.spacy_keywords))"
   ]
  },
  {
   "cell_type": "code",
   "execution_count": 61,
   "metadata": {
    "id": "gzu4_dywW5iG"
   },
   "outputs": [],
   "source": [
    "#Extract tokens and metadata from individual spaCy doc\n",
    "def extract_tokens_plus_meta(doc:spacy.tokens.doc.Doc):\n",
    "    return [(i.text, i.i, i.lemma_, i.pos_) for i in doc]"
   ]
  },
  {
   "cell_type": "code",
   "execution_count": 62,
   "metadata": {
    "id": "kSqP5JTaXvLg"
   },
   "outputs": [],
   "source": [
    "#Extract tokens and metadata from list of spaCy docs.\n",
    "def tidy_tokens(docs):\n",
    "    cols = [\"doc_id\", \"token\", \"token_order\", \"keywords_from_spacy\", \"pos\"]\n",
    "    \n",
    "    meta_df = []\n",
    "    for ix, doc in enumerate(docs):\n",
    "        meta = extract_tokens_plus_meta(doc)\n",
    "        meta = pd.DataFrame(meta)\n",
    "        meta.columns = cols[1:]\n",
    "        meta = meta.assign(doc_id = ix).loc[:, cols]\n",
    "        meta_df.append(meta)\n",
    "    return pd.concat(meta_df)"
   ]
  },
  {
   "cell_type": "code",
   "execution_count": 63,
   "metadata": {
    "id": "aLLErjgQXwu2"
   },
   "outputs": [],
   "source": [
    "kdf = tidy_tokens(docs)"
   ]
  },
  {
   "cell_type": "code",
   "execution_count": 64,
   "metadata": {
    "colab": {
     "base_uri": "https://localhost:8080/",
     "height": 363
    },
    "id": "iFWkbvSWX3x8",
    "outputId": "821575ac-876f-4455-80ec-89d8b76ffc43"
   },
   "outputs": [
    {
     "data": {
      "text/html": [
       "<div>\n",
       "<style scoped>\n",
       "    .dataframe tbody tr th:only-of-type {\n",
       "        vertical-align: middle;\n",
       "    }\n",
       "\n",
       "    .dataframe tbody tr th {\n",
       "        vertical-align: top;\n",
       "    }\n",
       "\n",
       "    .dataframe thead th {\n",
       "        text-align: right;\n",
       "    }\n",
       "</style>\n",
       "<table border=\"1\" class=\"dataframe\">\n",
       "  <thead>\n",
       "    <tr style=\"text-align: right;\">\n",
       "      <th></th>\n",
       "      <th>doc_id</th>\n",
       "      <th>token</th>\n",
       "      <th>token_order</th>\n",
       "      <th>keywords_from_spacy</th>\n",
       "      <th>pos</th>\n",
       "    </tr>\n",
       "  </thead>\n",
       "  <tbody>\n",
       "    <tr>\n",
       "      <th>0</th>\n",
       "      <td>0</td>\n",
       "      <td>[</td>\n",
       "      <td>0</td>\n",
       "      <td>[</td>\n",
       "      <td>PUNCT</td>\n",
       "    </tr>\n",
       "    <tr>\n",
       "      <th>1</th>\n",
       "      <td>0</td>\n",
       "      <td>'</td>\n",
       "      <td>1</td>\n",
       "      <td>'</td>\n",
       "      <td>PUNCT</td>\n",
       "    </tr>\n",
       "    <tr>\n",
       "      <th>2</th>\n",
       "      <td>0</td>\n",
       "      <td>jealousy</td>\n",
       "      <td>2</td>\n",
       "      <td>jealousy</td>\n",
       "      <td>NOUN</td>\n",
       "    </tr>\n",
       "    <tr>\n",
       "      <th>3</th>\n",
       "      <td>0</td>\n",
       "      <td>'</td>\n",
       "      <td>3</td>\n",
       "      <td>'</td>\n",
       "      <td>PUNCT</td>\n",
       "    </tr>\n",
       "    <tr>\n",
       "      <th>4</th>\n",
       "      <td>0</td>\n",
       "      <td>,</td>\n",
       "      <td>4</td>\n",
       "      <td>,</td>\n",
       "      <td>PUNCT</td>\n",
       "    </tr>\n",
       "    <tr>\n",
       "      <th>5</th>\n",
       "      <td>0</td>\n",
       "      <td>'</td>\n",
       "      <td>5</td>\n",
       "      <td>'</td>\n",
       "      <td>PUNCT</td>\n",
       "    </tr>\n",
       "    <tr>\n",
       "      <th>6</th>\n",
       "      <td>0</td>\n",
       "      <td>toy</td>\n",
       "      <td>6</td>\n",
       "      <td>toy</td>\n",
       "      <td>NOUN</td>\n",
       "    </tr>\n",
       "    <tr>\n",
       "      <th>7</th>\n",
       "      <td>0</td>\n",
       "      <td>'</td>\n",
       "      <td>7</td>\n",
       "      <td>'</td>\n",
       "      <td>PUNCT</td>\n",
       "    </tr>\n",
       "    <tr>\n",
       "      <th>8</th>\n",
       "      <td>0</td>\n",
       "      <td>,</td>\n",
       "      <td>8</td>\n",
       "      <td>,</td>\n",
       "      <td>PUNCT</td>\n",
       "    </tr>\n",
       "    <tr>\n",
       "      <th>9</th>\n",
       "      <td>0</td>\n",
       "      <td>'</td>\n",
       "      <td>9</td>\n",
       "      <td>'</td>\n",
       "      <td>PUNCT</td>\n",
       "    </tr>\n",
       "  </tbody>\n",
       "</table>\n",
       "</div>"
      ],
      "text/plain": [
       "   doc_id     token  token_order keywords_from_spacy    pos\n",
       "0       0         [            0                   [  PUNCT\n",
       "1       0         '            1                   '  PUNCT\n",
       "2       0  jealousy            2            jealousy   NOUN\n",
       "3       0         '            3                   '  PUNCT\n",
       "4       0         ,            4                   ,  PUNCT\n",
       "5       0         '            5                   '  PUNCT\n",
       "6       0       toy            6                 toy   NOUN\n",
       "7       0         '            7                   '  PUNCT\n",
       "8       0         ,            8                   ,  PUNCT\n",
       "9       0         '            9                   '  PUNCT"
      ]
     },
     "execution_count": 64,
     "metadata": {},
     "output_type": "execute_result"
    }
   ],
   "source": [
    "kdf.head(10)"
   ]
  },
  {
   "cell_type": "code",
   "execution_count": 65,
   "metadata": {
    "colab": {
     "base_uri": "https://localhost:8080/"
    },
    "id": "tJT9mIyOX_Xi",
    "outputId": "3be7cac8-c047-4c7d-c6c3-a5576fceda0a"
   },
   "outputs": [
    {
     "data": {
      "text/plain": [
       "array(['PUNCT', 'NOUN', 'ADJ', 'VERB', 'ADP', 'PART', 'CCONJ', 'NUM', 'X',\n",
       "       'ADV', 'DET', 'PROPN', 'SPACE', 'PRON', 'INTJ', 'AUX', 'SCONJ',\n",
       "       'SYM'], dtype=object)"
      ]
     },
     "execution_count": 65,
     "metadata": {},
     "output_type": "execute_result"
    }
   ],
   "source": [
    "kdf.pos.unique()"
   ]
  },
  {
   "cell_type": "code",
   "execution_count": 66,
   "metadata": {
    "id": "wXyMvP_2YBvl"
   },
   "outputs": [],
   "source": [
    "kdf = kdf[kdf.pos.isin(['NOUN', 'ADJ', 'VERB', 'PROPN', 'X', 'ADV', 'INTJ'])]"
   ]
  },
  {
   "cell_type": "code",
   "execution_count": 67,
   "metadata": {
    "colab": {
     "base_uri": "https://localhost:8080/"
    },
    "id": "dJTn4NQ4YDoZ",
    "outputId": "9169473b-cd4c-4fe9-9dda-052dfde61bae"
   },
   "outputs": [
    {
     "data": {
      "text/plain": [
       "Index(['doc_id', 'token', 'token_order', 'keywords_from_spacy', 'pos'], dtype='object')"
      ]
     },
     "execution_count": 67,
     "metadata": {},
     "output_type": "execute_result"
    }
   ],
   "source": [
    "kdf.columns"
   ]
  },
  {
   "cell_type": "code",
   "execution_count": 68,
   "metadata": {
    "id": "0_C41a54YHVk"
   },
   "outputs": [],
   "source": [
    "kdf.drop(['token', 'token_order', 'pos'], axis=1, inplace=True)"
   ]
  },
  {
   "cell_type": "code",
   "execution_count": 69,
   "metadata": {
    "id": "s2s4rH-vYJ0O"
   },
   "outputs": [],
   "source": [
    "kdf = kdf.groupby('doc_id').agg({'keywords_from_spacy': ' '.join}).reset_index()"
   ]
  },
  {
   "cell_type": "code",
   "execution_count": 70,
   "metadata": {
    "colab": {
     "base_uri": "https://localhost:8080/",
     "height": 143
    },
    "id": "Li_kArHIYMPB",
    "outputId": "67d8bcc9-c284-4657-a3d0-102a81fc3d70"
   },
   "outputs": [
    {
     "data": {
      "text/html": [
       "<div>\n",
       "<style scoped>\n",
       "    .dataframe tbody tr th:only-of-type {\n",
       "        vertical-align: middle;\n",
       "    }\n",
       "\n",
       "    .dataframe tbody tr th {\n",
       "        vertical-align: top;\n",
       "    }\n",
       "\n",
       "    .dataframe thead th {\n",
       "        text-align: right;\n",
       "    }\n",
       "</style>\n",
       "<table border=\"1\" class=\"dataframe\">\n",
       "  <thead>\n",
       "    <tr style=\"text-align: right;\">\n",
       "      <th></th>\n",
       "      <th>doc_id</th>\n",
       "      <th>keywords_from_spacy</th>\n",
       "    </tr>\n",
       "  </thead>\n",
       "  <tbody>\n",
       "    <tr>\n",
       "      <th>0</th>\n",
       "      <td>0</td>\n",
       "      <td>jealousy toy boy friendship friend rivalry boy...</td>\n",
       "    </tr>\n",
       "    <tr>\n",
       "      <th>1</th>\n",
       "      <td>1</td>\n",
       "      <td>board game disappearance base child book new h...</td>\n",
       "    </tr>\n",
       "    <tr>\n",
       "      <th>2</th>\n",
       "      <td>2</td>\n",
       "      <td>fishing good friend duringcreditsstinger old man</td>\n",
       "    </tr>\n",
       "  </tbody>\n",
       "</table>\n",
       "</div>"
      ],
      "text/plain": [
       "   doc_id                                keywords_from_spacy\n",
       "0       0  jealousy toy boy friendship friend rivalry boy...\n",
       "1       1  board game disappearance base child book new h...\n",
       "2       2   fishing good friend duringcreditsstinger old man"
      ]
     },
     "execution_count": 70,
     "metadata": {},
     "output_type": "execute_result"
    }
   ],
   "source": [
    "kdf.head(3)"
   ]
  },
  {
   "cell_type": "code",
   "execution_count": 71,
   "metadata": {
    "colab": {
     "base_uri": "https://localhost:8080/",
     "height": 35
    },
    "id": "21rU6yQ8-WDL",
    "outputId": "1d850a99-3331-453e-8b6d-2f6d4d7af365"
   },
   "outputs": [
    {
     "data": {
      "text/plain": [
       "'jealousy toy boy friendship friend rivalry boy next door new toy toy come life'"
      ]
     },
     "execution_count": 71,
     "metadata": {},
     "output_type": "execute_result"
    }
   ],
   "source": [
    "kdf['keywords_from_spacy'][0]"
   ]
  },
  {
   "cell_type": "code",
   "execution_count": 72,
   "metadata": {
    "colab": {
     "base_uri": "https://localhost:8080/",
     "height": 35
    },
    "id": "KjLI4GSejeey",
    "outputId": "21057415-6fc3-4ef9-f372-065a5d48e292"
   },
   "outputs": [
    {
     "data": {
      "text/plain": [
       "'board game disappearance base child book new home recluse giant insect'"
      ]
     },
     "execution_count": 72,
     "metadata": {},
     "output_type": "execute_result"
    }
   ],
   "source": [
    "kdf['keywords_from_spacy'][1]"
   ]
  },
  {
   "cell_type": "code",
   "execution_count": 73,
   "metadata": {
    "colab": {
     "base_uri": "https://localhost:8080/",
     "height": 35
    },
    "id": "1yJ2qpqAjeo4",
    "outputId": "b6f69370-b76e-4808-b029-e619f40f7d14"
   },
   "outputs": [
    {
     "data": {
      "text/plain": [
       "'fishing good friend duringcreditsstinger old man'"
      ]
     },
     "execution_count": 73,
     "metadata": {},
     "output_type": "execute_result"
    }
   ],
   "source": [
    "kdf['keywords_from_spacy'][2]"
   ]
  },
  {
   "cell_type": "code",
   "execution_count": 74,
   "metadata": {
    "colab": {
     "base_uri": "https://localhost:8080/",
     "height": 35
    },
    "id": "xpVIepUrjg8W",
    "outputId": "cca8f349-b77b-4406-d2e5-ca1fd79ef7a9"
   },
   "outputs": [
    {
     "data": {
      "text/plain": [
       "'base novel interracial relationship single mother divorce chick flick'"
      ]
     },
     "execution_count": 74,
     "metadata": {},
     "output_type": "execute_result"
    }
   ],
   "source": [
    "kdf['keywords_from_spacy'][3]"
   ]
  },
  {
   "cell_type": "code",
   "execution_count": 75,
   "metadata": {
    "colab": {
     "base_uri": "https://localhost:8080/",
     "height": 35
    },
    "id": "Venfu0Hrjhbu",
    "outputId": "6667406a-6df0-48db-a177-e2ee3cd1e624"
   },
   "outputs": [
    {
     "data": {
      "text/plain": [
       "'baby midlife crisis confidence age daughter mother daughter relationship pregnancy contraception gynecologist'"
      ]
     },
     "execution_count": 75,
     "metadata": {},
     "output_type": "execute_result"
    }
   ],
   "source": [
    "kdf['keywords_from_spacy'][4]"
   ]
  },
  {
   "cell_type": "markdown",
   "metadata": {
    "id": "8H3AreCSDuHG"
   },
   "source": [
    "Mergin Spacy Results to dataset"
   ]
  },
  {
   "cell_type": "code",
   "execution_count": 76,
   "metadata": {
    "id": "ZQ746FSIYN4F"
   },
   "outputs": [],
   "source": [
    "smd = smd.merge(kdf,on='doc_id')"
   ]
  },
  {
   "cell_type": "code",
   "execution_count": 77,
   "metadata": {
    "colab": {
     "base_uri": "https://localhost:8080/",
     "height": 362
    },
    "id": "rtVSn7ldYRpc",
    "outputId": "daddde2a-fcdf-4673-8782-9db9ddb8dbe4"
   },
   "outputs": [
    {
     "data": {
      "text/html": [
       "<div>\n",
       "<style scoped>\n",
       "    .dataframe tbody tr th:only-of-type {\n",
       "        vertical-align: middle;\n",
       "    }\n",
       "\n",
       "    .dataframe tbody tr th {\n",
       "        vertical-align: top;\n",
       "    }\n",
       "\n",
       "    .dataframe thead th {\n",
       "        text-align: right;\n",
       "    }\n",
       "</style>\n",
       "<table border=\"1\" class=\"dataframe\">\n",
       "  <thead>\n",
       "    <tr style=\"text-align: right;\">\n",
       "      <th></th>\n",
       "      <th>adult</th>\n",
       "      <th>belongs_to_collection</th>\n",
       "      <th>budget</th>\n",
       "      <th>genres</th>\n",
       "      <th>homepage</th>\n",
       "      <th>id</th>\n",
       "      <th>imdb_id</th>\n",
       "      <th>original_language</th>\n",
       "      <th>original_title</th>\n",
       "      <th>overview</th>\n",
       "      <th>...</th>\n",
       "      <th>keywords</th>\n",
       "      <th>year</th>\n",
       "      <th>cast_size</th>\n",
       "      <th>crew_size</th>\n",
       "      <th>director</th>\n",
       "      <th>stem_keywords</th>\n",
       "      <th>lemmatizer_keywords</th>\n",
       "      <th>doc_id</th>\n",
       "      <th>spacy_keywords</th>\n",
       "      <th>keywords_from_spacy</th>\n",
       "    </tr>\n",
       "  </thead>\n",
       "  <tbody>\n",
       "    <tr>\n",
       "      <th>8693</th>\n",
       "      <td>False</td>\n",
       "      <td>NaN</td>\n",
       "      <td>15000000</td>\n",
       "      <td>[Action, Adventure, Drama, Horror, Science Fic...</td>\n",
       "      <td>NaN</td>\n",
       "      <td>315011</td>\n",
       "      <td>tt4262980</td>\n",
       "      <td>ja</td>\n",
       "      <td>シン・ゴジラ</td>\n",
       "      <td>From the mind behind Evangelion comes a hit la...</td>\n",
       "      <td>...</td>\n",
       "      <td>[monster, godzilla, giant monster, destruction...</td>\n",
       "      <td>2016</td>\n",
       "      <td>49</td>\n",
       "      <td>27</td>\n",
       "      <td>[hideakianno, hideakianno]</td>\n",
       "      <td>[monster, godzilla, giantmonst, destruct, kaiju]</td>\n",
       "      <td>[monster, godzilla, giantmonster, destruction,...</td>\n",
       "      <td>8693</td>\n",
       "      <td>['monster', 'godzilla', 'giant monster', 'dest...</td>\n",
       "      <td>monster godzilla giant monster destruction kai...</td>\n",
       "    </tr>\n",
       "    <tr>\n",
       "      <th>8694</th>\n",
       "      <td>False</td>\n",
       "      <td>NaN</td>\n",
       "      <td>0</td>\n",
       "      <td>[Documentary, Music]</td>\n",
       "      <td>http://www.thebeatlesliveproject.com/</td>\n",
       "      <td>391698</td>\n",
       "      <td>tt2531318</td>\n",
       "      <td>en</td>\n",
       "      <td>The Beatles: Eight Days a Week - The Touring Y...</td>\n",
       "      <td>The band stormed Europe in 1963, and, in 1964,...</td>\n",
       "      <td>...</td>\n",
       "      <td>[music, documentary]</td>\n",
       "      <td>2016</td>\n",
       "      <td>28</td>\n",
       "      <td>7</td>\n",
       "      <td>[ronhoward, ronhoward]</td>\n",
       "      <td>[music, documentari]</td>\n",
       "      <td>[music, documentary]</td>\n",
       "      <td>8694</td>\n",
       "      <td>['music', 'documentary']</td>\n",
       "      <td>music documentary</td>\n",
       "    </tr>\n",
       "  </tbody>\n",
       "</table>\n",
       "<p>2 rows × 36 columns</p>\n",
       "</div>"
      ],
      "text/plain": [
       "      adult belongs_to_collection    budget  \\\n",
       "8693  False                   NaN  15000000   \n",
       "8694  False                   NaN         0   \n",
       "\n",
       "                                                 genres  \\\n",
       "8693  [Action, Adventure, Drama, Horror, Science Fic...   \n",
       "8694                               [Documentary, Music]   \n",
       "\n",
       "                                   homepage      id    imdb_id  \\\n",
       "8693                                    NaN  315011  tt4262980   \n",
       "8694  http://www.thebeatlesliveproject.com/  391698  tt2531318   \n",
       "\n",
       "     original_language                                     original_title  \\\n",
       "8693                ja                                             シン・ゴジラ   \n",
       "8694                en  The Beatles: Eight Days a Week - The Touring Y...   \n",
       "\n",
       "                                               overview  ...  \\\n",
       "8693  From the mind behind Evangelion comes a hit la...  ...   \n",
       "8694  The band stormed Europe in 1963, and, in 1964,...  ...   \n",
       "\n",
       "                                               keywords  year cast_size  \\\n",
       "8693  [monster, godzilla, giant monster, destruction...  2016        49   \n",
       "8694                               [music, documentary]  2016        28   \n",
       "\n",
       "     crew_size                    director  \\\n",
       "8693        27  [hideakianno, hideakianno]   \n",
       "8694         7      [ronhoward, ronhoward]   \n",
       "\n",
       "                                         stem_keywords  \\\n",
       "8693  [monster, godzilla, giantmonst, destruct, kaiju]   \n",
       "8694                              [music, documentari]   \n",
       "\n",
       "                                    lemmatizer_keywords doc_id  \\\n",
       "8693  [monster, godzilla, giantmonster, destruction,...   8693   \n",
       "8694                               [music, documentary]   8694   \n",
       "\n",
       "                                         spacy_keywords  \\\n",
       "8693  ['monster', 'godzilla', 'giant monster', 'dest...   \n",
       "8694                           ['music', 'documentary']   \n",
       "\n",
       "                                    keywords_from_spacy  \n",
       "8693  monster godzilla giant monster destruction kai...  \n",
       "8694                                  music documentary  \n",
       "\n",
       "[2 rows x 36 columns]"
      ]
     },
     "execution_count": 77,
     "metadata": {},
     "output_type": "execute_result"
    }
   ],
   "source": [
    "smd.tail(2)"
   ]
  },
  {
   "cell_type": "code",
   "execution_count": 78,
   "metadata": {
    "colab": {
     "base_uri": "https://localhost:8080/"
    },
    "id": "La6s0hYVYTxr",
    "outputId": "1ab6ec1f-674f-4db6-a870-4fae7912581b"
   },
   "outputs": [
    {
     "data": {
      "text/plain": [
       "Index(['adult', 'belongs_to_collection', 'budget', 'genres', 'homepage', 'id',\n",
       "       'imdb_id', 'original_language', 'original_title', 'overview',\n",
       "       'popularity', 'poster_path', 'production_companies',\n",
       "       'production_countries', 'release_date', 'revenue', 'runtime',\n",
       "       'spoken_languages', 'status', 'tagline', 'title', 'video',\n",
       "       'vote_average', 'vote_count', 'cast', 'crew', 'keywords', 'year',\n",
       "       'cast_size', 'crew_size', 'director', 'stem_keywords',\n",
       "       'lemmatizer_keywords', 'doc_id', 'spacy_keywords',\n",
       "       'keywords_from_spacy'],\n",
       "      dtype='object')"
      ]
     },
     "execution_count": 78,
     "metadata": {},
     "output_type": "execute_result"
    }
   ],
   "source": [
    "smd.columns"
   ]
  },
  {
   "cell_type": "code",
   "execution_count": 79,
   "metadata": {
    "colab": {
     "base_uri": "https://localhost:8080/",
     "height": 143
    },
    "id": "cHsbAJ6dYVHn",
    "outputId": "e0b44f8b-3f94-4d66-fec6-fe5f3e3a10ec"
   },
   "outputs": [
    {
     "data": {
      "text/html": [
       "<div>\n",
       "<style scoped>\n",
       "    .dataframe tbody tr th:only-of-type {\n",
       "        vertical-align: middle;\n",
       "    }\n",
       "\n",
       "    .dataframe tbody tr th {\n",
       "        vertical-align: top;\n",
       "    }\n",
       "\n",
       "    .dataframe thead th {\n",
       "        text-align: right;\n",
       "    }\n",
       "</style>\n",
       "<table border=\"1\" class=\"dataframe\">\n",
       "  <thead>\n",
       "    <tr style=\"text-align: right;\">\n",
       "      <th></th>\n",
       "      <th>cast</th>\n",
       "      <th>director</th>\n",
       "      <th>genres</th>\n",
       "      <th>keywords_from_spacy</th>\n",
       "    </tr>\n",
       "  </thead>\n",
       "  <tbody>\n",
       "    <tr>\n",
       "      <th>0</th>\n",
       "      <td>[tomhanks, timallen, donrickles]</td>\n",
       "      <td>[johnlasseter, johnlasseter]</td>\n",
       "      <td>[Animation, Comedy, Family]</td>\n",
       "      <td>jealousy toy boy friendship friend rivalry boy...</td>\n",
       "    </tr>\n",
       "    <tr>\n",
       "      <th>1</th>\n",
       "      <td>[robinwilliams, jonathanhyde, kirstendunst]</td>\n",
       "      <td>[joejohnston, joejohnston]</td>\n",
       "      <td>[Adventure, Fantasy, Family]</td>\n",
       "      <td>board game disappearance base child book new h...</td>\n",
       "    </tr>\n",
       "    <tr>\n",
       "      <th>2</th>\n",
       "      <td>[waltermatthau, jacklemmon, ann-margret]</td>\n",
       "      <td>[howarddeutch, howarddeutch]</td>\n",
       "      <td>[Romance, Comedy]</td>\n",
       "      <td>fishing good friend duringcreditsstinger old man</td>\n",
       "    </tr>\n",
       "  </tbody>\n",
       "</table>\n",
       "</div>"
      ],
      "text/plain": [
       "                                          cast                      director  \\\n",
       "0             [tomhanks, timallen, donrickles]  [johnlasseter, johnlasseter]   \n",
       "1  [robinwilliams, jonathanhyde, kirstendunst]    [joejohnston, joejohnston]   \n",
       "2     [waltermatthau, jacklemmon, ann-margret]  [howarddeutch, howarddeutch]   \n",
       "\n",
       "                         genres  \\\n",
       "0   [Animation, Comedy, Family]   \n",
       "1  [Adventure, Fantasy, Family]   \n",
       "2             [Romance, Comedy]   \n",
       "\n",
       "                                 keywords_from_spacy  \n",
       "0  jealousy toy boy friendship friend rivalry boy...  \n",
       "1  board game disappearance base child book new h...  \n",
       "2   fishing good friend duringcreditsstinger old man  "
      ]
     },
     "execution_count": 79,
     "metadata": {},
     "output_type": "execute_result"
    }
   ],
   "source": [
    "smd[['cast','director','genres','keywords_from_spacy']].head(3)"
   ]
  },
  {
   "cell_type": "code",
   "execution_count": 80,
   "metadata": {
    "id": "x8AO_w2iYa0u"
   },
   "outputs": [],
   "source": [
    "smd['soup'] = smd['director'] + smd['cast'] + smd['genres']"
   ]
  },
  {
   "cell_type": "code",
   "execution_count": 81,
   "metadata": {
    "id": "aNXKVHcjYeaS"
   },
   "outputs": [],
   "source": [
    "smd['soup'] = smd['soup'].apply(lambda x: ' '.join(x))"
   ]
  },
  {
   "cell_type": "code",
   "execution_count": 82,
   "metadata": {
    "colab": {
     "base_uri": "https://localhost:8080/"
    },
    "id": "ytvhzNglY0-e",
    "outputId": "e2dabb1f-18c1-4b4d-cfa0-03bccc8b25c4"
   },
   "outputs": [
    {
     "data": {
      "text/plain": [
       "0    johnlasseter johnlasseter tomhanks timallen do...\n",
       "1    joejohnston joejohnston robinwilliams jonathan...\n",
       "Name: soup, dtype: object"
      ]
     },
     "execution_count": 82,
     "metadata": {},
     "output_type": "execute_result"
    }
   ],
   "source": [
    "smd['soup'].head(2)"
   ]
  },
  {
   "cell_type": "code",
   "execution_count": 83,
   "metadata": {
    "colab": {
     "base_uri": "https://localhost:8080/",
     "height": 423
    },
    "id": "cZi7yuTJY-XZ",
    "outputId": "d159e38c-f717-4905-cf9f-98fce0933d89"
   },
   "outputs": [
    {
     "data": {
      "text/html": [
       "<div>\n",
       "<style scoped>\n",
       "    .dataframe tbody tr th:only-of-type {\n",
       "        vertical-align: middle;\n",
       "    }\n",
       "\n",
       "    .dataframe tbody tr th {\n",
       "        vertical-align: top;\n",
       "    }\n",
       "\n",
       "    .dataframe thead th {\n",
       "        text-align: right;\n",
       "    }\n",
       "</style>\n",
       "<table border=\"1\" class=\"dataframe\">\n",
       "  <thead>\n",
       "    <tr style=\"text-align: right;\">\n",
       "      <th></th>\n",
       "      <th>soup</th>\n",
       "      <th>keywords_from_spacy</th>\n",
       "    </tr>\n",
       "  </thead>\n",
       "  <tbody>\n",
       "    <tr>\n",
       "      <th>0</th>\n",
       "      <td>johnlasseter johnlasseter tomhanks timallen do...</td>\n",
       "      <td>jealousy toy boy friendship friend rivalry boy...</td>\n",
       "    </tr>\n",
       "    <tr>\n",
       "      <th>1</th>\n",
       "      <td>joejohnston joejohnston robinwilliams jonathan...</td>\n",
       "      <td>board game disappearance base child book new h...</td>\n",
       "    </tr>\n",
       "    <tr>\n",
       "      <th>2</th>\n",
       "      <td>howarddeutch howarddeutch waltermatthau jackle...</td>\n",
       "      <td>fishing good friend duringcreditsstinger old man</td>\n",
       "    </tr>\n",
       "    <tr>\n",
       "      <th>3</th>\n",
       "      <td>forestwhitaker forestwhitaker whitneyhouston a...</td>\n",
       "      <td>base novel interracial relationship single mot...</td>\n",
       "    </tr>\n",
       "    <tr>\n",
       "      <th>4</th>\n",
       "      <td>charlesshyer charlesshyer stevemartin dianekea...</td>\n",
       "      <td>baby midlife crisis confidence age daughter mo...</td>\n",
       "    </tr>\n",
       "    <tr>\n",
       "      <th>...</th>\n",
       "      <td>...</td>\n",
       "      <td>...</td>\n",
       "    </tr>\n",
       "    <tr>\n",
       "      <th>8690</th>\n",
       "      <td>greggchampion greggchampion sidneypoitier wend...</td>\n",
       "      <td>friendship brick making</td>\n",
       "    </tr>\n",
       "    <tr>\n",
       "      <th>8691</th>\n",
       "      <td>tinusureshdesai tinusureshdesai akshaykumar il...</td>\n",
       "      <td>bollywood</td>\n",
       "    </tr>\n",
       "    <tr>\n",
       "      <th>8692</th>\n",
       "      <td>ashutoshgowariker ashutoshgowariker hrithikros...</td>\n",
       "      <td>bollywood</td>\n",
       "    </tr>\n",
       "    <tr>\n",
       "      <th>8693</th>\n",
       "      <td>hideakianno hideakianno hirokihasegawa yutakat...</td>\n",
       "      <td>monster godzilla giant monster destruction kai...</td>\n",
       "    </tr>\n",
       "    <tr>\n",
       "      <th>8694</th>\n",
       "      <td>ronhoward ronhoward paulmccartney ringostarr j...</td>\n",
       "      <td>music documentary</td>\n",
       "    </tr>\n",
       "  </tbody>\n",
       "</table>\n",
       "<p>8695 rows × 2 columns</p>\n",
       "</div>"
      ],
      "text/plain": [
       "                                                   soup  \\\n",
       "0     johnlasseter johnlasseter tomhanks timallen do...   \n",
       "1     joejohnston joejohnston robinwilliams jonathan...   \n",
       "2     howarddeutch howarddeutch waltermatthau jackle...   \n",
       "3     forestwhitaker forestwhitaker whitneyhouston a...   \n",
       "4     charlesshyer charlesshyer stevemartin dianekea...   \n",
       "...                                                 ...   \n",
       "8690  greggchampion greggchampion sidneypoitier wend...   \n",
       "8691  tinusureshdesai tinusureshdesai akshaykumar il...   \n",
       "8692  ashutoshgowariker ashutoshgowariker hrithikros...   \n",
       "8693  hideakianno hideakianno hirokihasegawa yutakat...   \n",
       "8694  ronhoward ronhoward paulmccartney ringostarr j...   \n",
       "\n",
       "                                    keywords_from_spacy  \n",
       "0     jealousy toy boy friendship friend rivalry boy...  \n",
       "1     board game disappearance base child book new h...  \n",
       "2      fishing good friend duringcreditsstinger old man  \n",
       "3     base novel interracial relationship single mot...  \n",
       "4     baby midlife crisis confidence age daughter mo...  \n",
       "...                                                 ...  \n",
       "8690                            friendship brick making  \n",
       "8691                                          bollywood  \n",
       "8692                                          bollywood  \n",
       "8693  monster godzilla giant monster destruction kai...  \n",
       "8694                                  music documentary  \n",
       "\n",
       "[8695 rows x 2 columns]"
      ]
     },
     "execution_count": 83,
     "metadata": {},
     "output_type": "execute_result"
    }
   ],
   "source": [
    "smd[['soup','keywords_from_spacy']]"
   ]
  },
  {
   "cell_type": "code",
   "execution_count": 84,
   "metadata": {
    "id": "rgLBsLyFZB5H"
   },
   "outputs": [],
   "source": [
    "smd['combination'] = smd['soup'] + ' ' + smd['keywords_from_spacy']"
   ]
  },
  {
   "cell_type": "code",
   "execution_count": 85,
   "metadata": {
    "id": "MvYdblP7ZK2O"
   },
   "outputs": [],
   "source": [
    "smd.drop(['soup'], axis = 1, inplace = True)"
   ]
  },
  {
   "cell_type": "code",
   "execution_count": 86,
   "metadata": {
    "colab": {
     "base_uri": "https://localhost:8080/"
    },
    "id": "kQ_9E2MAZqx2",
    "outputId": "85f1e552-0999-4a03-f4ba-2abe42d1a112"
   },
   "outputs": [
    {
     "data": {
      "text/plain": [
       "8693    hideakianno hideakianno hirokihasegawa yutakat...\n",
       "8694    ronhoward ronhoward paulmccartney ringostarr j...\n",
       "Name: combination, dtype: object"
      ]
     },
     "execution_count": 86,
     "metadata": {},
     "output_type": "execute_result"
    }
   ],
   "source": [
    "smd['combination'].tail(2)"
   ]
  },
  {
   "cell_type": "code",
   "execution_count": 87,
   "metadata": {
    "colab": {
     "base_uri": "https://localhost:8080/"
    },
    "id": "hDiRWiKnjqWO",
    "outputId": "f8521f15-ddd1-4dc7-ad5a-8fce2e6a8ddd"
   },
   "outputs": [
    {
     "data": {
      "text/plain": [
       "0       johnlasseter johnlasseter tomhanks timallen do...\n",
       "1       joejohnston joejohnston robinwilliams jonathan...\n",
       "2       howarddeutch howarddeutch waltermatthau jackle...\n",
       "3       forestwhitaker forestwhitaker whitneyhouston a...\n",
       "4       charlesshyer charlesshyer stevemartin dianekea...\n",
       "                              ...                        \n",
       "8690    greggchampion greggchampion sidneypoitier wend...\n",
       "8691    tinusureshdesai tinusureshdesai akshaykumar il...\n",
       "8692    ashutoshgowariker ashutoshgowariker hrithikros...\n",
       "8693    hideakianno hideakianno hirokihasegawa yutakat...\n",
       "8694    ronhoward ronhoward paulmccartney ringostarr j...\n",
       "Name: combination, Length: 8695, dtype: object"
      ]
     },
     "execution_count": 87,
     "metadata": {},
     "output_type": "execute_result"
    }
   ],
   "source": [
    "smd['combination']"
   ]
  },
  {
   "cell_type": "code",
   "execution_count": 88,
   "metadata": {
    "colab": {
     "base_uri": "https://localhost:8080/",
     "height": 53
    },
    "id": "5wRvDKRHjwPN",
    "outputId": "d5825a1b-a6c8-4130-8049-2c3d4f3ac92f"
   },
   "outputs": [
    {
     "data": {
      "text/plain": [
       "'johnlasseter johnlasseter tomhanks timallen donrickles Animation Comedy Family jealousy toy boy friendship friend rivalry boy next door new toy toy come life'"
      ]
     },
     "execution_count": 88,
     "metadata": {},
     "output_type": "execute_result"
    }
   ],
   "source": [
    "smd['combination'][0]"
   ]
  },
  {
   "cell_type": "code",
   "execution_count": 89,
   "metadata": {
    "colab": {
     "base_uri": "https://localhost:8080/",
     "height": 53
    },
    "id": "rWoid5l1jwYb",
    "outputId": "ec0f18b2-8122-4970-c272-a090bc9d7d0f"
   },
   "outputs": [
    {
     "data": {
      "text/plain": [
       "'joejohnston joejohnston robinwilliams jonathanhyde kirstendunst Adventure Fantasy Family board game disappearance base child book new home recluse giant insect'"
      ]
     },
     "execution_count": 89,
     "metadata": {},
     "output_type": "execute_result"
    }
   ],
   "source": [
    "smd['combination'][1]"
   ]
  },
  {
   "cell_type": "code",
   "execution_count": 90,
   "metadata": {
    "colab": {
     "base_uri": "https://localhost:8080/",
     "height": 35
    },
    "id": "EV1TY81BjwjK",
    "outputId": "42bfe4dc-7bd9-44c6-95b9-4bd301bf086e"
   },
   "outputs": [
    {
     "data": {
      "text/plain": [
       "'howarddeutch howarddeutch waltermatthau jacklemmon ann-margret Romance Comedy fishing good friend duringcreditsstinger old man'"
      ]
     },
     "execution_count": 90,
     "metadata": {},
     "output_type": "execute_result"
    }
   ],
   "source": [
    "smd['combination'][2]"
   ]
  },
  {
   "cell_type": "code",
   "execution_count": 91,
   "metadata": {
    "colab": {
     "base_uri": "https://localhost:8080/",
     "height": 53
    },
    "id": "NPFjx6_0VShJ",
    "outputId": "be264d59-90ce-4d74-c0f7-144102bf3934"
   },
   "outputs": [
    {
     "data": {
      "text/plain": [
       "'forestwhitaker forestwhitaker whitneyhouston angelabassett lorettadevine Comedy Drama Romance base novel interracial relationship single mother divorce chick flick'"
      ]
     },
     "execution_count": 91,
     "metadata": {},
     "output_type": "execute_result"
    }
   ],
   "source": [
    "smd['combination'][3]"
   ]
  },
  {
   "cell_type": "code",
   "execution_count": 92,
   "metadata": {
    "colab": {
     "base_uri": "https://localhost:8080/"
    },
    "id": "6XEYxoBeTjfF",
    "outputId": "640b0712-2414-4253-9b63-53bb273f896c"
   },
   "outputs": [
    {
     "data": {
      "text/plain": [
       "(8695, 37)"
      ]
     },
     "execution_count": 92,
     "metadata": {},
     "output_type": "execute_result"
    }
   ],
   "source": [
    "smd.shape"
   ]
  },
  {
   "cell_type": "code",
   "execution_count": 93,
   "metadata": {
    "colab": {
     "base_uri": "https://localhost:8080/"
    },
    "id": "FDyhT3vDRqx0",
    "outputId": "0446e168-d555-43c1-ef98-e7db1bd96955"
   },
   "outputs": [
    {
     "data": {
      "text/plain": [
       "Index(['adult', 'belongs_to_collection', 'budget', 'genres', 'homepage', 'id',\n",
       "       'imdb_id', 'original_language', 'original_title', 'overview',\n",
       "       'popularity', 'poster_path', 'production_companies',\n",
       "       'production_countries', 'release_date', 'revenue', 'runtime',\n",
       "       'spoken_languages', 'status', 'tagline', 'title', 'video',\n",
       "       'vote_average', 'vote_count', 'cast', 'crew', 'keywords', 'year',\n",
       "       'cast_size', 'crew_size', 'director', 'stem_keywords',\n",
       "       'lemmatizer_keywords', 'doc_id', 'spacy_keywords',\n",
       "       'keywords_from_spacy', 'combination'],\n",
       "      dtype='object')"
      ]
     },
     "execution_count": 93,
     "metadata": {},
     "output_type": "execute_result"
    }
   ],
   "source": [
    "smd.columns"
   ]
  },
  {
   "cell_type": "code",
   "execution_count": 94,
   "metadata": {
    "id": "1iHBhAiYR_eV"
   },
   "outputs": [],
   "source": [
    "smd = smd[['id', 'title', 'combination']]"
   ]
  },
  {
   "cell_type": "markdown",
   "metadata": {
    "id": "sC9HWTPLEKIF"
   },
   "source": [
    "## **Tf-Idf**"
   ]
  },
  {
   "cell_type": "code",
   "execution_count": 95,
   "metadata": {
    "id": "zzyFH4eUEIG6"
   },
   "outputs": [],
   "source": [
    "tf = TfidfVectorizer(analyzer = 'word', ngram_range = (1, 2), min_df = 0, stop_words ='english')\n",
    "tfidf_matrix = tf.fit_transform(smd['combination'])"
   ]
  },
  {
   "cell_type": "code",
   "execution_count": 96,
   "metadata": {
    "colab": {
     "base_uri": "https://localhost:8080/"
    },
    "id": "N_qFDY4oEZcr",
    "outputId": "30247fbc-98e2-47ff-8189-57299dab5e5a"
   },
   "outputs": [
    {
     "data": {
      "text/plain": [
       "(8695, 113687)"
      ]
     },
     "execution_count": 96,
     "metadata": {},
     "output_type": "execute_result"
    }
   ],
   "source": [
    "tfidf_matrix.shape"
   ]
  },
  {
   "cell_type": "code",
   "execution_count": 97,
   "metadata": {
    "id": "Dz7ilgB2ElpU"
   },
   "outputs": [],
   "source": [
    "sim_tfidf = linear_kernel(tfidf_matrix, tfidf_matrix)"
   ]
  },
  {
   "cell_type": "markdown",
   "metadata": {
    "id": "Fo_kYj3WEqhA"
   },
   "source": [
    "## **Count Vectorizer**"
   ]
  },
  {
   "cell_type": "code",
   "execution_count": 98,
   "metadata": {
    "id": "TNVV4I5tZr5y"
   },
   "outputs": [],
   "source": [
    "count = CountVectorizer(analyzer = 'word', ngram_range = (1, 2), min_df = 0, stop_words ='english')\n",
    "count_matrix = count.fit_transform(smd['combination'])"
   ]
  },
  {
   "cell_type": "code",
   "execution_count": 99,
   "metadata": {},
   "outputs": [
    {
     "data": {
      "text/plain": [
       "(8695, 113687)"
      ]
     },
     "execution_count": 99,
     "metadata": {},
     "output_type": "execute_result"
    }
   ],
   "source": [
    "count_matrix.shape"
   ]
  },
  {
   "cell_type": "code",
   "execution_count": 100,
   "metadata": {
    "id": "9841GEFgaKOm"
   },
   "outputs": [],
   "source": [
    "sim_cv = cosine_similarity(count_matrix, count_matrix)"
   ]
  },
  {
   "cell_type": "markdown",
   "metadata": {},
   "source": [
    "## Content Filtering Recommendation System"
   ]
  },
  {
   "cell_type": "code",
   "execution_count": 101,
   "metadata": {},
   "outputs": [],
   "source": [
    "smd = smd.reset_index()\n",
    "titles = smd['title']\n",
    "indices = pd.Series(smd.index, index = smd['title'])"
   ]
  },
  {
   "cell_type": "code",
   "execution_count": 102,
   "metadata": {
    "colab": {
     "base_uri": "https://localhost:8080/",
     "height": 112
    },
    "id": "TC-zNDgzWdhw",
    "outputId": "5d9b6a7f-7798-43bd-f316-83b52429da99"
   },
   "outputs": [
    {
     "data": {
      "text/html": [
       "<div>\n",
       "<style scoped>\n",
       "    .dataframe tbody tr th:only-of-type {\n",
       "        vertical-align: middle;\n",
       "    }\n",
       "\n",
       "    .dataframe tbody tr th {\n",
       "        vertical-align: top;\n",
       "    }\n",
       "\n",
       "    .dataframe thead th {\n",
       "        text-align: right;\n",
       "    }\n",
       "</style>\n",
       "<table border=\"1\" class=\"dataframe\">\n",
       "  <thead>\n",
       "    <tr style=\"text-align: right;\">\n",
       "      <th></th>\n",
       "      <th>index</th>\n",
       "      <th>id</th>\n",
       "      <th>title</th>\n",
       "      <th>combination</th>\n",
       "    </tr>\n",
       "  </thead>\n",
       "  <tbody>\n",
       "    <tr>\n",
       "      <th>0</th>\n",
       "      <td>0</td>\n",
       "      <td>862</td>\n",
       "      <td>Toy Story</td>\n",
       "      <td>johnlasseter johnlasseter tomhanks timallen do...</td>\n",
       "    </tr>\n",
       "    <tr>\n",
       "      <th>1</th>\n",
       "      <td>1</td>\n",
       "      <td>8844</td>\n",
       "      <td>Jumanji</td>\n",
       "      <td>joejohnston joejohnston robinwilliams jonathan...</td>\n",
       "    </tr>\n",
       "  </tbody>\n",
       "</table>\n",
       "</div>"
      ],
      "text/plain": [
       "   index    id      title                                        combination\n",
       "0      0   862  Toy Story  johnlasseter johnlasseter tomhanks timallen do...\n",
       "1      1  8844    Jumanji  joejohnston joejohnston robinwilliams jonathan..."
      ]
     },
     "execution_count": 102,
     "metadata": {},
     "output_type": "execute_result"
    }
   ],
   "source": [
    "smd.head(2)"
   ]
  },
  {
   "cell_type": "code",
   "execution_count": 103,
   "metadata": {
    "id": "g24dGiQFF4nK"
   },
   "outputs": [],
   "source": [
    "def get_recommendations(title, method):\n",
    "    idx = indices[title]\n",
    "    sim_scores = list(enumerate(method[idx]))\n",
    "    sim_scores = sorted(sim_scores, key=lambda x: x[1], reverse=True)\n",
    "    sim_scores = sim_scores[1:31]\n",
    "    movie_indices = [i[0] for i in sim_scores]\n",
    "    recommendations = pd.DataFrame(titles.iloc[movie_indices])\n",
    "    print('Best Movie Recommendations are:')\n",
    "    return recommendations.head(10).style.hide_index()"
   ]
  },
  {
   "cell_type": "markdown",
   "metadata": {
    "colab": {
     "base_uri": "https://localhost:8080/",
     "height": 380
    },
    "id": "t9V47Hd_3UpT",
    "outputId": "cc429cc8-ddfb-4d1f-9e30-3d3c41d46468"
   },
   "source": [
    "### Using Cosine Similarity with Tf-Idf"
   ]
  },
  {
   "cell_type": "code",
   "execution_count": 104,
   "metadata": {},
   "outputs": [
    {
     "name": "stdout",
     "output_type": "stream",
     "text": [
      "Best Movie Recommendations are:\n"
     ]
    },
    {
     "data": {
      "text/html": [
       "<style  type=\"text/css\" >\n",
       "</style><table id=\"T_c508ebf2_d733_11ec_ab59_bce92ff5db5a\" ><thead>    <tr>        <th class=\"col_heading level0 col0\" >title</th>    </tr></thead><tbody>\n",
       "                <tr>\n",
       "                                <td id=\"T_c508ebf2_d733_11ec_ab59_bce92ff5db5arow0_col0\" class=\"data row0 col0\" >The Godfather: Part II</td>\n",
       "            </tr>\n",
       "            <tr>\n",
       "                                <td id=\"T_c508ebf2_d733_11ec_ab59_bce92ff5db5arow1_col0\" class=\"data row1 col0\" >Tucker: The Man and His Dream</td>\n",
       "            </tr>\n",
       "            <tr>\n",
       "                                <td id=\"T_c508ebf2_d733_11ec_ab59_bce92ff5db5arow2_col0\" class=\"data row2 col0\" >The Cotton Club</td>\n",
       "            </tr>\n",
       "            <tr>\n",
       "                                <td id=\"T_c508ebf2_d733_11ec_ab59_bce92ff5db5arow3_col0\" class=\"data row3 col0\" >The Godfather: Part III</td>\n",
       "            </tr>\n",
       "            <tr>\n",
       "                                <td id=\"T_c508ebf2_d733_11ec_ab59_bce92ff5db5arow4_col0\" class=\"data row4 col0\" >The Rainmaker</td>\n",
       "            </tr>\n",
       "            <tr>\n",
       "                                <td id=\"T_c508ebf2_d733_11ec_ab59_bce92ff5db5arow5_col0\" class=\"data row5 col0\" >Trial by Jury</td>\n",
       "            </tr>\n",
       "            <tr>\n",
       "                                <td id=\"T_c508ebf2_d733_11ec_ab59_bce92ff5db5arow6_col0\" class=\"data row6 col0\" >Gardens of Stone</td>\n",
       "            </tr>\n",
       "            <tr>\n",
       "                                <td id=\"T_c508ebf2_d733_11ec_ab59_bce92ff5db5arow7_col0\" class=\"data row7 col0\" >Peggy Sue Got Married</td>\n",
       "            </tr>\n",
       "            <tr>\n",
       "                                <td id=\"T_c508ebf2_d733_11ec_ab59_bce92ff5db5arow8_col0\" class=\"data row8 col0\" >Rumble Fish</td>\n",
       "            </tr>\n",
       "            <tr>\n",
       "                                <td id=\"T_c508ebf2_d733_11ec_ab59_bce92ff5db5arow9_col0\" class=\"data row9 col0\" >One from the Heart</td>\n",
       "            </tr>\n",
       "    </tbody></table>"
      ],
      "text/plain": [
       "<pandas.io.formats.style.Styler at 0x1feb25d7eb0>"
      ]
     },
     "execution_count": 104,
     "metadata": {},
     "output_type": "execute_result"
    }
   ],
   "source": [
    "get_recommendations('The Godfather', sim_tfidf)"
   ]
  },
  {
   "cell_type": "code",
   "execution_count": 105,
   "metadata": {},
   "outputs": [
    {
     "name": "stdout",
     "output_type": "stream",
     "text": [
      "Best Movie Recommendations are:\n"
     ]
    },
    {
     "data": {
      "text/html": [
       "<style  type=\"text/css\" >\n",
       "</style><table id=\"T_c510094f_d733_11ec_89fa_bce92ff5db5a\" ><thead>    <tr>        <th class=\"col_heading level0 col0\" >title</th>    </tr></thead><tbody>\n",
       "                <tr>\n",
       "                                <td id=\"T_c510094f_d733_11ec_89fa_bce92ff5db5arow0_col0\" class=\"data row0 col0\" >Batman Begins</td>\n",
       "            </tr>\n",
       "            <tr>\n",
       "                                <td id=\"T_c510094f_d733_11ec_89fa_bce92ff5db5arow1_col0\" class=\"data row1 col0\" >The Dark Knight Rises</td>\n",
       "            </tr>\n",
       "            <tr>\n",
       "                                <td id=\"T_c510094f_d733_11ec_89fa_bce92ff5db5arow2_col0\" class=\"data row2 col0\" >Batman Returns</td>\n",
       "            </tr>\n",
       "            <tr>\n",
       "                                <td id=\"T_c510094f_d733_11ec_89fa_bce92ff5db5arow3_col0\" class=\"data row3 col0\" >Batman: Under the Red Hood</td>\n",
       "            </tr>\n",
       "            <tr>\n",
       "                                <td id=\"T_c510094f_d733_11ec_89fa_bce92ff5db5arow4_col0\" class=\"data row4 col0\" >Batman & Robin</td>\n",
       "            </tr>\n",
       "            <tr>\n",
       "                                <td id=\"T_c510094f_d733_11ec_89fa_bce92ff5db5arow5_col0\" class=\"data row5 col0\" >Batman</td>\n",
       "            </tr>\n",
       "            <tr>\n",
       "                                <td id=\"T_c510094f_d733_11ec_89fa_bce92ff5db5arow6_col0\" class=\"data row6 col0\" >Batman Forever</td>\n",
       "            </tr>\n",
       "            <tr>\n",
       "                                <td id=\"T_c510094f_d733_11ec_89fa_bce92ff5db5arow7_col0\" class=\"data row7 col0\" >Superman</td>\n",
       "            </tr>\n",
       "            <tr>\n",
       "                                <td id=\"T_c510094f_d733_11ec_89fa_bce92ff5db5arow8_col0\" class=\"data row8 col0\" >The Prestige</td>\n",
       "            </tr>\n",
       "            <tr>\n",
       "                                <td id=\"T_c510094f_d733_11ec_89fa_bce92ff5db5arow9_col0\" class=\"data row9 col0\" >Superman III</td>\n",
       "            </tr>\n",
       "    </tbody></table>"
      ],
      "text/plain": [
       "<pandas.io.formats.style.Styler at 0x1fe9bfb8490>"
      ]
     },
     "execution_count": 105,
     "metadata": {},
     "output_type": "execute_result"
    }
   ],
   "source": [
    "get_recommendations('The Dark Knight', sim_tfidf)"
   ]
  },
  {
   "cell_type": "code",
   "execution_count": 106,
   "metadata": {},
   "outputs": [
    {
     "name": "stdout",
     "output_type": "stream",
     "text": [
      "Best Movie Recommendations are:\n"
     ]
    },
    {
     "data": {
      "text/html": [
       "<style  type=\"text/css\" >\n",
       "</style><table id=\"T_c5175a4d_d733_11ec_992b_bce92ff5db5a\" ><thead>    <tr>        <th class=\"col_heading level0 col0\" >title</th>    </tr></thead><tbody>\n",
       "                <tr>\n",
       "                                <td id=\"T_c5175a4d_d733_11ec_992b_bce92ff5db5arow0_col0\" class=\"data row0 col0\" >Toy Story 2</td>\n",
       "            </tr>\n",
       "            <tr>\n",
       "                                <td id=\"T_c5175a4d_d733_11ec_992b_bce92ff5db5arow1_col0\" class=\"data row1 col0\" >Toy Story 3</td>\n",
       "            </tr>\n",
       "            <tr>\n",
       "                                <td id=\"T_c5175a4d_d733_11ec_992b_bce92ff5db5arow2_col0\" class=\"data row2 col0\" >Small Soldiers</td>\n",
       "            </tr>\n",
       "            <tr>\n",
       "                                <td id=\"T_c5175a4d_d733_11ec_992b_bce92ff5db5arow3_col0\" class=\"data row3 col0\" >Child's Play 2</td>\n",
       "            </tr>\n",
       "            <tr>\n",
       "                                <td id=\"T_c5175a4d_d733_11ec_992b_bce92ff5db5arow4_col0\" class=\"data row4 col0\" >Toy Story of Terror!</td>\n",
       "            </tr>\n",
       "            <tr>\n",
       "                                <td id=\"T_c5175a4d_d733_11ec_992b_bce92ff5db5arow5_col0\" class=\"data row5 col0\" >Luxo Jr.</td>\n",
       "            </tr>\n",
       "            <tr>\n",
       "                                <td id=\"T_c5175a4d_d733_11ec_992b_bce92ff5db5arow6_col0\" class=\"data row6 col0\" >Bride of Chucky</td>\n",
       "            </tr>\n",
       "            <tr>\n",
       "                                <td id=\"T_c5175a4d_d733_11ec_992b_bce92ff5db5arow7_col0\" class=\"data row7 col0\" >Cars 2</td>\n",
       "            </tr>\n",
       "            <tr>\n",
       "                                <td id=\"T_c5175a4d_d733_11ec_992b_bce92ff5db5arow8_col0\" class=\"data row8 col0\" >Child's Play 3</td>\n",
       "            </tr>\n",
       "            <tr>\n",
       "                                <td id=\"T_c5175a4d_d733_11ec_992b_bce92ff5db5arow9_col0\" class=\"data row9 col0\" >A Bug's Life</td>\n",
       "            </tr>\n",
       "    </tbody></table>"
      ],
      "text/plain": [
       "<pandas.io.formats.style.Styler at 0x1fe83306190>"
      ]
     },
     "execution_count": 106,
     "metadata": {},
     "output_type": "execute_result"
    }
   ],
   "source": [
    "get_recommendations('Toy Story', sim_tfidf)"
   ]
  },
  {
   "cell_type": "code",
   "execution_count": 107,
   "metadata": {
    "scrolled": true
   },
   "outputs": [
    {
     "name": "stdout",
     "output_type": "stream",
     "text": [
      "Best Movie Recommendations are:\n"
     ]
    },
    {
     "data": {
      "text/html": [
       "<style  type=\"text/css\" >\n",
       "</style><table id=\"T_c51ebd81_d733_11ec_a30e_bce92ff5db5a\" ><thead>    <tr>        <th class=\"col_heading level0 col0\" >title</th>    </tr></thead><tbody>\n",
       "                <tr>\n",
       "                                <td id=\"T_c51ebd81_d733_11ec_a30e_bce92ff5db5arow0_col0\" class=\"data row0 col0\" >The DUFF</td>\n",
       "            </tr>\n",
       "            <tr>\n",
       "                                <td id=\"T_c51ebd81_d733_11ec_a30e_bce92ff5db5arow1_col0\" class=\"data row1 col0\" >16 Wishes</td>\n",
       "            </tr>\n",
       "            <tr>\n",
       "                                <td id=\"T_c51ebd81_d733_11ec_a30e_bce92ff5db5arow2_col0\" class=\"data row2 col0\" >Head Over Heels</td>\n",
       "            </tr>\n",
       "            <tr>\n",
       "                                <td id=\"T_c51ebd81_d733_11ec_a30e_bce92ff5db5arow3_col0\" class=\"data row3 col0\" >17 Again</td>\n",
       "            </tr>\n",
       "            <tr>\n",
       "                                <td id=\"T_c51ebd81_d733_11ec_a30e_bce92ff5db5arow4_col0\" class=\"data row4 col0\" >It's a Boy Girl Thing</td>\n",
       "            </tr>\n",
       "            <tr>\n",
       "                                <td id=\"T_c51ebd81_d733_11ec_a30e_bce92ff5db5arow5_col0\" class=\"data row5 col0\" >Summer School</td>\n",
       "            </tr>\n",
       "            <tr>\n",
       "                                <td id=\"T_c51ebd81_d733_11ec_a30e_bce92ff5db5arow6_col0\" class=\"data row6 col0\" >Ghosts of Girlfriends Past</td>\n",
       "            </tr>\n",
       "            <tr>\n",
       "                                <td id=\"T_c51ebd81_d733_11ec_a30e_bce92ff5db5arow7_col0\" class=\"data row7 col0\" >American Pie Presents: The Book of Love</td>\n",
       "            </tr>\n",
       "            <tr>\n",
       "                                <td id=\"T_c51ebd81_d733_11ec_a30e_bce92ff5db5arow8_col0\" class=\"data row8 col0\" >High School Musical 3: Senior Year</td>\n",
       "            </tr>\n",
       "            <tr>\n",
       "                                <td id=\"T_c51ebd81_d733_11ec_a30e_bce92ff5db5arow9_col0\" class=\"data row9 col0\" >High School High</td>\n",
       "            </tr>\n",
       "    </tbody></table>"
      ],
      "text/plain": [
       "<pandas.io.formats.style.Styler at 0x1fe83306be0>"
      ]
     },
     "execution_count": 107,
     "metadata": {},
     "output_type": "execute_result"
    }
   ],
   "source": [
    "get_recommendations('Mean Girls', sim_tfidf)"
   ]
  },
  {
   "cell_type": "markdown",
   "metadata": {},
   "source": [
    "### Using Cosine Similarity with Count Vectorizer"
   ]
  },
  {
   "cell_type": "code",
   "execution_count": 108,
   "metadata": {},
   "outputs": [
    {
     "name": "stdout",
     "output_type": "stream",
     "text": [
      "Best Movie Recommendations are:\n"
     ]
    },
    {
     "data": {
      "text/html": [
       "<style  type=\"text/css\" >\n",
       "</style><table id=\"T_c5274dd2_d733_11ec_979b_bce92ff5db5a\" ><thead>    <tr>        <th class=\"col_heading level0 col0\" >title</th>    </tr></thead><tbody>\n",
       "                <tr>\n",
       "                                <td id=\"T_c5274dd2_d733_11ec_979b_bce92ff5db5arow0_col0\" class=\"data row0 col0\" >The Godfather: Part II</td>\n",
       "            </tr>\n",
       "            <tr>\n",
       "                                <td id=\"T_c5274dd2_d733_11ec_979b_bce92ff5db5arow1_col0\" class=\"data row1 col0\" >The Godfather: Part III</td>\n",
       "            </tr>\n",
       "            <tr>\n",
       "                                <td id=\"T_c5274dd2_d733_11ec_979b_bce92ff5db5arow2_col0\" class=\"data row2 col0\" >The Rainmaker</td>\n",
       "            </tr>\n",
       "            <tr>\n",
       "                                <td id=\"T_c5274dd2_d733_11ec_979b_bce92ff5db5arow3_col0\" class=\"data row3 col0\" >The Cotton Club</td>\n",
       "            </tr>\n",
       "            <tr>\n",
       "                                <td id=\"T_c5274dd2_d733_11ec_979b_bce92ff5db5arow4_col0\" class=\"data row4 col0\" >Trial by Jury</td>\n",
       "            </tr>\n",
       "            <tr>\n",
       "                                <td id=\"T_c5274dd2_d733_11ec_979b_bce92ff5db5arow5_col0\" class=\"data row5 col0\" >Batman Begins</td>\n",
       "            </tr>\n",
       "            <tr>\n",
       "                                <td id=\"T_c5274dd2_d733_11ec_979b_bce92ff5db5arow6_col0\" class=\"data row6 col0\" >Shoot the Piano Player</td>\n",
       "            </tr>\n",
       "            <tr>\n",
       "                                <td id=\"T_c5274dd2_d733_11ec_979b_bce92ff5db5arow7_col0\" class=\"data row7 col0\" >Point Blank</td>\n",
       "            </tr>\n",
       "            <tr>\n",
       "                                <td id=\"T_c5274dd2_d733_11ec_979b_bce92ff5db5arow8_col0\" class=\"data row8 col0\" >Black Mass</td>\n",
       "            </tr>\n",
       "            <tr>\n",
       "                                <td id=\"T_c5274dd2_d733_11ec_979b_bce92ff5db5arow9_col0\" class=\"data row9 col0\" >Tucker: The Man and His Dream</td>\n",
       "            </tr>\n",
       "    </tbody></table>"
      ],
      "text/plain": [
       "<pandas.io.formats.style.Styler at 0x1fea9d589a0>"
      ]
     },
     "execution_count": 108,
     "metadata": {},
     "output_type": "execute_result"
    }
   ],
   "source": [
    "get_recommendations('The Godfather', sim_cv)"
   ]
  },
  {
   "cell_type": "code",
   "execution_count": 109,
   "metadata": {
    "colab": {
     "base_uri": "https://localhost:8080/"
    },
    "id": "ZSvS_hXmaqUi",
    "outputId": "baf4be0f-a9f0-4600-f356-4d11bcf1ff07"
   },
   "outputs": [
    {
     "name": "stdout",
     "output_type": "stream",
     "text": [
      "Best Movie Recommendations are:\n"
     ]
    },
    {
     "data": {
      "text/html": [
       "<style  type=\"text/css\" >\n",
       "</style><table id=\"T_c52f2a4a_d733_11ec_8959_bce92ff5db5a\" ><thead>    <tr>        <th class=\"col_heading level0 col0\" >title</th>    </tr></thead><tbody>\n",
       "                <tr>\n",
       "                                <td id=\"T_c52f2a4a_d733_11ec_8959_bce92ff5db5arow0_col0\" class=\"data row0 col0\" >Batman Begins</td>\n",
       "            </tr>\n",
       "            <tr>\n",
       "                                <td id=\"T_c52f2a4a_d733_11ec_8959_bce92ff5db5arow1_col0\" class=\"data row1 col0\" >The Dark Knight Rises</td>\n",
       "            </tr>\n",
       "            <tr>\n",
       "                                <td id=\"T_c52f2a4a_d733_11ec_8959_bce92ff5db5arow2_col0\" class=\"data row2 col0\" >Batman: Under the Red Hood</td>\n",
       "            </tr>\n",
       "            <tr>\n",
       "                                <td id=\"T_c52f2a4a_d733_11ec_8959_bce92ff5db5arow3_col0\" class=\"data row3 col0\" >Batman & Robin</td>\n",
       "            </tr>\n",
       "            <tr>\n",
       "                                <td id=\"T_c52f2a4a_d733_11ec_8959_bce92ff5db5arow4_col0\" class=\"data row4 col0\" >Batman Returns</td>\n",
       "            </tr>\n",
       "            <tr>\n",
       "                                <td id=\"T_c52f2a4a_d733_11ec_8959_bce92ff5db5arow5_col0\" class=\"data row5 col0\" >Batman</td>\n",
       "            </tr>\n",
       "            <tr>\n",
       "                                <td id=\"T_c52f2a4a_d733_11ec_8959_bce92ff5db5arow6_col0\" class=\"data row6 col0\" >Kick-Ass 2</td>\n",
       "            </tr>\n",
       "            <tr>\n",
       "                                <td id=\"T_c52f2a4a_d733_11ec_8959_bce92ff5db5arow7_col0\" class=\"data row7 col0\" >Batman Forever</td>\n",
       "            </tr>\n",
       "            <tr>\n",
       "                                <td id=\"T_c52f2a4a_d733_11ec_8959_bce92ff5db5arow8_col0\" class=\"data row8 col0\" >Superman</td>\n",
       "            </tr>\n",
       "            <tr>\n",
       "                                <td id=\"T_c52f2a4a_d733_11ec_8959_bce92ff5db5arow9_col0\" class=\"data row9 col0\" >Batman: Year One</td>\n",
       "            </tr>\n",
       "    </tbody></table>"
      ],
      "text/plain": [
       "<pandas.io.formats.style.Styler at 0x1fe98ce0910>"
      ]
     },
     "execution_count": 109,
     "metadata": {},
     "output_type": "execute_result"
    }
   ],
   "source": [
    "get_recommendations('The Dark Knight', sim_cv)"
   ]
  },
  {
   "cell_type": "code",
   "execution_count": 110,
   "metadata": {
    "colab": {
     "base_uri": "https://localhost:8080/"
    },
    "id": "7rdCnl8ta6wE",
    "outputId": "99e85e69-1208-41d3-f84b-647128ce0249"
   },
   "outputs": [
    {
     "name": "stdout",
     "output_type": "stream",
     "text": [
      "Best Movie Recommendations are:\n"
     ]
    },
    {
     "data": {
      "text/html": [
       "<style  type=\"text/css\" >\n",
       "</style><table id=\"T_c538fb37_d733_11ec_a8c0_bce92ff5db5a\" ><thead>    <tr>        <th class=\"col_heading level0 col0\" >title</th>    </tr></thead><tbody>\n",
       "                <tr>\n",
       "                                <td id=\"T_c538fb37_d733_11ec_a8c0_bce92ff5db5arow0_col0\" class=\"data row0 col0\" >Toy Story 2</td>\n",
       "            </tr>\n",
       "            <tr>\n",
       "                                <td id=\"T_c538fb37_d733_11ec_a8c0_bce92ff5db5arow1_col0\" class=\"data row1 col0\" >Toy Story 3</td>\n",
       "            </tr>\n",
       "            <tr>\n",
       "                                <td id=\"T_c538fb37_d733_11ec_a8c0_bce92ff5db5arow2_col0\" class=\"data row2 col0\" >Small Soldiers</td>\n",
       "            </tr>\n",
       "            <tr>\n",
       "                                <td id=\"T_c538fb37_d733_11ec_a8c0_bce92ff5db5arow3_col0\" class=\"data row3 col0\" >Toy Story of Terror!</td>\n",
       "            </tr>\n",
       "            <tr>\n",
       "                                <td id=\"T_c538fb37_d733_11ec_a8c0_bce92ff5db5arow4_col0\" class=\"data row4 col0\" >Child's Play 2</td>\n",
       "            </tr>\n",
       "            <tr>\n",
       "                                <td id=\"T_c538fb37_d733_11ec_a8c0_bce92ff5db5arow5_col0\" class=\"data row5 col0\" >Bride of Chucky</td>\n",
       "            </tr>\n",
       "            <tr>\n",
       "                                <td id=\"T_c538fb37_d733_11ec_a8c0_bce92ff5db5arow6_col0\" class=\"data row6 col0\" >Cars 2</td>\n",
       "            </tr>\n",
       "            <tr>\n",
       "                                <td id=\"T_c538fb37_d733_11ec_a8c0_bce92ff5db5arow7_col0\" class=\"data row7 col0\" >Pinocchio</td>\n",
       "            </tr>\n",
       "            <tr>\n",
       "                                <td id=\"T_c538fb37_d733_11ec_a8c0_bce92ff5db5arow8_col0\" class=\"data row8 col0\" >A Bug's Life</td>\n",
       "            </tr>\n",
       "            <tr>\n",
       "                                <td id=\"T_c538fb37_d733_11ec_a8c0_bce92ff5db5arow9_col0\" class=\"data row9 col0\" >Ted</td>\n",
       "            </tr>\n",
       "    </tbody></table>"
      ],
      "text/plain": [
       "<pandas.io.formats.style.Styler at 0x1fe98ce00a0>"
      ]
     },
     "execution_count": 110,
     "metadata": {},
     "output_type": "execute_result"
    }
   ],
   "source": [
    "get_recommendations('Toy Story', sim_cv)"
   ]
  },
  {
   "cell_type": "code",
   "execution_count": 111,
   "metadata": {
    "colab": {
     "base_uri": "https://localhost:8080/"
    },
    "id": "8bHoCMYva6tU",
    "outputId": "fd221964-00c0-4c7f-e036-fd4b301f3899"
   },
   "outputs": [
    {
     "name": "stdout",
     "output_type": "stream",
     "text": [
      "Best Movie Recommendations are:\n"
     ]
    },
    {
     "data": {
      "text/html": [
       "<style  type=\"text/css\" >\n",
       "</style><table id=\"T_c5411e99_d733_11ec_a35b_bce92ff5db5a\" ><thead>    <tr>        <th class=\"col_heading level0 col0\" >title</th>    </tr></thead><tbody>\n",
       "                <tr>\n",
       "                                <td id=\"T_c5411e99_d733_11ec_a35b_bce92ff5db5arow0_col0\" class=\"data row0 col0\" >The DUFF</td>\n",
       "            </tr>\n",
       "            <tr>\n",
       "                                <td id=\"T_c5411e99_d733_11ec_a35b_bce92ff5db5arow1_col0\" class=\"data row1 col0\" >17 Again</td>\n",
       "            </tr>\n",
       "            <tr>\n",
       "                                <td id=\"T_c5411e99_d733_11ec_a35b_bce92ff5db5arow2_col0\" class=\"data row2 col0\" >Summer School</td>\n",
       "            </tr>\n",
       "            <tr>\n",
       "                                <td id=\"T_c5411e99_d733_11ec_a35b_bce92ff5db5arow3_col0\" class=\"data row3 col0\" >American Pie Presents: The Book of Love</td>\n",
       "            </tr>\n",
       "            <tr>\n",
       "                                <td id=\"T_c5411e99_d733_11ec_a35b_bce92ff5db5arow4_col0\" class=\"data row4 col0\" >16 Wishes</td>\n",
       "            </tr>\n",
       "            <tr>\n",
       "                                <td id=\"T_c5411e99_d733_11ec_a35b_bce92ff5db5arow5_col0\" class=\"data row5 col0\" >High School High</td>\n",
       "            </tr>\n",
       "            <tr>\n",
       "                                <td id=\"T_c5411e99_d733_11ec_a35b_bce92ff5db5arow6_col0\" class=\"data row6 col0\" >It's a Boy Girl Thing</td>\n",
       "            </tr>\n",
       "            <tr>\n",
       "                                <td id=\"T_c5411e99_d733_11ec_a35b_bce92ff5db5arow7_col0\" class=\"data row7 col0\" >Easy A</td>\n",
       "            </tr>\n",
       "            <tr>\n",
       "                                <td id=\"T_c5411e99_d733_11ec_a35b_bce92ff5db5arow8_col0\" class=\"data row8 col0\" >High School Musical 3: Senior Year</td>\n",
       "            </tr>\n",
       "            <tr>\n",
       "                                <td id=\"T_c5411e99_d733_11ec_a35b_bce92ff5db5arow9_col0\" class=\"data row9 col0\" >High School Musical</td>\n",
       "            </tr>\n",
       "    </tbody></table>"
      ],
      "text/plain": [
       "<pandas.io.formats.style.Styler at 0x1fe98ce0370>"
      ]
     },
     "execution_count": 111,
     "metadata": {},
     "output_type": "execute_result"
    }
   ],
   "source": [
    "get_recommendations('Mean Girls', sim_cv)"
   ]
  },
  {
   "cell_type": "markdown",
   "metadata": {
    "id": "D9pxDgZnbBg8"
   },
   "source": [
    "# **Collaborative Based Filtering**"
   ]
  },
  {
   "cell_type": "code",
   "execution_count": 112,
   "metadata": {
    "id": "xtVGT2CyfCFc"
   },
   "outputs": [],
   "source": [
    "reader = Reader()"
   ]
  },
  {
   "cell_type": "code",
   "execution_count": 113,
   "metadata": {
    "colab": {
     "base_uri": "https://localhost:8080/",
     "height": 206
    },
    "id": "9Ye1Gpq2fDbF",
    "outputId": "34cdd016-3fe1-4fec-9c0d-39e80b4ee310"
   },
   "outputs": [
    {
     "data": {
      "text/html": [
       "<div>\n",
       "<style scoped>\n",
       "    .dataframe tbody tr th:only-of-type {\n",
       "        vertical-align: middle;\n",
       "    }\n",
       "\n",
       "    .dataframe tbody tr th {\n",
       "        vertical-align: top;\n",
       "    }\n",
       "\n",
       "    .dataframe thead th {\n",
       "        text-align: right;\n",
       "    }\n",
       "</style>\n",
       "<table border=\"1\" class=\"dataframe\">\n",
       "  <thead>\n",
       "    <tr style=\"text-align: right;\">\n",
       "      <th></th>\n",
       "      <th>userId</th>\n",
       "      <th>movieId</th>\n",
       "      <th>rating</th>\n",
       "      <th>timestamp</th>\n",
       "    </tr>\n",
       "  </thead>\n",
       "  <tbody>\n",
       "    <tr>\n",
       "      <th>0</th>\n",
       "      <td>1</td>\n",
       "      <td>31</td>\n",
       "      <td>2.5</td>\n",
       "      <td>1260759144</td>\n",
       "    </tr>\n",
       "    <tr>\n",
       "      <th>1</th>\n",
       "      <td>1</td>\n",
       "      <td>1029</td>\n",
       "      <td>3.0</td>\n",
       "      <td>1260759179</td>\n",
       "    </tr>\n",
       "    <tr>\n",
       "      <th>2</th>\n",
       "      <td>1</td>\n",
       "      <td>1061</td>\n",
       "      <td>3.0</td>\n",
       "      <td>1260759182</td>\n",
       "    </tr>\n",
       "    <tr>\n",
       "      <th>3</th>\n",
       "      <td>1</td>\n",
       "      <td>1129</td>\n",
       "      <td>2.0</td>\n",
       "      <td>1260759185</td>\n",
       "    </tr>\n",
       "    <tr>\n",
       "      <th>4</th>\n",
       "      <td>1</td>\n",
       "      <td>1172</td>\n",
       "      <td>4.0</td>\n",
       "      <td>1260759205</td>\n",
       "    </tr>\n",
       "  </tbody>\n",
       "</table>\n",
       "</div>"
      ],
      "text/plain": [
       "   userId  movieId  rating   timestamp\n",
       "0       1       31     2.5  1260759144\n",
       "1       1     1029     3.0  1260759179\n",
       "2       1     1061     3.0  1260759182\n",
       "3       1     1129     2.0  1260759185\n",
       "4       1     1172     4.0  1260759205"
      ]
     },
     "execution_count": 113,
     "metadata": {},
     "output_type": "execute_result"
    }
   ],
   "source": [
    "df = pd.read_csv('ratings_small.csv')\n",
    "df.head()"
   ]
  },
  {
   "cell_type": "code",
   "execution_count": 114,
   "metadata": {
    "colab": {
     "base_uri": "https://localhost:8080/"
    },
    "id": "EMhj0VbHa64u",
    "outputId": "6470db0d-cd46-46a8-bd5a-a5e42bd2140a"
   },
   "outputs": [
    {
     "data": {
      "text/plain": [
       "<surprise.dataset.DatasetAutoFolds at 0x1fe9aa97040>"
      ]
     },
     "execution_count": 114,
     "metadata": {},
     "output_type": "execute_result"
    }
   ],
   "source": [
    "data = Dataset.load_from_df(df[['userId', 'movieId', 'rating']], reader)\n",
    "data"
   ]
  },
  {
   "cell_type": "code",
   "execution_count": 115,
   "metadata": {
    "id": "NQwjgub2bXGW"
   },
   "outputs": [],
   "source": [
    "trainset = data.build_full_trainset()"
   ]
  },
  {
   "cell_type": "markdown",
   "metadata": {
    "id": "d2HluYKDXB0v"
   },
   "source": [
    "## **K-Nearest Neighbor (KNN)**"
   ]
  },
  {
   "cell_type": "code",
   "execution_count": 116,
   "metadata": {
    "colab": {
     "base_uri": "https://localhost:8080/"
    },
    "id": "CVfTbqdxXFGd",
    "outputId": "3cc8a3f7-cce9-4c3a-844a-9247e7e99b8a"
   },
   "outputs": [
    {
     "name": "stdout",
     "output_type": "stream",
     "text": [
      "Computing the msd similarity matrix...\n",
      "Done computing similarity matrix.\n",
      "Computing the msd similarity matrix...\n",
      "Done computing similarity matrix.\n",
      "Computing the msd similarity matrix...\n",
      "Done computing similarity matrix.\n",
      "Computing the msd similarity matrix...\n",
      "Done computing similarity matrix.\n",
      "Computing the msd similarity matrix...\n",
      "Done computing similarity matrix.\n",
      "Evaluating RMSE of algorithm KNNBasic on 5 split(s).\n",
      "\n",
      "                  Fold 1  Fold 2  Fold 3  Fold 4  Fold 5  Mean    Std     \n",
      "RMSE (testset)    0.9744  0.9665  0.9717  0.9651  0.9666  0.9688  0.0036  \n",
      "Fit time          0.70    0.87    0.47    0.54    0.58    0.63    0.14    \n",
      "Test time         4.47    3.84    3.69    4.18    3.73    3.98    0.30    \n"
     ]
    },
    {
     "data": {
      "text/plain": [
       "{'test_rmse': array([0.97436574, 0.96650597, 0.97165779, 0.96506661, 0.96655111]),\n",
       " 'fit_time': (0.6971967220306396,\n",
       "  0.8724844455718994,\n",
       "  0.47184014320373535,\n",
       "  0.5437507629394531,\n",
       "  0.5770838260650635),\n",
       " 'test_time': (4.471184253692627,\n",
       "  3.835362672805786,\n",
       "  3.69254994392395,\n",
       "  4.180209398269653,\n",
       "  3.734480142593384)}"
      ]
     },
     "execution_count": 116,
     "metadata": {},
     "output_type": "execute_result"
    }
   ],
   "source": [
    "knn = KNNBasic()\n",
    "cross_validate(knn, data, measures = ['RMSE'], cv = 5, verbose = True)"
   ]
  },
  {
   "cell_type": "code",
   "execution_count": 117,
   "metadata": {
    "colab": {
     "base_uri": "https://localhost:8080/"
    },
    "id": "KwY6WpOuXFNA",
    "outputId": "e8f54775-5714-4373-cb23-ca5cd274aada"
   },
   "outputs": [
    {
     "name": "stdout",
     "output_type": "stream",
     "text": [
      "Computing the msd similarity matrix...\n",
      "Done computing similarity matrix.\n",
      "Computing the msd similarity matrix...\n",
      "Done computing similarity matrix.\n",
      "Computing the msd similarity matrix...\n",
      "Done computing similarity matrix.\n",
      "Computing the msd similarity matrix...\n",
      "Done computing similarity matrix.\n",
      "Computing the msd similarity matrix...\n",
      "Done computing similarity matrix.\n",
      "Computing the msd similarity matrix...\n",
      "Done computing similarity matrix.\n",
      "Computing the msd similarity matrix...\n",
      "Done computing similarity matrix.\n",
      "Computing the msd similarity matrix...\n",
      "Done computing similarity matrix.\n",
      "Computing the msd similarity matrix...\n",
      "Done computing similarity matrix.\n",
      "Computing the msd similarity matrix...\n",
      "Done computing similarity matrix.\n",
      "Computing the msd similarity matrix...\n",
      "Done computing similarity matrix.\n",
      "Computing the msd similarity matrix...\n",
      "Done computing similarity matrix.\n",
      "Computing the msd similarity matrix...\n",
      "Done computing similarity matrix.\n",
      "Computing the msd similarity matrix...\n",
      "Done computing similarity matrix.\n",
      "Computing the msd similarity matrix...\n",
      "Done computing similarity matrix.\n",
      "Computing the msd similarity matrix...\n",
      "Done computing similarity matrix.\n",
      "Computing the msd similarity matrix...\n",
      "Done computing similarity matrix.\n",
      "Computing the msd similarity matrix...\n",
      "Done computing similarity matrix.\n",
      "Computing the msd similarity matrix...\n",
      "Done computing similarity matrix.\n",
      "Computing the msd similarity matrix...\n",
      "Done computing similarity matrix.\n",
      "Computing the msd similarity matrix...\n",
      "Done computing similarity matrix.\n",
      "Computing the msd similarity matrix...\n",
      "Done computing similarity matrix.\n",
      "Computing the msd similarity matrix...\n",
      "Done computing similarity matrix.\n",
      "Computing the msd similarity matrix...\n",
      "Done computing similarity matrix.\n",
      "Computing the msd similarity matrix...\n",
      "Done computing similarity matrix.\n",
      "Computing the msd similarity matrix...\n",
      "Done computing similarity matrix.\n",
      "Computing the msd similarity matrix...\n",
      "Done computing similarity matrix.\n",
      "Computing the msd similarity matrix...\n",
      "Done computing similarity matrix.\n",
      "Computing the msd similarity matrix...\n",
      "Done computing similarity matrix.\n",
      "Computing the msd similarity matrix...\n",
      "Done computing similarity matrix.\n",
      "Computing the msd similarity matrix...\n",
      "Done computing similarity matrix.\n",
      "Computing the msd similarity matrix...\n",
      "Done computing similarity matrix.\n",
      "Computing the msd similarity matrix...\n",
      "Done computing similarity matrix.\n",
      "Computing the msd similarity matrix...\n",
      "Done computing similarity matrix.\n",
      "Computing the msd similarity matrix...\n",
      "Done computing similarity matrix.\n",
      "Computing the msd similarity matrix...\n",
      "Done computing similarity matrix.\n",
      "Computing the msd similarity matrix...\n",
      "Done computing similarity matrix.\n",
      "Computing the msd similarity matrix...\n",
      "Done computing similarity matrix.\n",
      "Computing the msd similarity matrix...\n",
      "Done computing similarity matrix.\n",
      "Computing the msd similarity matrix...\n",
      "Done computing similarity matrix.\n",
      "Computing the msd similarity matrix...\n",
      "Done computing similarity matrix.\n",
      "Computing the msd similarity matrix...\n",
      "Done computing similarity matrix.\n",
      "Computing the msd similarity matrix...\n",
      "Done computing similarity matrix.\n",
      "Computing the msd similarity matrix...\n",
      "Done computing similarity matrix.\n",
      "Computing the msd similarity matrix...\n",
      "Done computing similarity matrix.\n",
      "Computing the msd similarity matrix...\n",
      "Done computing similarity matrix.\n",
      "Computing the msd similarity matrix...\n",
      "Done computing similarity matrix.\n",
      "Computing the msd similarity matrix...\n",
      "Done computing similarity matrix.\n",
      "Computing the msd similarity matrix...\n",
      "Done computing similarity matrix.\n",
      "Computing the msd similarity matrix...\n",
      "Done computing similarity matrix.\n",
      "Computing the msd similarity matrix...\n",
      "Done computing similarity matrix.\n",
      "Computing the msd similarity matrix...\n",
      "Done computing similarity matrix.\n",
      "Computing the msd similarity matrix...\n",
      "Done computing similarity matrix.\n",
      "Computing the msd similarity matrix...\n",
      "Done computing similarity matrix.\n",
      "Computing the msd similarity matrix...\n",
      "Done computing similarity matrix.\n",
      "Computing the msd similarity matrix...\n",
      "Done computing similarity matrix.\n",
      "Computing the msd similarity matrix...\n",
      "Done computing similarity matrix.\n",
      "Computing the msd similarity matrix...\n",
      "Done computing similarity matrix.\n",
      "Computing the msd similarity matrix...\n",
      "Done computing similarity matrix.\n",
      "Computing the msd similarity matrix...\n",
      "Done computing similarity matrix.\n",
      "Computing the msd similarity matrix...\n",
      "Done computing similarity matrix.\n",
      "Computing the msd similarity matrix...\n",
      "Done computing similarity matrix.\n",
      "Computing the msd similarity matrix...\n",
      "Done computing similarity matrix.\n",
      "Computing the msd similarity matrix...\n",
      "Done computing similarity matrix.\n",
      "Computing the msd similarity matrix...\n",
      "Done computing similarity matrix.\n",
      "Computing the msd similarity matrix...\n",
      "Done computing similarity matrix.\n",
      "Computing the msd similarity matrix...\n",
      "Done computing similarity matrix.\n",
      "Computing the msd similarity matrix...\n",
      "Done computing similarity matrix.\n",
      "Computing the msd similarity matrix...\n",
      "Done computing similarity matrix.\n",
      "Computing the msd similarity matrix...\n",
      "Done computing similarity matrix.\n",
      "Computing the msd similarity matrix...\n",
      "Done computing similarity matrix.\n",
      "Computing the msd similarity matrix...\n",
      "Done computing similarity matrix.\n",
      "Computing the msd similarity matrix...\n",
      "Done computing similarity matrix.\n",
      "Computing the msd similarity matrix...\n",
      "Done computing similarity matrix.\n",
      "Computing the msd similarity matrix...\n",
      "Done computing similarity matrix.\n",
      "Computing the msd similarity matrix...\n",
      "Done computing similarity matrix.\n",
      "Computing the msd similarity matrix...\n",
      "Done computing similarity matrix.\n",
      "Computing the msd similarity matrix...\n",
      "Done computing similarity matrix.\n",
      "Computing the msd similarity matrix...\n",
      "Done computing similarity matrix.\n",
      "Computing the msd similarity matrix...\n",
      "Done computing similarity matrix.\n",
      "Computing the msd similarity matrix...\n",
      "Done computing similarity matrix.\n",
      "Computing the msd similarity matrix...\n",
      "Done computing similarity matrix.\n",
      "Computing the msd similarity matrix...\n",
      "Done computing similarity matrix.\n",
      "Computing the msd similarity matrix...\n",
      "Done computing similarity matrix.\n",
      "Computing the msd similarity matrix...\n",
      "Done computing similarity matrix.\n",
      "Computing the msd similarity matrix...\n",
      "Done computing similarity matrix.\n",
      "Computing the msd similarity matrix...\n",
      "Done computing similarity matrix.\n",
      "Computing the msd similarity matrix...\n",
      "Done computing similarity matrix.\n",
      "Computing the msd similarity matrix...\n",
      "Done computing similarity matrix.\n",
      "Computing the msd similarity matrix...\n",
      "Done computing similarity matrix.\n",
      "Computing the msd similarity matrix...\n",
      "Done computing similarity matrix.\n",
      "Computing the msd similarity matrix...\n",
      "Done computing similarity matrix.\n",
      "Computing the msd similarity matrix...\n",
      "Done computing similarity matrix.\n",
      "Computing the msd similarity matrix...\n",
      "Done computing similarity matrix.\n",
      "Computing the msd similarity matrix...\n",
      "Done computing similarity matrix.\n",
      "Computing the msd similarity matrix...\n",
      "Done computing similarity matrix.\n",
      "Computing the msd similarity matrix...\n",
      "Done computing similarity matrix.\n",
      "Computing the msd similarity matrix...\n",
      "Done computing similarity matrix.\n",
      "Computing the msd similarity matrix...\n",
      "Done computing similarity matrix.\n",
      "Computing the msd similarity matrix...\n",
      "Done computing similarity matrix.\n",
      "Computing the msd similarity matrix...\n",
      "Done computing similarity matrix.\n",
      "Computing the msd similarity matrix...\n",
      "Done computing similarity matrix.\n",
      "Computing the msd similarity matrix...\n",
      "Done computing similarity matrix.\n",
      "Computing the msd similarity matrix...\n",
      "Done computing similarity matrix.\n",
      "Computing the msd similarity matrix...\n",
      "Done computing similarity matrix.\n",
      "Computing the msd similarity matrix...\n",
      "Done computing similarity matrix.\n",
      "Computing the msd similarity matrix...\n",
      "Done computing similarity matrix.\n",
      "Computing the msd similarity matrix...\n",
      "Done computing similarity matrix.\n",
      "Computing the msd similarity matrix...\n",
      "Done computing similarity matrix.\n",
      "Computing the msd similarity matrix...\n",
      "Done computing similarity matrix.\n",
      "Computing the msd similarity matrix...\n",
      "Done computing similarity matrix.\n",
      "Computing the msd similarity matrix...\n",
      "Done computing similarity matrix.\n",
      "Computing the msd similarity matrix...\n"
     ]
    },
    {
     "name": "stdout",
     "output_type": "stream",
     "text": [
      "Done computing similarity matrix.\n",
      "Computing the msd similarity matrix...\n",
      "Done computing similarity matrix.\n",
      "Computing the msd similarity matrix...\n",
      "Done computing similarity matrix.\n",
      "Computing the msd similarity matrix...\n",
      "Done computing similarity matrix.\n",
      "Computing the msd similarity matrix...\n",
      "Done computing similarity matrix.\n",
      "Computing the msd similarity matrix...\n",
      "Done computing similarity matrix.\n",
      "Computing the msd similarity matrix...\n",
      "Done computing similarity matrix.\n",
      "Computing the msd similarity matrix...\n",
      "Done computing similarity matrix.\n",
      "Computing the msd similarity matrix...\n",
      "Done computing similarity matrix.\n",
      "Computing the msd similarity matrix...\n",
      "Done computing similarity matrix.\n",
      "Computing the msd similarity matrix...\n",
      "Done computing similarity matrix.\n",
      "Computing the msd similarity matrix...\n",
      "Done computing similarity matrix.\n",
      "Computing the msd similarity matrix...\n",
      "Done computing similarity matrix.\n",
      "Computing the msd similarity matrix...\n",
      "Done computing similarity matrix.\n",
      "Computing the msd similarity matrix...\n",
      "Done computing similarity matrix.\n",
      "Computing the msd similarity matrix...\n",
      "Done computing similarity matrix.\n",
      "Computing the msd similarity matrix...\n",
      "Done computing similarity matrix.\n",
      "Computing the msd similarity matrix...\n",
      "Done computing similarity matrix.\n",
      "Computing the msd similarity matrix...\n",
      "Done computing similarity matrix.\n",
      "Computing the msd similarity matrix...\n",
      "Done computing similarity matrix.\n",
      "Computing the msd similarity matrix...\n",
      "Done computing similarity matrix.\n",
      "Computing the msd similarity matrix...\n",
      "Done computing similarity matrix.\n",
      "Computing the msd similarity matrix...\n",
      "Done computing similarity matrix.\n",
      "Computing the msd similarity matrix...\n",
      "Done computing similarity matrix.\n",
      "Computing the msd similarity matrix...\n",
      "Done computing similarity matrix.\n",
      "Computing the msd similarity matrix...\n",
      "Done computing similarity matrix.\n",
      "Computing the msd similarity matrix...\n",
      "Done computing similarity matrix.\n",
      "Computing the msd similarity matrix...\n",
      "Done computing similarity matrix.\n",
      "Computing the msd similarity matrix...\n",
      "Done computing similarity matrix.\n",
      "Computing the msd similarity matrix...\n",
      "Done computing similarity matrix.\n",
      "Computing the msd similarity matrix...\n",
      "Done computing similarity matrix.\n",
      "Computing the msd similarity matrix...\n",
      "Done computing similarity matrix.\n",
      "Computing the msd similarity matrix...\n",
      "Done computing similarity matrix.\n",
      "Computing the msd similarity matrix...\n",
      "Done computing similarity matrix.\n",
      "Computing the msd similarity matrix...\n",
      "Done computing similarity matrix.\n",
      "Computing the msd similarity matrix...\n",
      "Done computing similarity matrix.\n",
      "Computing the msd similarity matrix...\n",
      "Done computing similarity matrix.\n",
      "Computing the msd similarity matrix...\n",
      "Done computing similarity matrix.\n",
      "Computing the msd similarity matrix...\n",
      "Done computing similarity matrix.\n",
      "Computing the msd similarity matrix...\n",
      "Done computing similarity matrix.\n",
      "Computing the msd similarity matrix...\n",
      "Done computing similarity matrix.\n",
      "Computing the msd similarity matrix...\n",
      "Done computing similarity matrix.\n",
      "Computing the msd similarity matrix...\n",
      "Done computing similarity matrix.\n",
      "Computing the msd similarity matrix...\n",
      "Done computing similarity matrix.\n",
      "Computing the msd similarity matrix...\n",
      "Done computing similarity matrix.\n",
      "Computing the msd similarity matrix...\n",
      "Done computing similarity matrix.\n",
      "Computing the msd similarity matrix...\n",
      "Done computing similarity matrix.\n",
      "Computing the msd similarity matrix...\n",
      "Done computing similarity matrix.\n",
      "Computing the msd similarity matrix...\n",
      "Done computing similarity matrix.\n",
      "Computing the msd similarity matrix...\n",
      "Done computing similarity matrix.\n",
      "Computing the msd similarity matrix...\n",
      "Done computing similarity matrix.\n",
      "Computing the msd similarity matrix...\n",
      "Done computing similarity matrix.\n",
      "Computing the msd similarity matrix...\n",
      "Done computing similarity matrix.\n",
      "Computing the msd similarity matrix...\n",
      "Done computing similarity matrix.\n",
      "Computing the msd similarity matrix...\n",
      "Done computing similarity matrix.\n",
      "Computing the msd similarity matrix...\n",
      "Done computing similarity matrix.\n",
      "Computing the msd similarity matrix...\n",
      "Done computing similarity matrix.\n",
      "Computing the msd similarity matrix...\n",
      "Done computing similarity matrix.\n",
      "Computing the msd similarity matrix...\n",
      "Done computing similarity matrix.\n",
      "Computing the msd similarity matrix...\n",
      "Done computing similarity matrix.\n",
      "Computing the msd similarity matrix...\n",
      "Done computing similarity matrix.\n",
      "Computing the msd similarity matrix...\n",
      "Done computing similarity matrix.\n",
      "Computing the msd similarity matrix...\n",
      "Done computing similarity matrix.\n",
      "Computing the msd similarity matrix...\n",
      "Done computing similarity matrix.\n",
      "Computing the msd similarity matrix...\n",
      "Done computing similarity matrix.\n",
      "Computing the msd similarity matrix...\n",
      "Done computing similarity matrix.\n",
      "Computing the msd similarity matrix...\n",
      "Done computing similarity matrix.\n",
      "Computing the msd similarity matrix...\n",
      "Done computing similarity matrix.\n",
      "Computing the msd similarity matrix...\n",
      "Done computing similarity matrix.\n",
      "Computing the msd similarity matrix...\n",
      "Done computing similarity matrix.\n",
      "Computing the msd similarity matrix...\n",
      "Done computing similarity matrix.\n",
      "Computing the msd similarity matrix...\n",
      "Done computing similarity matrix.\n",
      "Computing the msd similarity matrix...\n",
      "Done computing similarity matrix.\n",
      "Computing the msd similarity matrix...\n",
      "Done computing similarity matrix.\n",
      "Computing the msd similarity matrix...\n",
      "Done computing similarity matrix.\n",
      "Computing the msd similarity matrix...\n",
      "Done computing similarity matrix.\n",
      "Computing the msd similarity matrix...\n",
      "Done computing similarity matrix.\n",
      "Computing the msd similarity matrix...\n",
      "Done computing similarity matrix.\n",
      "Computing the msd similarity matrix...\n",
      "Done computing similarity matrix.\n",
      "Computing the msd similarity matrix...\n",
      "Done computing similarity matrix.\n",
      "Computing the msd similarity matrix...\n",
      "Done computing similarity matrix.\n",
      "Computing the msd similarity matrix...\n",
      "Done computing similarity matrix.\n",
      "Computing the msd similarity matrix...\n",
      "Done computing similarity matrix.\n",
      "Computing the msd similarity matrix...\n",
      "Done computing similarity matrix.\n",
      "Computing the msd similarity matrix...\n",
      "Done computing similarity matrix.\n",
      "Computing the msd similarity matrix...\n",
      "Done computing similarity matrix.\n",
      "Computing the msd similarity matrix...\n",
      "Done computing similarity matrix.\n",
      "Computing the msd similarity matrix...\n",
      "Done computing similarity matrix.\n",
      "Computing the msd similarity matrix...\n",
      "Done computing similarity matrix.\n",
      "Computing the msd similarity matrix...\n",
      "Done computing similarity matrix.\n",
      "Computing the msd similarity matrix...\n",
      "Done computing similarity matrix.\n",
      "Computing the msd similarity matrix...\n",
      "Done computing similarity matrix.\n",
      "Computing the msd similarity matrix...\n",
      "Done computing similarity matrix.\n",
      "Computing the msd similarity matrix...\n",
      "Done computing similarity matrix.\n",
      "Computing the msd similarity matrix...\n",
      "Done computing similarity matrix.\n",
      "Computing the msd similarity matrix...\n",
      "Done computing similarity matrix.\n",
      "Computing the msd similarity matrix...\n",
      "Done computing similarity matrix.\n",
      "Computing the msd similarity matrix...\n",
      "Done computing similarity matrix.\n"
     ]
    }
   ],
   "source": [
    "#Hyperparameter Tuning\n",
    "param_grid = {'k': list(range(10,45,5)), 'min_k' : list(range(1,7))}\n",
    "\n",
    "knn_gs = GridSearchCV(KNNBasic, param_grid, measures=['rmse'], return_train_measures = True, cv = 5)\n",
    "knn_gs.fit(data)"
   ]
  },
  {
   "cell_type": "code",
   "execution_count": 118,
   "metadata": {
    "colab": {
     "base_uri": "https://localhost:8080/"
    },
    "id": "mfLXk6xAp_Cb",
    "outputId": "76685b8d-6974-479f-fb34-c7385492554d"
   },
   "outputs": [
    {
     "name": "stdout",
     "output_type": "stream",
     "text": [
      "Best RMSE Score : 0.955340429222527\n",
      "Best Parameters : {'k': 15, 'min_k': 3}\n"
     ]
    }
   ],
   "source": [
    "print('Best RMSE Score :', knn_gs.best_score['rmse'])\n",
    "print('Best Parameters :', knn_gs.best_params['rmse'])"
   ]
  },
  {
   "cell_type": "code",
   "execution_count": 119,
   "metadata": {
    "colab": {
     "base_uri": "https://localhost:8080/"
    },
    "id": "QAYkieTmXFSM",
    "outputId": "4bf50392-a758-4125-d18e-57b4e038f021"
   },
   "outputs": [
    {
     "data": {
      "text/plain": [
       "<surprise.prediction_algorithms.knns.KNNBasic at 0x1fe9aa326a0>"
      ]
     },
     "execution_count": 119,
     "metadata": {},
     "output_type": "execute_result"
    }
   ],
   "source": [
    "# Training Dataset on Optimized KNN Model\n",
    "tuned_knn = KNNBasic(k = 15, min_k = 3, verbose = False)\n",
    "tuned_knn.fit(trainset)"
   ]
  },
  {
   "cell_type": "code",
   "execution_count": 120,
   "metadata": {
    "colab": {
     "base_uri": "https://localhost:8080/"
    },
    "id": "mX4ppmo5XFUi",
    "outputId": "ddb3172e-2779-499e-e9b1-c8b497d5abbf"
   },
   "outputs": [
    {
     "data": {
      "text/plain": [
       "Prediction(uid=1, iid=31, r_ui=2.5, est=2.7563242531582075, details={'actual_k': 15, 'was_impossible': False})"
      ]
     },
     "execution_count": 120,
     "metadata": {},
     "output_type": "execute_result"
    }
   ],
   "source": [
    "# userid: 1\n",
    "# movieid: 31\n",
    "# actual rating, r_ui: 2.5\n",
    "tuned_knn.predict(1, 31, 2.5)"
   ]
  },
  {
   "cell_type": "code",
   "execution_count": 121,
   "metadata": {
    "colab": {
     "base_uri": "https://localhost:8080/"
    },
    "id": "5FLThG9vXFXe",
    "outputId": "18991919-8176-46be-debd-1a18c4ddc0e5"
   },
   "outputs": [
    {
     "data": {
      "text/plain": [
       "Prediction(uid=1, iid=302, r_ui=None, est=3.6890085183191363, details={'actual_k': 5, 'was_impossible': False})"
      ]
     },
     "execution_count": 121,
     "metadata": {},
     "output_type": "execute_result"
    }
   ],
   "source": [
    "tuned_knn.predict(1, 302)"
   ]
  },
  {
   "cell_type": "markdown",
   "metadata": {
    "id": "BYlZNYaHW1JV"
   },
   "source": [
    "## **Singular Value Decomposition (SVD)**"
   ]
  },
  {
   "cell_type": "code",
   "execution_count": 122,
   "metadata": {
    "colab": {
     "base_uri": "https://localhost:8080/"
    },
    "id": "ctC-Dqo6W0PE",
    "outputId": "c792f031-46a7-4b2f-879e-5c15002c8458"
   },
   "outputs": [
    {
     "name": "stdout",
     "output_type": "stream",
     "text": [
      "Evaluating RMSE of algorithm SVD on 5 split(s).\n",
      "\n",
      "                  Fold 1  Fold 2  Fold 3  Fold 4  Fold 5  Mean    Std     \n",
      "RMSE (testset)    0.8931  0.8932  0.8959  0.9039  0.9012  0.8975  0.0044  \n",
      "Fit time          7.10    7.08    7.22    7.38    7.09    7.17    0.11    \n",
      "Test time         0.24    0.25    0.23    0.23    0.23    0.24    0.01    \n"
     ]
    },
    {
     "data": {
      "text/plain": [
       "{'test_rmse': array([0.89312246, 0.89320546, 0.89586235, 0.90389908, 0.90123698]),\n",
       " 'fit_time': (7.102997541427612,\n",
       "  7.077159404754639,\n",
       "  7.223963737487793,\n",
       "  7.375387907028198,\n",
       "  7.087148189544678),\n",
       " 'test_time': (0.24263453483581543,\n",
       "  0.24806451797485352,\n",
       "  0.23206591606140137,\n",
       "  0.23234319686889648,\n",
       "  0.23242783546447754)}"
      ]
     },
     "execution_count": 122,
     "metadata": {},
     "output_type": "execute_result"
    }
   ],
   "source": [
    "svd = SVD()\n",
    "cross_validate(svd, data, measures = ['RMSE'], cv = 5, verbose = True)"
   ]
  },
  {
   "cell_type": "code",
   "execution_count": 171,
   "metadata": {
    "colab": {
     "base_uri": "https://localhost:8080/"
    },
    "id": "pUMdUjK2W82O",
    "outputId": "b11a900b-d4d5-49c4-c9c4-2f66504e2ed5"
   },
   "outputs": [
    {
     "name": "stdout",
     "output_type": "stream",
     "text": [
      "Best Score : 0.8735065372444032\n",
      "Best Parameters : {'n_factors': 110, 'n_epochs': 40, 'reg_all': 0.08, 'lr_all': 0.01}\n"
     ]
    }
   ],
   "source": [
    "#Hyperparameter Tuning\n",
    "param_grid = {'n_factors': list(range(90,130,10)), 'n_epochs': list(range(10,50,10)), 'reg_all': np.arange(0.02,0.1,0.02), \n",
    "              'lr_all': [0.008,0.01,0.015,0.02]}\n",
    "\n",
    "svd_gs = GridSearchCV(SVD, measures = ['RMSE'], param_grid = param_grid, cv = 5, return_train_measures = True)\n",
    "svd_gs.fit(data)\n",
    "\n",
    "print('Best Score :', svd_gs.best_score['rmse'])\n",
    "print('Best Parameters :', svd_gs.best_params['rmse'])"
   ]
  },
  {
   "cell_type": "code",
   "execution_count": 123,
   "metadata": {
    "colab": {
     "base_uri": "https://localhost:8080/"
    },
    "id": "V55LlvXjW848",
    "outputId": "b2ab7925-3651-4f0a-95d3-fb97f42e8741"
   },
   "outputs": [
    {
     "data": {
      "text/plain": [
       "<surprise.prediction_algorithms.matrix_factorization.SVD at 0x1febf376c40>"
      ]
     },
     "execution_count": 123,
     "metadata": {},
     "output_type": "execute_result"
    }
   ],
   "source": [
    "# Training Dataset on Optimized SVD Model\n",
    "tuned_svd = SVD(n_factors = 110, n_epochs = 40, reg_all = 0.08, lr_all = 0.01)\n",
    "tuned_svd.fit(trainset)"
   ]
  },
  {
   "cell_type": "code",
   "execution_count": 124,
   "metadata": {
    "colab": {
     "base_uri": "https://localhost:8080/"
    },
    "id": "bRn6dRNvW87n",
    "outputId": "524a30b2-0d3d-4200-84ab-5175c9a9726c"
   },
   "outputs": [
    {
     "data": {
      "text/plain": [
       "Prediction(uid=1, iid=31, r_ui=2.5, est=2.3416410700839796, details={'was_impossible': False})"
      ]
     },
     "execution_count": 124,
     "metadata": {},
     "output_type": "execute_result"
    }
   ],
   "source": [
    "tuned_svd.predict(1, 31, 2.5)"
   ]
  },
  {
   "cell_type": "code",
   "execution_count": 125,
   "metadata": {
    "colab": {
     "base_uri": "https://localhost:8080/"
    },
    "id": "LziB6JtCW8_D",
    "outputId": "a8cbd9b1-c520-4c01-f77d-1b65d3b7d3e5"
   },
   "outputs": [
    {
     "data": {
      "text/plain": [
       "Prediction(uid=1, iid=10000, r_ui=None, est=2.649071578697286, details={'was_impossible': False})"
      ]
     },
     "execution_count": 125,
     "metadata": {},
     "output_type": "execute_result"
    }
   ],
   "source": [
    "tuned_svd.predict(1, 10000)"
   ]
  },
  {
   "cell_type": "markdown",
   "metadata": {
    "id": "KN-p3Ex-YT9I"
   },
   "source": [
    "## **Non-Negative Matrix Factorization (NMF)**"
   ]
  },
  {
   "cell_type": "code",
   "execution_count": 126,
   "metadata": {
    "colab": {
     "base_uri": "https://localhost:8080/"
    },
    "id": "Yy6k1D_AYZ2t",
    "outputId": "7465d919-52d6-46ab-82c8-d09398021f58"
   },
   "outputs": [
    {
     "name": "stdout",
     "output_type": "stream",
     "text": [
      "Evaluating RMSE of algorithm NMF on 5 split(s).\n",
      "\n",
      "                  Fold 1  Fold 2  Fold 3  Fold 4  Fold 5  Mean    Std     \n",
      "RMSE (testset)    0.9383  0.9405  0.9419  0.9582  0.9561  0.9470  0.0084  \n",
      "Fit time          8.10    8.18    8.28    8.22    8.14    8.18    0.06    \n",
      "Test time         0.22    0.19    0.19    0.19    0.19    0.20    0.01    \n"
     ]
    },
    {
     "data": {
      "text/plain": [
       "{'test_rmse': array([0.93829192, 0.9405148 , 0.94190578, 0.95822245, 0.95607671]),\n",
       " 'fit_time': (8.09619951248169,\n",
       "  8.176254034042358,\n",
       "  8.276957273483276,\n",
       "  8.222651958465576,\n",
       "  8.14176607131958),\n",
       " 'test_time': (0.21631431579589844,\n",
       "  0.1920490264892578,\n",
       "  0.1920485496520996,\n",
       "  0.19205474853515625,\n",
       "  0.1931607723236084)}"
      ]
     },
     "execution_count": 126,
     "metadata": {},
     "output_type": "execute_result"
    }
   ],
   "source": [
    "nmf = NMF()\n",
    "cross_validate(nmf, data, measures = ['RMSE'], cv = 5, verbose = True)"
   ]
  },
  {
   "cell_type": "code",
   "execution_count": 179,
   "metadata": {
    "id": "wX3a-7SQYZ-R"
   },
   "outputs": [
    {
     "name": "stdout",
     "output_type": "stream",
     "text": [
      "Best Score : 0.9271931038981307\n",
      "Best Parameters : {'n_factors': 25, 'reg_pu': 0.08, 'reg_qi': 0.08, 'n_epochs': 60}\n"
     ]
    }
   ],
   "source": [
    "#Hyperparameters Tuning\n",
    "param_grid  = {'n_factors': list(range(10,30,5)),'reg_pu': np.arange(0.02,0.1,0.02),'reg_qi': np.arange(0.02,0.1,0.02), \n",
    "               'n_epochs': list(range(30,70,10))}\n",
    "\n",
    "nmf_gs = GridSearchCV(NMF, param_grid, measures = ['rmse'], return_train_measures = True, cv = 5)\n",
    "nmf_gs.fit(data)\n",
    "\n",
    "print('Best Score :', nmf_gs.best_score['rmse'])\n",
    "print('Best Parameters :', nmf_gs.best_params['rmse'])"
   ]
  },
  {
   "cell_type": "code",
   "execution_count": 127,
   "metadata": {
    "colab": {
     "base_uri": "https://localhost:8080/"
    },
    "id": "BLWB26-dYaNt",
    "outputId": "3eb80774-967a-4489-89df-388b01683e52"
   },
   "outputs": [
    {
     "data": {
      "text/plain": [
       "<surprise.prediction_algorithms.matrix_factorization.NMF at 0x1fec15588e0>"
      ]
     },
     "execution_count": 127,
     "metadata": {},
     "output_type": "execute_result"
    }
   ],
   "source": [
    "# Training Dataset on Optimized NMF Model\n",
    "tuned_nmf = NMF(n_factors = 25, reg_pu = 0.08, reg_qi = 0.08, n_epochs = 60)\n",
    "tuned_nmf.fit(trainset)"
   ]
  },
  {
   "cell_type": "code",
   "execution_count": 128,
   "metadata": {
    "colab": {
     "base_uri": "https://localhost:8080/"
    },
    "id": "8rcGpl7TYaWM",
    "outputId": "983e12af-e2bf-4949-c068-45f7bc47086d"
   },
   "outputs": [
    {
     "data": {
      "text/plain": [
       "Prediction(uid=1, iid=31, r_ui=2.5, est=2.5668666074923054, details={'was_impossible': False})"
      ]
     },
     "execution_count": 128,
     "metadata": {},
     "output_type": "execute_result"
    }
   ],
   "source": [
    "tuned_nmf.predict(1, 31, 2.5)"
   ]
  },
  {
   "cell_type": "code",
   "execution_count": 129,
   "metadata": {
    "colab": {
     "base_uri": "https://localhost:8080/"
    },
    "id": "w05KQ6DrYaeR",
    "outputId": "48889652-1955-46af-957f-4d6a359ce6bc"
   },
   "outputs": [
    {
     "data": {
      "text/plain": [
       "Prediction(uid=1, iid=303, r_ui=None, est=2.2930265446252847, details={'was_impossible': False})"
      ]
     },
     "execution_count": 129,
     "metadata": {},
     "output_type": "execute_result"
    }
   ],
   "source": [
    "tuned_nmf.predict(1, 303)"
   ]
  },
  {
   "cell_type": "markdown",
   "metadata": {
    "id": "oyt6lrdiedFX"
   },
   "source": [
    "## **Alternating Least Squares (ALS)**"
   ]
  },
  {
   "cell_type": "code",
   "execution_count": 16,
   "metadata": {
    "id": "CTdwdzugeixV"
   },
   "outputs": [],
   "source": [
    "spark = SparkSession.builder.appName(\"movierecommendation\").getOrCreate()"
   ]
  },
  {
   "cell_type": "code",
   "execution_count": 17,
   "metadata": {
    "id": "oeDvNY8Wei0l"
   },
   "outputs": [],
   "source": [
    "df_als = spark.read.csv('ratings_small.csv', inferSchema = True, header=True)"
   ]
  },
  {
   "cell_type": "code",
   "execution_count": 18,
   "metadata": {
    "colab": {
     "base_uri": "https://localhost:8080/"
    },
    "id": "UBB6I_4dei6s",
    "outputId": "55321cb9-9967-420f-968e-b09c055f0fa2"
   },
   "outputs": [
    {
     "name": "stdout",
     "output_type": "stream",
     "text": [
      "+------+-------+------+----------+\n",
      "|userId|movieId|rating| timestamp|\n",
      "+------+-------+------+----------+\n",
      "|     1|     31|   2.5|1260759144|\n",
      "|     1|   1029|   3.0|1260759179|\n",
      "|     1|   1061|   3.0|1260759182|\n",
      "|     1|   1129|   2.0|1260759185|\n",
      "|     1|   1172|   4.0|1260759205|\n",
      "+------+-------+------+----------+\n",
      "only showing top 5 rows\n",
      "\n"
     ]
    }
   ],
   "source": [
    "df_als.show(5)"
   ]
  },
  {
   "cell_type": "code",
   "execution_count": 19,
   "metadata": {
    "id": "9Fk9hJZTfXXs"
   },
   "outputs": [],
   "source": [
    "df_als = df_als.drop('timestamp')"
   ]
  },
  {
   "cell_type": "code",
   "execution_count": 20,
   "metadata": {
    "colab": {
     "base_uri": "https://localhost:8080/"
    },
    "id": "okRq5oetfXgc",
    "outputId": "dc7f3a02-dc2e-4094-c3cd-6cdce7d257b5"
   },
   "outputs": [
    {
     "name": "stdout",
     "output_type": "stream",
     "text": [
      "+-------+------------------+------------------+------------------+\n",
      "|summary|            userId|           movieId|            rating|\n",
      "+-------+------------------+------------------+------------------+\n",
      "|  count|            100004|            100004|            100004|\n",
      "|   mean| 347.0113095476181|12548.664363425463| 3.543608255669773|\n",
      "| stddev|195.16383797819535|26369.198968815268|1.0580641091070326|\n",
      "|    min|                 1|                 1|               0.5|\n",
      "|    max|               671|            163949|               5.0|\n",
      "+-------+------------------+------------------+------------------+\n",
      "\n"
     ]
    }
   ],
   "source": [
    "df_als.describe().show()"
   ]
  },
  {
   "cell_type": "code",
   "execution_count": 21,
   "metadata": {
    "id": "UwCThRr0fXot"
   },
   "outputs": [],
   "source": [
    "(train_als, test_als) = df_als.randomSplit([0.8, 0.2], seed = 42)"
   ]
  },
  {
   "cell_type": "code",
   "execution_count": 22,
   "metadata": {
    "id": "dww4N0j5fesb"
   },
   "outputs": [],
   "source": [
    "als = ALS(userCol = \"userId\", itemCol= \"movieId\", ratingCol = \"rating\", coldStartStrategy = \"drop\", nonnegative = True)"
   ]
  },
  {
   "cell_type": "code",
   "execution_count": 27,
   "metadata": {
    "id": "vqvWZlO8fe0p"
   },
   "outputs": [],
   "source": [
    "# tune model using ParamGridBuilder\n",
    "param_grid = ParamGridBuilder()\\\n",
    "             .addGrid(als.rank, [5, 10, 15, 20])\\\n",
    "             .addGrid(als.maxIter, [10, 15, 20])\\\n",
    "             .addGrid(als.regParam, [0.01, 0.05, 0.1])\\\n",
    "             .build()"
   ]
  },
  {
   "cell_type": "code",
   "execution_count": 28,
   "metadata": {
    "id": "P8Y8ZurbfhbK"
   },
   "outputs": [],
   "source": [
    "evaluator = RegressionEvaluator(metricName = \"rmse\", labelCol = \"rating\", predictionCol = \"prediction\")"
   ]
  },
  {
   "cell_type": "code",
   "execution_count": 29,
   "metadata": {
    "id": "wThDXsIOfhd-"
   },
   "outputs": [],
   "source": [
    "cv = CrossValidator(estimator = als, estimatorParamMaps = param_grid, evaluator = evaluator, numFolds = 5) "
   ]
  },
  {
   "cell_type": "code",
   "execution_count": 30,
   "metadata": {
    "id": "GmMkt6kcfo_B"
   },
   "outputs": [],
   "source": [
    "model = cv.fit(train_als)"
   ]
  },
  {
   "cell_type": "code",
   "execution_count": 31,
   "metadata": {
    "id": "WgbmYmoLfpCp"
   },
   "outputs": [],
   "source": [
    "best_model = model.bestModel"
   ]
  },
  {
   "cell_type": "code",
   "execution_count": 32,
   "metadata": {
    "colab": {
     "base_uri": "https://localhost:8080/"
    },
    "id": "twkXNe7xfpE5",
    "outputId": "70c261dc-9d6f-45ac-b0a7-05f31bf96859"
   },
   "outputs": [
    {
     "name": "stdout",
     "output_type": "stream",
     "text": [
      "0.9088912679644156\n"
     ]
    }
   ],
   "source": [
    "predictions_als = best_model.transform(test_als)\n",
    "rmse = evaluator.evaluate(predictions_als)\n",
    "print(rmse)"
   ]
  },
  {
   "cell_type": "code",
   "execution_count": 33,
   "metadata": {
    "colab": {
     "base_uri": "https://localhost:8080/"
    },
    "id": "sNHfIa6UfpHv",
    "outputId": "d1afb128-86e2-447a-da62-027bbc1355e1"
   },
   "outputs": [
    {
     "name": "stdout",
     "output_type": "stream",
     "text": [
      "+------+-------+------+----------+\n",
      "|userId|movieId|rating|prediction|\n",
      "+------+-------+------+----------+\n",
      "|   463|   1088|   3.0| 3.0499327|\n",
      "|   463|   1959|   4.0|  3.713252|\n",
      "|   463|   2122|   2.0| 1.9622345|\n",
      "|   243|   1645|   3.0| 3.3717885|\n",
      "|   251|   1580|   5.0| 4.0574064|\n",
      "|   255|   6620|   4.0|  4.389491|\n",
      "|   481|   8638|   3.0|  4.514176|\n",
      "|   133|   8638|   0.5| 1.9405539|\n",
      "|   472|  26425|   4.5|  3.069398|\n",
      "|   472|  44022|   3.5| 2.8903637|\n",
      "+------+-------+------+----------+\n",
      "only showing top 10 rows\n",
      "\n"
     ]
    }
   ],
   "source": [
    "predictions_als.show(10)"
   ]
  },
  {
   "cell_type": "code",
   "execution_count": 34,
   "metadata": {
    "colab": {
     "base_uri": "https://localhost:8080/"
    },
    "id": "0lwJANGLfhhM",
    "outputId": "747202e3-22eb-4a84-ad89-753e7268d37b"
   },
   "outputs": [
    {
     "name": "stdout",
     "output_type": "stream",
     "text": [
      "RMSE =  0.9088912679644156\n",
      "Best Model: \n",
      "Rank: 5\n",
      "MaxIter: 20\n",
      "RegParam: 0.1\n"
     ]
    }
   ],
   "source": [
    "print(\"RMSE = \", str(rmse)) \n",
    "print(\"Best Model: \")\n",
    "print(\"Rank:\", best_model.rank)\n",
    "print(\"MaxIter:\", best_model._java_obj.parent().getMaxIter()) \n",
    "print(\"RegParam:\", best_model._java_obj.parent().getRegParam()) "
   ]
  },
  {
   "cell_type": "code",
   "execution_count": 36,
   "metadata": {
    "colab": {
     "base_uri": "https://localhost:8080/"
    },
    "id": "eRTkGk4TfyY-",
    "outputId": "04c6ad49-eab1-4251-8c50-e9ef024a6a01"
   },
   "outputs": [
    {
     "name": "stdout",
     "output_type": "stream",
     "text": [
      "+------+--------------------+\n",
      "|userId|     recommendations|\n",
      "+------+--------------------+\n",
      "|     1|[{2285, 4.0076323...|\n",
      "|     3|[{83411, 4.922976...|\n",
      "|     5|[{4965, 5.408834}...|\n",
      "|     6|[{67504, 5.371087...|\n",
      "|     9|[{83411, 5.560284...|\n",
      "|    12|[{3414, 5.7732315...|\n",
      "|    13|[{8530, 4.8549914...|\n",
      "|    15|[{3672, 4.941078}...|\n",
      "|    16|[{3414, 6.3760657...|\n",
      "|    17|[{83318, 5.999473...|\n",
      "+------+--------------------+\n",
      "\n"
     ]
    }
   ],
   "source": [
    "# give 30 recommendations for all users\n",
    "nrecommendations = best_model.recommendForAllUsers(30)\n",
    "nrecommendations.limit(10).show()"
   ]
  },
  {
   "cell_type": "code",
   "execution_count": 37,
   "metadata": {
    "colab": {
     "base_uri": "https://localhost:8080/"
    },
    "id": "z3mMhTTyxJ2N",
    "outputId": "637f2640-455a-4e40-8a6d-9e3e6157a138"
   },
   "outputs": [
    {
     "name": "stdout",
     "output_type": "stream",
     "text": [
      "+------+-------+---------+\n",
      "|userId|movieId|   rating|\n",
      "+------+-------+---------+\n",
      "|     1|   2285|4.0076323|\n",
      "|     1|  92494| 4.001041|\n",
      "|     1|  40412| 4.001041|\n",
      "|     1|   3216| 4.001041|\n",
      "|     1|  97957|  3.89317|\n",
      "|     1|  26974|3.8926685|\n",
      "|     1|   3067|3.8884382|\n",
      "|     1|   4965|3.8724036|\n",
      "|     1|   6732|3.8676362|\n",
      "|     1|   4754| 3.838958|\n",
      "+------+-------+---------+\n",
      "\n"
     ]
    }
   ],
   "source": [
    "nrecommendations = nrecommendations\\\n",
    "                  .withColumn(\"rec_exp\", explode(\"recommendations\"))\\\n",
    "                  .select('userId', col(\"rec_exp.movieId\"), col(\"rec_exp.rating\"))\n",
    "\n",
    "nrecommendations.limit(10).show()"
   ]
  },
  {
   "cell_type": "code",
   "execution_count": 159,
   "metadata": {
    "colab": {
     "base_uri": "https://localhost:8080/"
    },
    "id": "rkwkwwR2xJ9n",
    "outputId": "4db2f910-60fb-425c-b7ea-08640ca6187d"
   },
   "outputs": [
    {
     "name": "stdout",
     "output_type": "stream",
     "text": [
      "Recommendations for User 1 are: \n",
      "+------+-------+---------+\n",
      "|userId|movieId|   rating|\n",
      "+------+-------+---------+\n",
      "|     1|   2285|4.0076323|\n",
      "|     1|  92494| 4.001041|\n",
      "|     1|  40412| 4.001041|\n",
      "|     1|   3216| 4.001041|\n",
      "|     1|  97957|  3.89317|\n",
      "|     1|  26974|3.8926685|\n",
      "|     1|   3067|3.8884382|\n",
      "|     1|   4965|3.8724036|\n",
      "|     1|   6732|3.8676362|\n",
      "|     1|   4754| 3.838958|\n",
      "|     1|  73290|3.7634146|\n",
      "|     1|  70293|3.7002847|\n",
      "|     1|  67504|3.6683419|\n",
      "|     1|  83411|3.6683419|\n",
      "|     1|  83318|3.6683419|\n",
      "|     1|  83359|3.6683419|\n",
      "|     1|   7027|3.6682146|\n",
      "|     1|   3437|  3.62723|\n",
      "|     1|   5765|  3.62723|\n",
      "|     1|   4630|  3.62723|\n",
      "+------+-------+---------+\n",
      "only showing top 20 rows\n",
      "\n"
     ]
    }
   ],
   "source": [
    "# User 1 Recommendations\n",
    "userid = 1\n",
    "print('Recommendations for User', userid, 'are: ')\n",
    "nrecommendations.filter('userId = userid').show()"
   ]
  },
  {
   "cell_type": "markdown",
   "metadata": {
    "id": "skYw5vqlvVk0"
   },
   "source": [
    "## **Collaborative Filtering Recommendation System**"
   ]
  },
  {
   "cell_type": "code",
   "execution_count": 130,
   "metadata": {
    "id": "Rq2Z65kZvXgh"
   },
   "outputs": [],
   "source": [
    "def cf_recommendations(algo, uid, iid = None):\n",
    "    mvtn = smd[['title', 'id']]\n",
    "    mvtn['id'] = mvtn['id'].astype('int')\n",
    "    mvtn['title'] = mvtn['title'].astype('str')\n",
    "    mvtn.rename(columns = {'id':'movieId'}, inplace = True)\n",
    "    mvtn.rename(columns = {'title':'Movie Title'}, inplace = True)\n",
    "    \n",
    "    if algo == 'als':\n",
    "        recommendations_pd = nrecommendations.toPandas()\n",
    "        als_recommendations = pd.merge(recommendations_pd, mvtn, on='movieId')\n",
    "        als_recommendations = als_recommendations[als_recommendations['userId'] == uid]\n",
    "        als_recommendations.rename(columns = {'rating':'Estimated Rating'}, inplace = True)\n",
    "        als_recommendations = als_recommendations.sort_values(by=['Estimated Rating'], ascending = False)\n",
    "        als_recommendations = als_recommendations[['movieId', 'Movie Title', 'Estimated Rating']]\n",
    "        print('Best Recommended Movies for User', uid, 'are: ')\n",
    "        return als_recommendations.head(10).style.hide_index()\n",
    "    \n",
    "    else:\n",
    "        other_predictions = []\n",
    "        if iid is None:\n",
    "            for ii in trainset.all_items():\n",
    "                ii = trainset.to_raw_iid(ii)\n",
    "                other_predictions.append(algo.predict(uid, ii, verbose = False))\n",
    "        \n",
    "        else:\n",
    "            other_predictions.append(algo.predict(uid,iid,verbose = False))\n",
    "        \n",
    "        other_predictions_df = pd.DataFrame(other_predictions, columns = ['userId', 'movieId', 'r_ui', 'Estimated Rating', 'details'])\n",
    "        other_predictions_df['details'] = other_predictions_df['details'].astype('str')\n",
    "        other_predictions_df = other_predictions_df[~other_predictions_df.details.str.contains('|'.join([\"'was_impossible': True\"]))]\n",
    "        other_recommendations = pd.merge(other_predictions_df, mvtn, on='movieId')\n",
    "        other_recommendations = other_recommendations.sort_values(by=['Estimated Rating'], ascending = False)\n",
    "        other_recommendations = other_recommendations[['Movie Title', 'Estimated Rating']]\n",
    "        print('Best Recommended Movies for User', uid, 'are:')\n",
    "        return other_recommendations.head(10).style.hide_index()"
   ]
  },
  {
   "cell_type": "code",
   "execution_count": 211,
   "metadata": {
    "colab": {
     "base_uri": "https://localhost:8080/",
     "height": 286
    },
    "id": "-isLrQCGvXom",
    "outputId": "2ec0781b-5795-4f5f-e6eb-bf1af0ca89b3"
   },
   "outputs": [
    {
     "name": "stdout",
     "output_type": "stream",
     "text": [
      "Best Recommended Movies for User 20 are: \n"
     ]
    },
    {
     "data": {
      "text/html": [
       "<style type=\"text/css\">\n",
       "</style>\n",
       "<table id=\"T_d4df3_\" class=\"dataframe\">\n",
       "  <thead>\n",
       "    <tr>\n",
       "      <th class=\"col_heading level0 col0\" >movieId</th>\n",
       "      <th class=\"col_heading level0 col1\" >Movie Title</th>\n",
       "      <th class=\"col_heading level0 col2\" >Estimated Rating</th>\n",
       "    </tr>\n",
       "  </thead>\n",
       "  <tbody>\n",
       "    <tr>\n",
       "      <td id=\"T_d4df3_row0_col0\" class=\"data row0 col0\" >392</td>\n",
       "      <td id=\"T_d4df3_row0_col1\" class=\"data row0 col1\" >Chocolat</td>\n",
       "      <td id=\"T_d4df3_row0_col2\" class=\"data row0 col2\" >4.916078</td>\n",
       "    </tr>\n",
       "    <tr>\n",
       "      <td id=\"T_d4df3_row1_col0\" class=\"data row1 col0\" >80</td>\n",
       "      <td id=\"T_d4df3_row1_col1\" class=\"data row1 col1\" >Before Sunset</td>\n",
       "      <td id=\"T_d4df3_row1_col2\" class=\"data row1 col2\" >4.747125</td>\n",
       "    </tr>\n",
       "    <tr>\n",
       "      <td id=\"T_d4df3_row2_col0\" class=\"data row2 col0\" >4474</td>\n",
       "      <td id=\"T_d4df3_row2_col1\" class=\"data row2 col1\" >My Super Ex-Girlfriend</td>\n",
       "      <td id=\"T_d4df3_row2_col2\" class=\"data row2 col2\" >4.679991</td>\n",
       "    </tr>\n",
       "    <tr>\n",
       "      <td id=\"T_d4df3_row3_col0\" class=\"data row3 col0\" >1429</td>\n",
       "      <td id=\"T_d4df3_row3_col1\" class=\"data row3 col1\" >25th Hour</td>\n",
       "      <td id=\"T_d4df3_row3_col2\" class=\"data row3 col2\" >4.581765</td>\n",
       "    </tr>\n",
       "    <tr>\n",
       "      <td id=\"T_d4df3_row4_col0\" class=\"data row4 col0\" >1824</td>\n",
       "      <td id=\"T_d4df3_row4_col1\" class=\"data row4 col1\" >50 First Dates</td>\n",
       "      <td id=\"T_d4df3_row4_col2\" class=\"data row4 col2\" >4.573413</td>\n",
       "    </tr>\n",
       "    <tr>\n",
       "      <td id=\"T_d4df3_row5_col0\" class=\"data row5 col0\" >321</td>\n",
       "      <td id=\"T_d4df3_row5_col1\" class=\"data row5 col1\" >Mambo Italiano</td>\n",
       "      <td id=\"T_d4df3_row5_col2\" class=\"data row5 col2\" >4.549988</td>\n",
       "    </tr>\n",
       "    <tr>\n",
       "      <td id=\"T_d4df3_row6_col0\" class=\"data row6 col0\" >631</td>\n",
       "      <td id=\"T_d4df3_row6_col1\" class=\"data row6 col1\" >Sunrise: A Song of Two Humans</td>\n",
       "      <td id=\"T_d4df3_row6_col2\" class=\"data row6 col2\" >4.474201</td>\n",
       "    </tr>\n",
       "  </tbody>\n",
       "</table>\n"
      ],
      "text/plain": [
       "<pandas.io.formats.style.Styler at 0x7f4aae84b0d0>"
      ]
     },
     "execution_count": 211,
     "metadata": {},
     "output_type": "execute_result"
    }
   ],
   "source": [
    "cf_recommendations(als, 20)"
   ]
  },
  {
   "cell_type": "code",
   "execution_count": 212,
   "metadata": {
    "colab": {
     "base_uri": "https://localhost:8080/",
     "height": 192
    },
    "id": "qkBvGO3GQrB4",
    "outputId": "574fec66-4382-4766-c4f1-49c5cc03029b"
   },
   "outputs": [
    {
     "name": "stdout",
     "output_type": "stream",
     "text": [
      "Best Recommended Movies for User 19 are: \n"
     ]
    },
    {
     "data": {
      "text/html": [
       "<style type=\"text/css\">\n",
       "</style>\n",
       "<table id=\"T_e70ad_\" class=\"dataframe\">\n",
       "  <thead>\n",
       "    <tr>\n",
       "      <th class=\"col_heading level0 col0\" >movieId</th>\n",
       "      <th class=\"col_heading level0 col1\" >Movie Title</th>\n",
       "      <th class=\"col_heading level0 col2\" >Estimated Rating</th>\n",
       "    </tr>\n",
       "  </thead>\n",
       "  <tbody>\n",
       "    <tr>\n",
       "      <td id=\"T_e70ad_row0_col0\" class=\"data row0 col0\" >759</td>\n",
       "      <td id=\"T_e70ad_row0_col1\" class=\"data row0 col1\" >Gentlemen Prefer Blondes</td>\n",
       "      <td id=\"T_e70ad_row0_col2\" class=\"data row0 col2\" >4.701950</td>\n",
       "    </tr>\n",
       "    <tr>\n",
       "      <td id=\"T_e70ad_row1_col0\" class=\"data row1 col0\" >5121</td>\n",
       "      <td id=\"T_e70ad_row1_col1\" class=\"data row1 col1\" >The Sugarland Express</td>\n",
       "      <td id=\"T_e70ad_row1_col2\" class=\"data row1 col2\" >4.693653</td>\n",
       "    </tr>\n",
       "    <tr>\n",
       "      <td id=\"T_e70ad_row2_col0\" class=\"data row2 col0\" >80</td>\n",
       "      <td id=\"T_e70ad_row2_col1\" class=\"data row2 col1\" >Before Sunset</td>\n",
       "      <td id=\"T_e70ad_row2_col2\" class=\"data row2 col2\" >4.641944</td>\n",
       "    </tr>\n",
       "    <tr>\n",
       "      <td id=\"T_e70ad_row3_col0\" class=\"data row3 col0\" >764</td>\n",
       "      <td id=\"T_e70ad_row3_col1\" class=\"data row3 col1\" >The Evil Dead</td>\n",
       "      <td id=\"T_e70ad_row3_col2\" class=\"data row3 col2\" >4.641840</td>\n",
       "    </tr>\n",
       "  </tbody>\n",
       "</table>\n"
      ],
      "text/plain": [
       "<pandas.io.formats.style.Styler at 0x7f4ac2b1ed90>"
      ]
     },
     "execution_count": 212,
     "metadata": {},
     "output_type": "execute_result"
    }
   ],
   "source": [
    "cf_recommendations(als, 19)"
   ]
  },
  {
   "cell_type": "code",
   "execution_count": 213,
   "metadata": {
    "colab": {
     "base_uri": "https://localhost:8080/",
     "height": 255
    },
    "id": "rjt2j4p9QvdH",
    "outputId": "15b2f28c-4c7b-48e0-8366-137028adc1b2"
   },
   "outputs": [
    {
     "name": "stdout",
     "output_type": "stream",
     "text": [
      "Best Recommended Movies for User 58 are: \n"
     ]
    },
    {
     "data": {
      "text/html": [
       "<style type=\"text/css\">\n",
       "</style>\n",
       "<table id=\"T_c65ee_\" class=\"dataframe\">\n",
       "  <thead>\n",
       "    <tr>\n",
       "      <th class=\"col_heading level0 col0\" >movieId</th>\n",
       "      <th class=\"col_heading level0 col1\" >Movie Title</th>\n",
       "      <th class=\"col_heading level0 col2\" >Estimated Rating</th>\n",
       "    </tr>\n",
       "  </thead>\n",
       "  <tbody>\n",
       "    <tr>\n",
       "      <td id=\"T_c65ee_row0_col0\" class=\"data row0 col0\" >301</td>\n",
       "      <td id=\"T_c65ee_row0_col1\" class=\"data row0 col1\" >Rio Bravo</td>\n",
       "      <td id=\"T_c65ee_row0_col2\" class=\"data row0 col2\" >5.607272</td>\n",
       "    </tr>\n",
       "    <tr>\n",
       "      <td id=\"T_c65ee_row1_col0\" class=\"data row1 col0\" >1428</td>\n",
       "      <td id=\"T_c65ee_row1_col1\" class=\"data row1 col1\" >Once Upon a Time in Mexico</td>\n",
       "      <td id=\"T_c65ee_row1_col2\" class=\"data row1 col2\" >5.607272</td>\n",
       "    </tr>\n",
       "    <tr>\n",
       "      <td id=\"T_c65ee_row2_col0\" class=\"data row2 col0\" >1429</td>\n",
       "      <td id=\"T_c65ee_row2_col1\" class=\"data row2 col1\" >25th Hour</td>\n",
       "      <td id=\"T_c65ee_row2_col2\" class=\"data row2 col2\" >5.506824</td>\n",
       "    </tr>\n",
       "    <tr>\n",
       "      <td id=\"T_c65ee_row3_col0\" class=\"data row3 col0\" >80</td>\n",
       "      <td id=\"T_c65ee_row3_col1\" class=\"data row3 col1\" >Before Sunset</td>\n",
       "      <td id=\"T_c65ee_row3_col2\" class=\"data row3 col2\" >5.341999</td>\n",
       "    </tr>\n",
       "    <tr>\n",
       "      <td id=\"T_c65ee_row4_col0\" class=\"data row4 col0\" >392</td>\n",
       "      <td id=\"T_c65ee_row4_col1\" class=\"data row4 col1\" >Chocolat</td>\n",
       "      <td id=\"T_c65ee_row4_col2\" class=\"data row4 col2\" >5.180208</td>\n",
       "    </tr>\n",
       "    <tr>\n",
       "      <td id=\"T_c65ee_row5_col0\" class=\"data row5 col0\" >3090</td>\n",
       "      <td id=\"T_c65ee_row5_col1\" class=\"data row5 col1\" >The Treasure of the Sierra Madre</td>\n",
       "      <td id=\"T_c65ee_row5_col2\" class=\"data row5 col2\" >5.122047</td>\n",
       "    </tr>\n",
       "  </tbody>\n",
       "</table>\n"
      ],
      "text/plain": [
       "<pandas.io.formats.style.Styler at 0x7f4aae84b990>"
      ]
     },
     "execution_count": 213,
     "metadata": {},
     "output_type": "execute_result"
    }
   ],
   "source": [
    "cf_recommendations(als, 58)"
   ]
  },
  {
   "cell_type": "code",
   "execution_count": 131,
   "metadata": {
    "colab": {
     "base_uri": "https://localhost:8080/",
     "height": 380
    },
    "id": "LAhq_MgIQQhw",
    "outputId": "d6ab6bcd-03b6-4aff-8f00-df78c844b881"
   },
   "outputs": [
    {
     "name": "stdout",
     "output_type": "stream",
     "text": [
      "Best Recommended Movies for User 20 are:\n"
     ]
    },
    {
     "data": {
      "text/html": [
       "<style  type=\"text/css\" >\n",
       "</style><table id=\"T_add80c0c_d73b_11ec_a9ea_bce92ff5db5a\" ><thead>    <tr>        <th class=\"col_heading level0 col0\" >Movie Title</th>        <th class=\"col_heading level0 col1\" >Estimated Rating</th>    </tr></thead><tbody>\n",
       "                <tr>\n",
       "                                <td id=\"T_add80c0c_d73b_11ec_a9ea_bce92ff5db5arow0_col0\" class=\"data row0 col0\" >The Night of the Hunter</td>\n",
       "                        <td id=\"T_add80c0c_d73b_11ec_a9ea_bce92ff5db5arow0_col1\" class=\"data row0 col1\" >5.000000</td>\n",
       "            </tr>\n",
       "            <tr>\n",
       "                                <td id=\"T_add80c0c_d73b_11ec_a9ea_bce92ff5db5arow1_col0\" class=\"data row1 col0\" >The Celebration</td>\n",
       "                        <td id=\"T_add80c0c_d73b_11ec_a9ea_bce92ff5db5arow1_col1\" class=\"data row1 col1\" >5.000000</td>\n",
       "            </tr>\n",
       "            <tr>\n",
       "                                <td id=\"T_add80c0c_d73b_11ec_a9ea_bce92ff5db5arow2_col0\" class=\"data row2 col0\" >Taxi</td>\n",
       "                        <td id=\"T_add80c0c_d73b_11ec_a9ea_bce92ff5db5arow2_col1\" class=\"data row2 col1\" >4.765227</td>\n",
       "            </tr>\n",
       "            <tr>\n",
       "                                <td id=\"T_add80c0c_d73b_11ec_a9ea_bce92ff5db5arow3_col0\" class=\"data row3 col0\" >Match Point</td>\n",
       "                        <td id=\"T_add80c0c_d73b_11ec_a9ea_bce92ff5db5arow3_col1\" class=\"data row3 col1\" >4.740612</td>\n",
       "            </tr>\n",
       "            <tr>\n",
       "                                <td id=\"T_add80c0c_d73b_11ec_a9ea_bce92ff5db5arow4_col0\" class=\"data row4 col0\" >Blown Away</td>\n",
       "                        <td id=\"T_add80c0c_d73b_11ec_a9ea_bce92ff5db5arow4_col1\" class=\"data row4 col1\" >4.711463</td>\n",
       "            </tr>\n",
       "            <tr>\n",
       "                                <td id=\"T_add80c0c_d73b_11ec_a9ea_bce92ff5db5arow5_col0\" class=\"data row5 col0\" >Body Snatchers</td>\n",
       "                        <td id=\"T_add80c0c_d73b_11ec_a9ea_bce92ff5db5arow5_col1\" class=\"data row5 col1\" >4.671016</td>\n",
       "            </tr>\n",
       "            <tr>\n",
       "                                <td id=\"T_add80c0c_d73b_11ec_a9ea_bce92ff5db5arow6_col0\" class=\"data row6 col0\" >Backdraft</td>\n",
       "                        <td id=\"T_add80c0c_d73b_11ec_a9ea_bce92ff5db5arow6_col1\" class=\"data row6 col1\" >4.584187</td>\n",
       "            </tr>\n",
       "            <tr>\n",
       "                                <td id=\"T_add80c0c_d73b_11ec_a9ea_bce92ff5db5arow7_col0\" class=\"data row7 col0\" >Tokyo!</td>\n",
       "                        <td id=\"T_add80c0c_d73b_11ec_a9ea_bce92ff5db5arow7_col1\" class=\"data row7 col1\" >4.575161</td>\n",
       "            </tr>\n",
       "            <tr>\n",
       "                                <td id=\"T_add80c0c_d73b_11ec_a9ea_bce92ff5db5arow8_col0\" class=\"data row8 col0\" >Z</td>\n",
       "                        <td id=\"T_add80c0c_d73b_11ec_a9ea_bce92ff5db5arow8_col1\" class=\"data row8 col1\" >4.553886</td>\n",
       "            </tr>\n",
       "            <tr>\n",
       "                                <td id=\"T_add80c0c_d73b_11ec_a9ea_bce92ff5db5arow9_col0\" class=\"data row9 col0\" >Before Sunset</td>\n",
       "                        <td id=\"T_add80c0c_d73b_11ec_a9ea_bce92ff5db5arow9_col1\" class=\"data row9 col1\" >4.546520</td>\n",
       "            </tr>\n",
       "    </tbody></table>"
      ],
      "text/plain": [
       "<pandas.io.formats.style.Styler at 0x1feb1a4e6d0>"
      ]
     },
     "execution_count": 131,
     "metadata": {},
     "output_type": "execute_result"
    }
   ],
   "source": [
    "cf_recommendations(tuned_knn, uid = 20)"
   ]
  },
  {
   "cell_type": "code",
   "execution_count": 132,
   "metadata": {},
   "outputs": [
    {
     "name": "stdout",
     "output_type": "stream",
     "text": [
      "Best Recommended Movies for User 20 are:\n"
     ]
    },
    {
     "data": {
      "text/html": [
       "<style  type=\"text/css\" >\n",
       "</style><table id=\"T_adfa3c22_d73b_11ec_8279_bce92ff5db5a\" ><thead>    <tr>        <th class=\"col_heading level0 col0\" >Movie Title</th>        <th class=\"col_heading level0 col1\" >Estimated Rating</th>    </tr></thead><tbody>\n",
       "                <tr>\n",
       "                                <td id=\"T_adfa3c22_d73b_11ec_8279_bce92ff5db5arow0_col0\" class=\"data row0 col0\" >Irma la Douce</td>\n",
       "                        <td id=\"T_adfa3c22_d73b_11ec_8279_bce92ff5db5arow0_col1\" class=\"data row0 col1\" >4.531441</td>\n",
       "            </tr>\n",
       "            <tr>\n",
       "                                <td id=\"T_adfa3c22_d73b_11ec_8279_bce92ff5db5arow1_col0\" class=\"data row1 col0\" >The Green Mile</td>\n",
       "                        <td id=\"T_adfa3c22_d73b_11ec_8279_bce92ff5db5arow1_col1\" class=\"data row1 col1\" >4.501913</td>\n",
       "            </tr>\n",
       "            <tr>\n",
       "                                <td id=\"T_adfa3c22_d73b_11ec_8279_bce92ff5db5arow2_col0\" class=\"data row2 col0\" >King Kong vs. Godzilla</td>\n",
       "                        <td id=\"T_adfa3c22_d73b_11ec_8279_bce92ff5db5arow2_col1\" class=\"data row2 col1\" >4.440128</td>\n",
       "            </tr>\n",
       "            <tr>\n",
       "                                <td id=\"T_adfa3c22_d73b_11ec_8279_bce92ff5db5arow3_col0\" class=\"data row3 col0\" >The Sixth Sense</td>\n",
       "                        <td id=\"T_adfa3c22_d73b_11ec_8279_bce92ff5db5arow3_col1\" class=\"data row3 col1\" >4.414665</td>\n",
       "            </tr>\n",
       "            <tr>\n",
       "                                <td id=\"T_adfa3c22_d73b_11ec_8279_bce92ff5db5arow4_col0\" class=\"data row4 col0\" >The Passion of Joan of Arc</td>\n",
       "                        <td id=\"T_adfa3c22_d73b_11ec_8279_bce92ff5db5arow4_col1\" class=\"data row4 col1\" >4.253854</td>\n",
       "            </tr>\n",
       "            <tr>\n",
       "                                <td id=\"T_adfa3c22_d73b_11ec_8279_bce92ff5db5arow5_col0\" class=\"data row5 col0\" >American Graffiti</td>\n",
       "                        <td id=\"T_adfa3c22_d73b_11ec_8279_bce92ff5db5arow5_col1\" class=\"data row5 col1\" >4.180315</td>\n",
       "            </tr>\n",
       "            <tr>\n",
       "                                <td id=\"T_adfa3c22_d73b_11ec_8279_bce92ff5db5arow6_col0\" class=\"data row6 col0\" >Before Sunset</td>\n",
       "                        <td id=\"T_adfa3c22_d73b_11ec_8279_bce92ff5db5arow6_col1\" class=\"data row6 col1\" >4.149670</td>\n",
       "            </tr>\n",
       "            <tr>\n",
       "                                <td id=\"T_adfa3c22_d73b_11ec_8279_bce92ff5db5arow7_col0\" class=\"data row7 col0\" >Crank</td>\n",
       "                        <td id=\"T_adfa3c22_d73b_11ec_8279_bce92ff5db5arow7_col1\" class=\"data row7 col1\" >4.058061</td>\n",
       "            </tr>\n",
       "            <tr>\n",
       "                                <td id=\"T_adfa3c22_d73b_11ec_8279_bce92ff5db5arow8_col0\" class=\"data row8 col0\" >M</td>\n",
       "                        <td id=\"T_adfa3c22_d73b_11ec_8279_bce92ff5db5arow8_col1\" class=\"data row8 col1\" >3.988412</td>\n",
       "            </tr>\n",
       "            <tr>\n",
       "                                <td id=\"T_adfa3c22_d73b_11ec_8279_bce92ff5db5arow9_col0\" class=\"data row9 col0\" >Bullitt</td>\n",
       "                        <td id=\"T_adfa3c22_d73b_11ec_8279_bce92ff5db5arow9_col1\" class=\"data row9 col1\" >3.972731</td>\n",
       "            </tr>\n",
       "    </tbody></table>"
      ],
      "text/plain": [
       "<pandas.io.formats.style.Styler at 0x1feb469e220>"
      ]
     },
     "execution_count": 132,
     "metadata": {},
     "output_type": "execute_result"
    }
   ],
   "source": [
    "cf_recommendations(tuned_svd, uid = 20)"
   ]
  },
  {
   "cell_type": "code",
   "execution_count": 133,
   "metadata": {},
   "outputs": [
    {
     "name": "stdout",
     "output_type": "stream",
     "text": [
      "Best Recommended Movies for User 20 are:\n"
     ]
    },
    {
     "data": {
      "text/html": [
       "<style  type=\"text/css\" >\n",
       "</style><table id=\"T_ae17b4ff_d73b_11ec_b3fd_bce92ff5db5a\" ><thead>    <tr>        <th class=\"col_heading level0 col0\" >Movie Title</th>        <th class=\"col_heading level0 col1\" >Estimated Rating</th>    </tr></thead><tbody>\n",
       "                <tr>\n",
       "                                <td id=\"T_ae17b4ff_d73b_11ec_b3fd_bce92ff5db5arow0_col0\" class=\"data row0 col0\" >Ice Age: The Meltdown</td>\n",
       "                        <td id=\"T_ae17b4ff_d73b_11ec_b3fd_bce92ff5db5arow0_col1\" class=\"data row0 col1\" >4.464260</td>\n",
       "            </tr>\n",
       "            <tr>\n",
       "                                <td id=\"T_ae17b4ff_d73b_11ec_b3fd_bce92ff5db5arow1_col0\" class=\"data row1 col0\" >The First Wives Club</td>\n",
       "                        <td id=\"T_ae17b4ff_d73b_11ec_b3fd_bce92ff5db5arow1_col1\" class=\"data row1 col1\" >4.172508</td>\n",
       "            </tr>\n",
       "            <tr>\n",
       "                                <td id=\"T_ae17b4ff_d73b_11ec_b3fd_bce92ff5db5arow2_col0\" class=\"data row2 col0\" >Irma la Douce</td>\n",
       "                        <td id=\"T_ae17b4ff_d73b_11ec_b3fd_bce92ff5db5arow2_col1\" class=\"data row2 col1\" >4.155328</td>\n",
       "            </tr>\n",
       "            <tr>\n",
       "                                <td id=\"T_ae17b4ff_d73b_11ec_b3fd_bce92ff5db5arow3_col0\" class=\"data row3 col0\" >Kindergarten Cop</td>\n",
       "                        <td id=\"T_ae17b4ff_d73b_11ec_b3fd_bce92ff5db5arow3_col1\" class=\"data row3 col1\" >4.121227</td>\n",
       "            </tr>\n",
       "            <tr>\n",
       "                                <td id=\"T_ae17b4ff_d73b_11ec_b3fd_bce92ff5db5arow4_col0\" class=\"data row4 col0\" >Straw Dogs</td>\n",
       "                        <td id=\"T_ae17b4ff_d73b_11ec_b3fd_bce92ff5db5arow4_col1\" class=\"data row4 col1\" >4.102031</td>\n",
       "            </tr>\n",
       "            <tr>\n",
       "                                <td id=\"T_ae17b4ff_d73b_11ec_b3fd_bce92ff5db5arow5_col0\" class=\"data row5 col0\" >My Darling Clementine</td>\n",
       "                        <td id=\"T_ae17b4ff_d73b_11ec_b3fd_bce92ff5db5arow5_col1\" class=\"data row5 col1\" >4.085481</td>\n",
       "            </tr>\n",
       "            <tr>\n",
       "                                <td id=\"T_ae17b4ff_d73b_11ec_b3fd_bce92ff5db5arow6_col0\" class=\"data row6 col0\" >Lethal Weapon 2</td>\n",
       "                        <td id=\"T_ae17b4ff_d73b_11ec_b3fd_bce92ff5db5arow6_col1\" class=\"data row6 col1\" >4.083358</td>\n",
       "            </tr>\n",
       "            <tr>\n",
       "                                <td id=\"T_ae17b4ff_d73b_11ec_b3fd_bce92ff5db5arow7_col0\" class=\"data row7 col0\" >Dog Day Afternoon</td>\n",
       "                        <td id=\"T_ae17b4ff_d73b_11ec_b3fd_bce92ff5db5arow7_col1\" class=\"data row7 col1\" >4.061591</td>\n",
       "            </tr>\n",
       "            <tr>\n",
       "                                <td id=\"T_ae17b4ff_d73b_11ec_b3fd_bce92ff5db5arow8_col0\" class=\"data row8 col0\" >Doctor Zhivago</td>\n",
       "                        <td id=\"T_ae17b4ff_d73b_11ec_b3fd_bce92ff5db5arow8_col1\" class=\"data row8 col1\" >4.060165</td>\n",
       "            </tr>\n",
       "            <tr>\n",
       "                                <td id=\"T_ae17b4ff_d73b_11ec_b3fd_bce92ff5db5arow9_col0\" class=\"data row9 col0\" >Snakes on a Plane</td>\n",
       "                        <td id=\"T_ae17b4ff_d73b_11ec_b3fd_bce92ff5db5arow9_col1\" class=\"data row9 col1\" >4.052289</td>\n",
       "            </tr>\n",
       "    </tbody></table>"
      ],
      "text/plain": [
       "<pandas.io.formats.style.Styler at 0x1feb469e8e0>"
      ]
     },
     "execution_count": 133,
     "metadata": {},
     "output_type": "execute_result"
    }
   ],
   "source": [
    "cf_recommendations(tuned_nmf, uid = 20)"
   ]
  },
  {
   "cell_type": "markdown",
   "metadata": {
    "id": "LK-fRm1bZrpi"
   },
   "source": [
    "## **RMSE Comparison**"
   ]
  },
  {
   "cell_type": "code",
   "execution_count": 134,
   "metadata": {
    "colab": {
     "base_uri": "https://localhost:8080/",
     "height": 413
    },
    "id": "4lh9uWg1U9uS",
    "outputId": "e1d7fd0f-150c-4819-8cec-cc1659116302"
   },
   "outputs": [
    {
     "data": {
      "image/png": "[encoded data removed]",
      "text/plain": [
       "<Figure size 864x432 with 1 Axes>"
      ]
     },
     "metadata": {
      "needs_background": "light"
     },
     "output_type": "display_data"
    }
   ],
   "source": [
    "plot_data = {'KNN': 0.9538736787202492, 'SVD': 0.8735065372444032, 'NMF': 0.9271931038981307, 'ALS': 0.9088912679644156}\n",
    "plot_data = dict(sorted(plot_data.items(), key=lambda item: item[1]))\n",
    "plot_data = {key : round(plot_data[key], 3) for key in plot_data}\n",
    "\n",
    "method = list(plot_data.keys())\n",
    "rmse = list(plot_data.values())\n",
    "  \n",
    "fig = plt.figure(figsize = (12, 6))\n",
    "plt.bar(method, rmse, width = 0.3, color = ['#FFFF66', '#76BA1B', '#1167b1','#bb0a1e'])\n",
    "\n",
    "def addlabels(x,y):\n",
    "    for i in range(len(x)):\n",
    "        plt.text(i, y[i], y[i], ha = 'center')\n",
    "\n",
    "addlabels(method, rmse)\n",
    "\n",
    "plt.xticks(fontsize = 12)\n",
    "plt.yticks(fontsize = 12)\n",
    "plt.xlabel(\"Approach\", size = 14)\n",
    "plt.ylabel(\"RMSE Value\", size = 14)\n",
    "plt.title(\"RMSE Comparison of all Approaches\", size = 16)\n",
    "plt.show()"
   ]
  },
  {
   "cell_type": "markdown",
   "metadata": {
    "id": "0O_4cHiQbti9"
   },
   "source": [
    "# **Hybrid Recommendation System**"
   ]
  },
  {
   "cell_type": "code",
   "execution_count": 135,
   "metadata": {
    "colab": {
     "base_uri": "https://localhost:8080/",
     "height": 237
    },
    "id": "2hLbkxBcbwp4",
    "outputId": "3b0a2809-d7b4-48fd-b2a2-e6f449729c8f"
   },
   "outputs": [
    {
     "data": {
      "text/html": [
       "<div>\n",
       "<style scoped>\n",
       "    .dataframe tbody tr th:only-of-type {\n",
       "        vertical-align: middle;\n",
       "    }\n",
       "\n",
       "    .dataframe tbody tr th {\n",
       "        vertical-align: top;\n",
       "    }\n",
       "\n",
       "    .dataframe thead th {\n",
       "        text-align: right;\n",
       "    }\n",
       "</style>\n",
       "<table border=\"1\" class=\"dataframe\">\n",
       "  <thead>\n",
       "    <tr style=\"text-align: right;\">\n",
       "      <th></th>\n",
       "      <th>movieId</th>\n",
       "      <th>id</th>\n",
       "    </tr>\n",
       "    <tr>\n",
       "      <th>title</th>\n",
       "      <th></th>\n",
       "      <th></th>\n",
       "    </tr>\n",
       "  </thead>\n",
       "  <tbody>\n",
       "    <tr>\n",
       "      <th>Toy Story</th>\n",
       "      <td>1</td>\n",
       "      <td>862.0</td>\n",
       "    </tr>\n",
       "    <tr>\n",
       "      <th>Jumanji</th>\n",
       "      <td>2</td>\n",
       "      <td>8844.0</td>\n",
       "    </tr>\n",
       "    <tr>\n",
       "      <th>Grumpier Old Men</th>\n",
       "      <td>3</td>\n",
       "      <td>15602.0</td>\n",
       "    </tr>\n",
       "    <tr>\n",
       "      <th>Waiting to Exhale</th>\n",
       "      <td>4</td>\n",
       "      <td>31357.0</td>\n",
       "    </tr>\n",
       "    <tr>\n",
       "      <th>Father of the Bride Part II</th>\n",
       "      <td>5</td>\n",
       "      <td>11862.0</td>\n",
       "    </tr>\n",
       "  </tbody>\n",
       "</table>\n",
       "</div>"
      ],
      "text/plain": [
       "                             movieId       id\n",
       "title                                        \n",
       "Toy Story                          1    862.0\n",
       "Jumanji                            2   8844.0\n",
       "Grumpier Old Men                   3  15602.0\n",
       "Waiting to Exhale                  4  31357.0\n",
       "Father of the Bride Part II        5  11862.0"
      ]
     },
     "execution_count": 135,
     "metadata": {},
     "output_type": "execute_result"
    }
   ],
   "source": [
    "id_map = pd.read_csv('links_small.csv')[['movieId', 'tmdbId']]\n",
    "id_map['tmdbId'] = id_map['tmdbId'].apply(convert_int)\n",
    "id_map.columns = ['movieId', 'id']\n",
    "id_map = id_map.merge(smd[['title', 'id']], on='id').set_index('title')\n",
    "id_map.head()"
   ]
  },
  {
   "cell_type": "code",
   "execution_count": 136,
   "metadata": {
    "id": "OniqvbwZds4M"
   },
   "outputs": [],
   "source": [
    "indices_map = id_map.set_index('id')"
   ]
  },
  {
   "cell_type": "code",
   "execution_count": 137,
   "metadata": {
    "id": "bc66b5pyekl9"
   },
   "outputs": [],
   "source": [
    "def hybrid(userId, title):\n",
    "    if title in smd.title.unique():\n",
    "            idx = indices[title]\n",
    "            tmdbId = id_map.loc[title]['id']\n",
    "            movie_id = id_map.loc[title]['movieId']\n",
    "            \n",
    "            sim_scores = list(enumerate(sim_tfidf[int(idx)]))\n",
    "            sim_scores = sorted(sim_scores, key=lambda x: x[1], reverse=True)\n",
    "            sim_scores = sim_scores[1:31]\n",
    "            movie_indices = [i[0] for i in sim_scores]\n",
    "            movies = smd.iloc[movie_indices][['title', 'id']]\n",
    "            \n",
    "            if userId in df.userId.unique():\n",
    "                movies['Estimated Rating'] = movies['id'].apply(lambda x: tuned_svd.predict(userId, indices_map.loc[x]['movieId']).est)\n",
    "                movies = movies.sort_values('Estimated Rating', ascending = False)\n",
    "                print('Best Recommendations for User', userId, 'are: ')\n",
    "                return movies[['title', 'Estimated Rating']].head(10).style.hide_index()\n",
    "            else:\n",
    "                movies = pd.DataFrame(movies, columns = ['id', 'title'])\n",
    "                print('Best Recommendations for New User', userId, 'are: ')\n",
    "                return movies['title'].head(10)\n",
    "            \n",
    "    else:\n",
    "        if userId in df.userId.unique():\n",
    "            print('OOPS sorry searched movie is not present in the database but according to your previous choices')\n",
    "            return cf_recommendations(tuned_svd, userId)\n",
    "        else:\n",
    "            return 'Sorry! we cannot provide you recommendations, the userId and the movie does not exist in our database, Please try again'"
   ]
  },
  {
   "cell_type": "code",
   "execution_count": 138,
   "metadata": {},
   "outputs": [
    {
     "name": "stdout",
     "output_type": "stream",
     "text": [
      "Best Recommendations for User 1 are: \n"
     ]
    },
    {
     "data": {
      "text/html": [
       "<style  type=\"text/css\" >\n",
       "</style><table id=\"T_ae7719b4_d73b_11ec_89eb_bce92ff5db5a\" ><thead>    <tr>        <th class=\"col_heading level0 col0\" >title</th>        <th class=\"col_heading level0 col1\" >Estimated Rating</th>    </tr></thead><tbody>\n",
       "                <tr>\n",
       "                                <td id=\"T_ae7719b4_d73b_11ec_89eb_bce92ff5db5arow0_col0\" class=\"data row0 col0\" >Toy Story 3</td>\n",
       "                        <td id=\"T_ae7719b4_d73b_11ec_89eb_bce92ff5db5arow0_col1\" class=\"data row0 col1\" >3.230614</td>\n",
       "            </tr>\n",
       "            <tr>\n",
       "                                <td id=\"T_ae7719b4_d73b_11ec_89eb_bce92ff5db5arow1_col0\" class=\"data row1 col0\" >Ted 2</td>\n",
       "                        <td id=\"T_ae7719b4_d73b_11ec_89eb_bce92ff5db5arow1_col1\" class=\"data row1 col1\" >3.198127</td>\n",
       "            </tr>\n",
       "            <tr>\n",
       "                                <td id=\"T_ae7719b4_d73b_11ec_89eb_bce92ff5db5arow2_col0\" class=\"data row2 col0\" >The Lego Movie</td>\n",
       "                        <td id=\"T_ae7719b4_d73b_11ec_89eb_bce92ff5db5arow2_col1\" class=\"data row2 col1\" >3.194645</td>\n",
       "            </tr>\n",
       "            <tr>\n",
       "                                <td id=\"T_ae7719b4_d73b_11ec_89eb_bce92ff5db5arow3_col0\" class=\"data row3 col0\" >Creature Comforts</td>\n",
       "                        <td id=\"T_ae7719b4_d73b_11ec_89eb_bce92ff5db5arow3_col1\" class=\"data row3 col1\" >3.090387</td>\n",
       "            </tr>\n",
       "            <tr>\n",
       "                                <td id=\"T_ae7719b4_d73b_11ec_89eb_bce92ff5db5arow4_col0\" class=\"data row4 col0\" >Big</td>\n",
       "                        <td id=\"T_ae7719b4_d73b_11ec_89eb_bce92ff5db5arow4_col1\" class=\"data row4 col1\" >2.984964</td>\n",
       "            </tr>\n",
       "            <tr>\n",
       "                                <td id=\"T_ae7719b4_d73b_11ec_89eb_bce92ff5db5arow5_col0\" class=\"data row5 col0\" >Toy Story of Terror!</td>\n",
       "                        <td id=\"T_ae7719b4_d73b_11ec_89eb_bce92ff5db5arow5_col1\" class=\"data row5 col1\" >2.839068</td>\n",
       "            </tr>\n",
       "            <tr>\n",
       "                                <td id=\"T_ae7719b4_d73b_11ec_89eb_bce92ff5db5arow6_col0\" class=\"data row6 col0\" >The Transformers: The Movie</td>\n",
       "                        <td id=\"T_ae7719b4_d73b_11ec_89eb_bce92ff5db5arow6_col1\" class=\"data row6 col1\" >2.766230</td>\n",
       "            </tr>\n",
       "            <tr>\n",
       "                                <td id=\"T_ae7719b4_d73b_11ec_89eb_bce92ff5db5arow7_col0\" class=\"data row7 col0\" >Toy Story 2</td>\n",
       "                        <td id=\"T_ae7719b4_d73b_11ec_89eb_bce92ff5db5arow7_col1\" class=\"data row7 col1\" >2.747692</td>\n",
       "            </tr>\n",
       "            <tr>\n",
       "                                <td id=\"T_ae7719b4_d73b_11ec_89eb_bce92ff5db5arow8_col0\" class=\"data row8 col0\" >Luxo Jr.</td>\n",
       "                        <td id=\"T_ae7719b4_d73b_11ec_89eb_bce92ff5db5arow8_col1\" class=\"data row8 col1\" >2.747402</td>\n",
       "            </tr>\n",
       "            <tr>\n",
       "                                <td id=\"T_ae7719b4_d73b_11ec_89eb_bce92ff5db5arow9_col0\" class=\"data row9 col0\" >Mr. Magorium's Wonder Emporium</td>\n",
       "                        <td id=\"T_ae7719b4_d73b_11ec_89eb_bce92ff5db5arow9_col1\" class=\"data row9 col1\" >2.723968</td>\n",
       "            </tr>\n",
       "    </tbody></table>"
      ],
      "text/plain": [
       "<pandas.io.formats.style.Styler at 0x1fe8123aa00>"
      ]
     },
     "execution_count": 138,
     "metadata": {},
     "output_type": "execute_result"
    }
   ],
   "source": [
    "# both movie title and input userId both are present in the database\n",
    "hybrid(1, 'Toy Story')"
   ]
  },
  {
   "cell_type": "code",
   "execution_count": 139,
   "metadata": {},
   "outputs": [
    {
     "name": "stdout",
     "output_type": "stream",
     "text": [
      "Best Recommendations for New User 100000 are: \n"
     ]
    },
    {
     "data": {
      "text/plain": [
       "2470             Toy Story 2\n",
       "7287             Toy Story 3\n",
       "1475          Small Soldiers\n",
       "1545          Child's Play 2\n",
       "8093    Toy Story of Terror!\n",
       "6142                Luxo Jr.\n",
       "1818         Bride of Chucky\n",
       "7541                  Cars 2\n",
       "1546          Child's Play 3\n",
       "1852            A Bug's Life\n",
       "Name: title, dtype: object"
      ]
     },
     "execution_count": 139,
     "metadata": {},
     "output_type": "execute_result"
    }
   ],
   "source": [
    "# movie title is present in the database but userId is not present in the database\n",
    "hybrid(100000, 'Toy Story')"
   ]
  },
  {
   "cell_type": "code",
   "execution_count": 140,
   "metadata": {
    "colab": {
     "base_uri": "https://localhost:8080/",
     "height": 380
    },
    "id": "Hyb5WcNRdhoA",
    "outputId": "00e223fb-3b03-4ac8-d5b1-5462056ade23"
   },
   "outputs": [
    {
     "name": "stdout",
     "output_type": "stream",
     "text": [
      "OOPS sorry searched movie is not present in the database but according to your previous choices\n",
      "Best Recommended Movies for User 1 are:\n"
     ]
    },
    {
     "data": {
      "text/html": [
       "<style  type=\"text/css\" >\n",
       "</style><table id=\"T_ae9bcb81_d73b_11ec_8038_bce92ff5db5a\" ><thead>    <tr>        <th class=\"col_heading level0 col0\" >Movie Title</th>        <th class=\"col_heading level0 col1\" >Estimated Rating</th>    </tr></thead><tbody>\n",
       "                <tr>\n",
       "                                <td id=\"T_ae9bcb81_d73b_11ec_8038_bce92ff5db5arow0_col0\" class=\"data row0 col0\" >Sleepless in Seattle</td>\n",
       "                        <td id=\"T_ae9bcb81_d73b_11ec_8038_bce92ff5db5arow0_col1\" class=\"data row0 col1\" >3.501990</td>\n",
       "            </tr>\n",
       "            <tr>\n",
       "                                <td id=\"T_ae9bcb81_d73b_11ec_8038_bce92ff5db5arow1_col0\" class=\"data row1 col0\" >Backdraft</td>\n",
       "                        <td id=\"T_ae9bcb81_d73b_11ec_8038_bce92ff5db5arow1_col1\" class=\"data row1 col1\" >3.483475</td>\n",
       "            </tr>\n",
       "            <tr>\n",
       "                                <td id=\"T_ae9bcb81_d73b_11ec_8038_bce92ff5db5arow2_col0\" class=\"data row2 col0\" >Dr. Jekyll and Mr. Hyde</td>\n",
       "                        <td id=\"T_ae9bcb81_d73b_11ec_8038_bce92ff5db5arow2_col1\" class=\"data row2 col1\" >3.446307</td>\n",
       "            </tr>\n",
       "            <tr>\n",
       "                                <td id=\"T_ae9bcb81_d73b_11ec_8038_bce92ff5db5arow3_col0\" class=\"data row3 col0\" >My Darling Clementine</td>\n",
       "                        <td id=\"T_ae9bcb81_d73b_11ec_8038_bce92ff5db5arow3_col1\" class=\"data row3 col1\" >3.442757</td>\n",
       "            </tr>\n",
       "            <tr>\n",
       "                                <td id=\"T_ae9bcb81_d73b_11ec_8038_bce92ff5db5arow4_col0\" class=\"data row4 col0\" >Pandora's Box</td>\n",
       "                        <td id=\"T_ae9bcb81_d73b_11ec_8038_bce92ff5db5arow4_col1\" class=\"data row4 col1\" >3.439098</td>\n",
       "            </tr>\n",
       "            <tr>\n",
       "                                <td id=\"T_ae9bcb81_d73b_11ec_8038_bce92ff5db5arow5_col0\" class=\"data row5 col0\" >The Sugarland Express</td>\n",
       "                        <td id=\"T_ae9bcb81_d73b_11ec_8038_bce92ff5db5arow5_col1\" class=\"data row5 col1\" >3.431462</td>\n",
       "            </tr>\n",
       "            <tr>\n",
       "                                <td id=\"T_ae9bcb81_d73b_11ec_8038_bce92ff5db5arow6_col0\" class=\"data row6 col0\" >Taxi</td>\n",
       "                        <td id=\"T_ae9bcb81_d73b_11ec_8038_bce92ff5db5arow6_col1\" class=\"data row6 col1\" >3.423819</td>\n",
       "            </tr>\n",
       "            <tr>\n",
       "                                <td id=\"T_ae9bcb81_d73b_11ec_8038_bce92ff5db5arow7_col0\" class=\"data row7 col0\" >Rumble Fish</td>\n",
       "                        <td id=\"T_ae9bcb81_d73b_11ec_8038_bce92ff5db5arow7_col1\" class=\"data row7 col1\" >3.421605</td>\n",
       "            </tr>\n",
       "            <tr>\n",
       "                                <td id=\"T_ae9bcb81_d73b_11ec_8038_bce92ff5db5arow8_col0\" class=\"data row8 col0\" >License to Wed</td>\n",
       "                        <td id=\"T_ae9bcb81_d73b_11ec_8038_bce92ff5db5arow8_col1\" class=\"data row8 col1\" >3.386992</td>\n",
       "            </tr>\n",
       "            <tr>\n",
       "                                <td id=\"T_ae9bcb81_d73b_11ec_8038_bce92ff5db5arow9_col0\" class=\"data row9 col0\" >Nell</td>\n",
       "                        <td id=\"T_ae9bcb81_d73b_11ec_8038_bce92ff5db5arow9_col1\" class=\"data row9 col1\" >3.385506</td>\n",
       "            </tr>\n",
       "    </tbody></table>"
      ],
      "text/plain": [
       "<pandas.io.formats.style.Styler at 0x1fe9aa97280>"
      ]
     },
     "execution_count": 140,
     "metadata": {},
     "output_type": "execute_result"
    }
   ],
   "source": [
    "# movie title is not present in the database but userId is present in the database\n",
    "hybrid(1, 'T')"
   ]
  },
  {
   "cell_type": "code",
   "execution_count": 141,
   "metadata": {
    "colab": {
     "base_uri": "https://localhost:8080/",
     "height": 380
    },
    "id": "310k70GEpreK",
    "outputId": "1055c555-402b-4a8a-d7e7-a1c5b9b8ae5b"
   },
   "outputs": [
    {
     "data": {
      "text/plain": [
       "'Sorry! we cannot provide you recommendations, the userId and the movie does not exist in our database, Please try again'"
      ]
     },
     "execution_count": 141,
     "metadata": {},
     "output_type": "execute_result"
    }
   ],
   "source": [
    "# Neither movie title nor userId present in the database\n",
    "hybrid(50000, 'T')"
   ]
  },
  {
   "cell_type": "code",
   "execution_count": null,
   "metadata": {
    "id": "i9Tjy9nVXeRK"
   },
   "outputs": [],
   "source": []
  }
 ],
 "metadata": {
  "colab": {
   "collapsed_sections": [
    "QDgY3AR1TtkC",
    "d6rBcpaRTL7s",
    "_m_QCsSm-CQM",
    "d2HluYKDXB0v"
   ],
   "name": "Final_Code.ipynb",
   "provenance": []
  },
  "kernelspec": {
   "display_name": "Python 3",
   "language": "python",
   "name": "python3"
  },
  "language_info": {
   "codemirror_mode": {
    "name": "ipython",
    "version": 3
   },
   "file_extension": ".py",
   "mimetype": "text/x-python",
   "name": "python",
   "nbconvert_exporter": "python",
   "pygments_lexer": "ipython3",
   "version": "3.8.3"
  }
 },
 "nbformat": 4,
 "nbformat_minor": 1
}
